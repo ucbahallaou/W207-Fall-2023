{
 "cells": [
  {
   "cell_type": "markdown",
   "metadata": {
    "id": "MKsRDH5ZUdfasdv"
   },
   "source": [
    "# Lab 4"
   ]
  },
  {
   "cell_type": "markdown",
   "metadata": {},
   "source": [
    "### <span style=\"color:chocolate\"> Submission requirements </span>\n",
    "\n",
    "Additional points may be deducted if these requirements are not met:\n",
    "    \n",
    "* Comment your code\n",
    "* Each graph should have a title, labels for each axis, and (if needed) a legend. Each graph should be understandable on its own\n",
    "* Be sure your submitted notebook includes the output of your run (Hint: go to Kernel -> Restart Kernel and Run All Cells...)\n",
    "* Try and minimize the use of the global namespace (meaning, keep things inside functions)\n",
    "* Upload your .ipynb file to Gradescope when done\n",
    "---"
   ]
  },
  {
   "cell_type": "markdown",
   "metadata": {
    "id": "43534tdfgs-v"
   },
   "source": [
    "In this lab we will train classifiers for images using [logistic regression](https://en.wikipedia.org/wiki/Logistic_regression) and Tensorflow."
   ]
  },
  {
   "cell_type": "code",
   "execution_count": 1,
   "metadata": {
    "id": "7X58hOMTUH-w"
   },
   "outputs": [
    {
     "name": "stdout",
     "output_type": "stream",
     "text": [
      "Intel MKL WARNING: Support of Intel(R) Streaming SIMD Extensions 4.2 (Intel(R) SSE4.2) enabled only processors has been deprecated. Intel oneAPI Math Kernel Library 2025.0 will require Intel(R) Advanced Vector Extensions (Intel(R) AVX) instructions.\n",
      "Intel MKL WARNING: Support of Intel(R) Streaming SIMD Extensions 4.2 (Intel(R) SSE4.2) enabled only processors has been deprecated. Intel oneAPI Math Kernel Library 2025.0 will require Intel(R) Advanced Vector Extensions (Intel(R) AVX) instructions.\n"
     ]
    },
    {
     "name": "stderr",
     "output_type": "stream",
     "text": [
      "2023-09-24 14:18:41.188744: I tensorflow/core/platform/cpu_feature_guard.cc:182] This TensorFlow binary is optimized to use available CPU instructions in performance-critical operations.\n",
      "To enable the following instructions: SSE4.1 SSE4.2, in other operations, rebuild TensorFlow with the appropriate compiler flags.\n"
     ]
    }
   ],
   "source": [
    "# Import the libraries we'll use below.\n",
    "import numpy as np\n",
    "from matplotlib import pyplot as plt\n",
    "import pandas as pd\n",
    "import seaborn as sns  # for nicer plots\n",
    "sns.set(style=\"darkgrid\")  # default style\n",
    "\n",
    "import tensorflow as tf\n",
    "from tensorflow import keras\n",
    "from keras import metrics\n",
    "tf.get_logger().setLevel('INFO')"
   ]
  },
  {
   "cell_type": "markdown",
   "metadata": {
    "id": "rHLcriKWLRe4"
   },
   "source": [
    "## Understanding the data\n",
    "We'll train models on the [Fashion MNIST](https://github.com/zalandoresearch/fashion-mnist) dataset. This consists of 70,000 grayscale images (28x28). Each image is associated with 1 of 10 classes. The dataset was split by the creators; there are 60,000 training images and 10,000 test images. \n",
    "\n",
    "Fashion MNIST classes:\n",
    "* T-shirt/top\n",
    "* Trouser\n",
    "* Pullover\n",
    "* Dress\n",
    "* Coat\n",
    "* Sandal\n",
    "* Shirt\n",
    "* Sneaker\n",
    "* Bag\n",
    "* Ankle boot\n",
    "\n",
    "Before doing any training (or evaluating), let's make sure we understand what we're working with. "
   ]
  },
  {
   "cell_type": "markdown",
   "metadata": {
    "id": "load_auto_data_set_text"
   },
   "source": [
    "### Load the data\n",
    "Tensorflow includes a growing [library of datasets](https://www.tensorflow.org/datasets/catalog/overview) and makes it easy to load them in numpy arrays."
   ]
  },
  {
   "cell_type": "code",
   "execution_count": 2,
   "metadata": {
    "id": "load_auto_data_set_code"
   },
   "outputs": [
    {
     "name": "stdout",
     "output_type": "stream",
     "text": [
      "Downloading data from https://storage.googleapis.com/tensorflow/tf-keras-datasets/train-labels-idx1-ubyte.gz\n",
      "29515/29515 [==============================] - 3s 102us/step\n",
      "Downloading data from https://storage.googleapis.com/tensorflow/tf-keras-datasets/train-images-idx3-ubyte.gz\n",
      "26421880/26421880 [==============================] - 23s 1us/step\n",
      "Downloading data from https://storage.googleapis.com/tensorflow/tf-keras-datasets/t10k-labels-idx1-ubyte.gz\n",
      "5148/5148 [==============================] - 0s 0us/step\n",
      "Downloading data from https://storage.googleapis.com/tensorflow/tf-keras-datasets/t10k-images-idx3-ubyte.gz\n",
      "4422102/4422102 [==============================] - 1s 0us/step\n"
     ]
    }
   ],
   "source": [
    "from keras.datasets import fashion_mnist\n",
    "\n",
    "# Load the Fashion MNIST dataset.\n",
    "(X_train, Y_train), (X_test, Y_test) = fashion_mnist.load_data()\n",
    "\n",
    "# Flatten Y_train and Y_test, so they become vectors of label values.\n",
    "# The label for X_train[0] is in Y_train[0].\n",
    "Y_train = Y_train.flatten()\n",
    "Y_test = Y_test.flatten()"
   ]
  },
  {
   "cell_type": "code",
   "execution_count": 105,
   "metadata": {},
   "outputs": [
    {
     "data": {
      "text/plain": [
       "array([[0.        , 0.        , 0.        , 0.        , 0.        ,\n",
       "        0.        , 0.        , 0.        , 0.        , 0.        ,\n",
       "        0.        , 0.        , 0.        , 0.        , 0.        ,\n",
       "        0.        , 0.        , 0.        , 0.        , 0.        ,\n",
       "        0.        , 0.        , 0.        , 0.        , 0.        ,\n",
       "        0.        , 0.        , 0.        ],\n",
       "       [0.        , 0.        , 0.        , 0.        , 0.        ,\n",
       "        0.        , 0.        , 0.        , 0.        , 0.        ,\n",
       "        0.        , 0.        , 0.        , 0.        , 0.        ,\n",
       "        0.        , 0.        , 0.        , 0.        , 0.        ,\n",
       "        0.        , 0.        , 0.        , 0.        , 0.        ,\n",
       "        0.        , 0.        , 0.        ],\n",
       "       [0.        , 0.        , 0.        , 0.        , 0.        ,\n",
       "        0.        , 0.        , 0.        , 0.        , 0.        ,\n",
       "        0.        , 0.        , 0.        , 0.        , 0.        ,\n",
       "        0.        , 0.        , 0.        , 0.        , 0.        ,\n",
       "        0.        , 0.        , 0.        , 0.        , 0.        ,\n",
       "        0.        , 0.        , 0.        ],\n",
       "       [0.        , 0.        , 0.        , 0.        , 0.        ,\n",
       "        0.        , 0.        , 0.        , 0.        , 0.        ,\n",
       "        0.        , 0.        , 0.00392157, 0.        , 0.        ,\n",
       "        0.05098039, 0.28627451, 0.        , 0.        , 0.00392157,\n",
       "        0.01568627, 0.        , 0.        , 0.        , 0.        ,\n",
       "        0.00392157, 0.00392157, 0.        ],\n",
       "       [0.        , 0.        , 0.        , 0.        , 0.        ,\n",
       "        0.        , 0.        , 0.        , 0.        , 0.        ,\n",
       "        0.        , 0.        , 0.01176471, 0.        , 0.14117647,\n",
       "        0.53333333, 0.49803922, 0.24313725, 0.21176471, 0.        ,\n",
       "        0.        , 0.        , 0.00392157, 0.01176471, 0.01568627,\n",
       "        0.        , 0.        , 0.01176471],\n",
       "       [0.        , 0.        , 0.        , 0.        , 0.        ,\n",
       "        0.        , 0.        , 0.        , 0.        , 0.        ,\n",
       "        0.        , 0.        , 0.02352941, 0.        , 0.4       ,\n",
       "        0.8       , 0.69019608, 0.5254902 , 0.56470588, 0.48235294,\n",
       "        0.09019608, 0.        , 0.        , 0.        , 0.        ,\n",
       "        0.04705882, 0.03921569, 0.        ],\n",
       "       [0.        , 0.        , 0.        , 0.        , 0.        ,\n",
       "        0.        , 0.        , 0.        , 0.        , 0.        ,\n",
       "        0.        , 0.        , 0.        , 0.        , 0.60784314,\n",
       "        0.9254902 , 0.81176471, 0.69803922, 0.41960784, 0.61176471,\n",
       "        0.63137255, 0.42745098, 0.25098039, 0.09019608, 0.30196078,\n",
       "        0.50980392, 0.28235294, 0.05882353],\n",
       "       [0.        , 0.        , 0.        , 0.        , 0.        ,\n",
       "        0.        , 0.        , 0.        , 0.        , 0.        ,\n",
       "        0.        , 0.00392157, 0.        , 0.27058824, 0.81176471,\n",
       "        0.8745098 , 0.85490196, 0.84705882, 0.84705882, 0.63921569,\n",
       "        0.49803922, 0.4745098 , 0.47843137, 0.57254902, 0.55294118,\n",
       "        0.34509804, 0.6745098 , 0.25882353],\n",
       "       [0.        , 0.        , 0.        , 0.        , 0.        ,\n",
       "        0.        , 0.        , 0.        , 0.        , 0.00392157,\n",
       "        0.00392157, 0.00392157, 0.        , 0.78431373, 0.90980392,\n",
       "        0.90980392, 0.91372549, 0.89803922, 0.8745098 , 0.8745098 ,\n",
       "        0.84313725, 0.83529412, 0.64313725, 0.49803922, 0.48235294,\n",
       "        0.76862745, 0.89803922, 0.        ],\n",
       "       [0.        , 0.        , 0.        , 0.        , 0.        ,\n",
       "        0.        , 0.        , 0.        , 0.        , 0.        ,\n",
       "        0.        , 0.        , 0.        , 0.71764706, 0.88235294,\n",
       "        0.84705882, 0.8745098 , 0.89411765, 0.92156863, 0.89019608,\n",
       "        0.87843137, 0.87058824, 0.87843137, 0.86666667, 0.8745098 ,\n",
       "        0.96078431, 0.67843137, 0.        ],\n",
       "       [0.        , 0.        , 0.        , 0.        , 0.        ,\n",
       "        0.        , 0.        , 0.        , 0.        , 0.        ,\n",
       "        0.        , 0.        , 0.        , 0.75686275, 0.89411765,\n",
       "        0.85490196, 0.83529412, 0.77647059, 0.70588235, 0.83137255,\n",
       "        0.82352941, 0.82745098, 0.83529412, 0.8745098 , 0.8627451 ,\n",
       "        0.95294118, 0.79215686, 0.        ],\n",
       "       [0.        , 0.        , 0.        , 0.        , 0.        ,\n",
       "        0.        , 0.        , 0.        , 0.        , 0.00392157,\n",
       "        0.01176471, 0.        , 0.04705882, 0.85882353, 0.8627451 ,\n",
       "        0.83137255, 0.85490196, 0.75294118, 0.6627451 , 0.89019608,\n",
       "        0.81568627, 0.85490196, 0.87843137, 0.83137255, 0.88627451,\n",
       "        0.77254902, 0.81960784, 0.20392157],\n",
       "       [0.        , 0.        , 0.        , 0.        , 0.        ,\n",
       "        0.        , 0.        , 0.        , 0.        , 0.        ,\n",
       "        0.02352941, 0.        , 0.38823529, 0.95686275, 0.87058824,\n",
       "        0.8627451 , 0.85490196, 0.79607843, 0.77647059, 0.86666667,\n",
       "        0.84313725, 0.83529412, 0.87058824, 0.8627451 , 0.96078431,\n",
       "        0.46666667, 0.65490196, 0.21960784],\n",
       "       [0.        , 0.        , 0.        , 0.        , 0.        ,\n",
       "        0.        , 0.        , 0.        , 0.        , 0.01568627,\n",
       "        0.        , 0.        , 0.21568627, 0.9254902 , 0.89411765,\n",
       "        0.90196078, 0.89411765, 0.94117647, 0.90980392, 0.83529412,\n",
       "        0.85490196, 0.8745098 , 0.91764706, 0.85098039, 0.85098039,\n",
       "        0.81960784, 0.36078431, 0.        ],\n",
       "       [0.        , 0.        , 0.00392157, 0.01568627, 0.02352941,\n",
       "        0.02745098, 0.00784314, 0.        , 0.        , 0.        ,\n",
       "        0.        , 0.        , 0.92941176, 0.88627451, 0.85098039,\n",
       "        0.8745098 , 0.87058824, 0.85882353, 0.87058824, 0.86666667,\n",
       "        0.84705882, 0.8745098 , 0.89803922, 0.84313725, 0.85490196,\n",
       "        1.        , 0.30196078, 0.        ],\n",
       "       [0.        , 0.01176471, 0.        , 0.        , 0.        ,\n",
       "        0.        , 0.        , 0.        , 0.        , 0.24313725,\n",
       "        0.56862745, 0.8       , 0.89411765, 0.81176471, 0.83529412,\n",
       "        0.86666667, 0.85490196, 0.81568627, 0.82745098, 0.85490196,\n",
       "        0.87843137, 0.8745098 , 0.85882353, 0.84313725, 0.87843137,\n",
       "        0.95686275, 0.62352941, 0.        ],\n",
       "       [0.        , 0.        , 0.        , 0.        , 0.07058824,\n",
       "        0.17254902, 0.32156863, 0.41960784, 0.74117647, 0.89411765,\n",
       "        0.8627451 , 0.87058824, 0.85098039, 0.88627451, 0.78431373,\n",
       "        0.80392157, 0.82745098, 0.90196078, 0.87843137, 0.91764706,\n",
       "        0.69019608, 0.7372549 , 0.98039216, 0.97254902, 0.91372549,\n",
       "        0.93333333, 0.84313725, 0.        ],\n",
       "       [0.        , 0.22352941, 0.73333333, 0.81568627, 0.87843137,\n",
       "        0.86666667, 0.87843137, 0.81568627, 0.8       , 0.83921569,\n",
       "        0.81568627, 0.81960784, 0.78431373, 0.62352941, 0.96078431,\n",
       "        0.75686275, 0.80784314, 0.8745098 , 1.        , 1.        ,\n",
       "        0.86666667, 0.91764706, 0.86666667, 0.82745098, 0.8627451 ,\n",
       "        0.90980392, 0.96470588, 0.        ],\n",
       "       [0.01176471, 0.79215686, 0.89411765, 0.87843137, 0.86666667,\n",
       "        0.82745098, 0.82745098, 0.83921569, 0.80392157, 0.80392157,\n",
       "        0.80392157, 0.8627451 , 0.94117647, 0.31372549, 0.58823529,\n",
       "        1.        , 0.89803922, 0.86666667, 0.7372549 , 0.60392157,\n",
       "        0.74901961, 0.82352941, 0.8       , 0.81960784, 0.87058824,\n",
       "        0.89411765, 0.88235294, 0.        ],\n",
       "       [0.38431373, 0.91372549, 0.77647059, 0.82352941, 0.87058824,\n",
       "        0.89803922, 0.89803922, 0.91764706, 0.97647059, 0.8627451 ,\n",
       "        0.76078431, 0.84313725, 0.85098039, 0.94509804, 0.25490196,\n",
       "        0.28627451, 0.41568627, 0.45882353, 0.65882353, 0.85882353,\n",
       "        0.86666667, 0.84313725, 0.85098039, 0.8745098 , 0.8745098 ,\n",
       "        0.87843137, 0.89803922, 0.11372549],\n",
       "       [0.29411765, 0.8       , 0.83137255, 0.8       , 0.75686275,\n",
       "        0.80392157, 0.82745098, 0.88235294, 0.84705882, 0.7254902 ,\n",
       "        0.77254902, 0.80784314, 0.77647059, 0.83529412, 0.94117647,\n",
       "        0.76470588, 0.89019608, 0.96078431, 0.9372549 , 0.8745098 ,\n",
       "        0.85490196, 0.83137255, 0.81960784, 0.87058824, 0.8627451 ,\n",
       "        0.86666667, 0.90196078, 0.2627451 ],\n",
       "       [0.18823529, 0.79607843, 0.71764706, 0.76078431, 0.83529412,\n",
       "        0.77254902, 0.7254902 , 0.74509804, 0.76078431, 0.75294118,\n",
       "        0.79215686, 0.83921569, 0.85882353, 0.86666667, 0.8627451 ,\n",
       "        0.9254902 , 0.88235294, 0.84705882, 0.78039216, 0.80784314,\n",
       "        0.72941176, 0.70980392, 0.69411765, 0.6745098 , 0.70980392,\n",
       "        0.80392157, 0.80784314, 0.45098039],\n",
       "       [0.        , 0.47843137, 0.85882353, 0.75686275, 0.70196078,\n",
       "        0.67058824, 0.71764706, 0.76862745, 0.8       , 0.82352941,\n",
       "        0.83529412, 0.81176471, 0.82745098, 0.82352941, 0.78431373,\n",
       "        0.76862745, 0.76078431, 0.74901961, 0.76470588, 0.74901961,\n",
       "        0.77647059, 0.75294118, 0.69019608, 0.61176471, 0.65490196,\n",
       "        0.69411765, 0.82352941, 0.36078431],\n",
       "       [0.        , 0.        , 0.29019608, 0.74117647, 0.83137255,\n",
       "        0.74901961, 0.68627451, 0.6745098 , 0.68627451, 0.70980392,\n",
       "        0.7254902 , 0.7372549 , 0.74117647, 0.7372549 , 0.75686275,\n",
       "        0.77647059, 0.8       , 0.81960784, 0.82352941, 0.82352941,\n",
       "        0.82745098, 0.7372549 , 0.7372549 , 0.76078431, 0.75294118,\n",
       "        0.84705882, 0.66666667, 0.        ],\n",
       "       [0.00784314, 0.        , 0.        , 0.        , 0.25882353,\n",
       "        0.78431373, 0.87058824, 0.92941176, 0.9372549 , 0.94901961,\n",
       "        0.96470588, 0.95294118, 0.95686275, 0.86666667, 0.8627451 ,\n",
       "        0.75686275, 0.74901961, 0.70196078, 0.71372549, 0.71372549,\n",
       "        0.70980392, 0.69019608, 0.65098039, 0.65882353, 0.38823529,\n",
       "        0.22745098, 0.        , 0.        ],\n",
       "       [0.        , 0.        , 0.        , 0.        , 0.        ,\n",
       "        0.        , 0.        , 0.15686275, 0.23921569, 0.17254902,\n",
       "        0.28235294, 0.16078431, 0.1372549 , 0.        , 0.        ,\n",
       "        0.        , 0.        , 0.        , 0.        , 0.        ,\n",
       "        0.        , 0.        , 0.        , 0.        , 0.        ,\n",
       "        0.        , 0.        , 0.        ],\n",
       "       [0.        , 0.        , 0.        , 0.        , 0.        ,\n",
       "        0.        , 0.        , 0.        , 0.        , 0.        ,\n",
       "        0.        , 0.        , 0.        , 0.        , 0.        ,\n",
       "        0.        , 0.        , 0.        , 0.        , 0.        ,\n",
       "        0.        , 0.        , 0.        , 0.        , 0.        ,\n",
       "        0.        , 0.        , 0.        ],\n",
       "       [0.        , 0.        , 0.        , 0.        , 0.        ,\n",
       "        0.        , 0.        , 0.        , 0.        , 0.        ,\n",
       "        0.        , 0.        , 0.        , 0.        , 0.        ,\n",
       "        0.        , 0.        , 0.        , 0.        , 0.        ,\n",
       "        0.        , 0.        , 0.        , 0.        , 0.        ,\n",
       "        0.        , 0.        , 0.        ]])"
      ]
     },
     "execution_count": 105,
     "metadata": {},
     "output_type": "execute_result"
    }
   ],
   "source": [
    "X_train[0]"
   ]
  },
  {
   "cell_type": "markdown",
   "metadata": {
    "id": "Eg9mUz9zcIil"
   },
   "source": [
    "### Basic Analysis\n",
    "Notice that `X_train`, `Y_train`, `X_test`, and `Y_test` are all numpy arrays. Let's print their shapes to confirm."
   ]
  },
  {
   "cell_type": "code",
   "execution_count": 3,
   "metadata": {
    "id": "H6jGmsYAdKEK"
   },
   "outputs": [
    {
     "name": "stdout",
     "output_type": "stream",
     "text": [
      "X_train.shape: (60000, 28, 28)\n",
      "Y_train.shape: (60000,)\n",
      "X_test.shape: (10000, 28, 28)\n",
      "Y_test.shape: (10000,)\n"
     ]
    }
   ],
   "source": [
    "print(\"X_train.shape:\", X_train.shape)\n",
    "print(\"Y_train.shape:\", Y_train.shape)\n",
    "print(\"X_test.shape:\", X_test.shape)\n",
    "print(\"Y_test.shape:\", Y_test.shape)"
   ]
  },
  {
   "cell_type": "markdown",
   "metadata": {
    "id": "fDeim44-dler"
   },
   "source": [
    "Notice that there are 60,000 instances in `X_train`. Each of these is a grayscale image represented by an 28-by-28 array of grayscale pixel values between 0 and 255 (the larger the value, the lighter the pixel). Before we continue, let's apply linear scaling to our pixel values, so they all fall between 0 and 1."
   ]
  },
  {
   "cell_type": "code",
   "execution_count": 4,
   "metadata": {
    "id": "wXukkWBWdlGj"
   },
   "outputs": [],
   "source": [
    "# Pixel values range from 0 to 255. To normalize the data, \n",
    "# we just need to divide all values by 255.\n",
    "X_train = X_train / 255\n",
    "X_test = X_test / 255"
   ]
  },
  {
   "cell_type": "markdown",
   "metadata": {
    "id": "oWsOQ3tbCOA7"
   },
   "source": [
    "In the previous lab, our input data had just a few features. Here, we treat **every pixel value as a separate feature**, so each input example has 28x28 (784) features!\n",
    "\n",
    "Fashion MNIST images have one of 10 possible labels (shown above). Since the labels are indices 0-9, let's keep a list of (string) names for convenience."
   ]
  },
  {
   "cell_type": "code",
   "execution_count": 5,
   "metadata": {
    "id": "cZpFxxStzSrP"
   },
   "outputs": [],
   "source": [
    "label_names = ['t-shirt', 'trouser', 'pullover', 'dress', 'coat',\n",
    "               'sandal', 'shirt', 'sneaker', 'bag', 'ankle boot']"
   ]
  },
  {
   "cell_type": "markdown",
   "metadata": {
    "id": "c5aXeK2VznCW"
   },
   "source": [
    "Next let's use the `imshow` function to look at the first few images in the training set."
   ]
  },
  {
   "cell_type": "code",
   "execution_count": 27,
   "metadata": {
    "id": "7mfV9b4I7cMW"
   },
   "outputs": [
    {
     "data": {
      "image/png": "[encoded data removed]",
      "text/plain": [
       "<Figure size 1000x500 with 5 Axes>"
      ]
     },
     "metadata": {},
     "output_type": "display_data"
    }
   ],
   "source": [
    "# Create a figure with subplots. This returns a list of object handles in axs\n",
    "# which we can use to populate the plots.\n",
    "fig, axs = plt.subplots(nrows=1, ncols=5, figsize=(10,5))\n",
    "for i in range(5):\n",
    "  image = X_train[i]\n",
    "  label = Y_train[i]\n",
    "  label_name = label_names[label]\n",
    "  axs[i].imshow(image, cmap='gray')\n",
    "  axs[i].set_title(label_name)\n",
    "  axs[i].axis('off')\n",
    "plt.show()"
   ]
  },
  {
   "cell_type": "markdown",
   "metadata": {
    "id": "aFx7Ts3b6N6d"
   },
   "source": [
    "---\n",
    "### Exercise 1 (8 points)\n",
    "\n",
    "Display the first 5 images for each class in a 10x5 grid."
   ]
  },
  {
   "cell_type": "code",
   "execution_count": 26,
   "metadata": {
    "id": "HJtwrjdO6TbS"
   },
   "outputs": [
    {
     "data": {
      "image/png": "[encoded data removed]",
      "text/plain": [
       "<Figure size 1000x500 with 50 Axes>"
      ]
     },
     "metadata": {},
     "output_type": "display_data"
    }
   ],
   "source": [
    "# YOUR CODE HERE\n",
    "fig, axs = plt.subplots(nrows=10, ncols=5, figsize=(10,5))\n",
    "for j in range(10):\n",
    "  for i in range(5):\n",
    "    image = X_train[i+j]\n",
    "    label = Y_train[i+j]\n",
    "    label_name = label_names[label]\n",
    "    axs[j][i].imshow(image, cmap='gray')\n",
    "    axs[j][i].set_title(label_name)\n",
    "    axs[j][i].axis('off')\n",
    "plt.show()"
   ]
  },
  {
   "cell_type": "markdown",
   "metadata": {
    "id": "xxOhpvdW6TbX"
   },
   "source": [
    "---"
   ]
  },
  {
   "cell_type": "markdown",
   "metadata": {
    "id": "qNvSx5tybqMR"
   },
   "source": [
    "## Sneaker Classification\n",
    "There are many things we can do with this dataset. Following our lectures, let's start with binary classification. We'll train a sneaker classifier, using sneaker images (class 7) as our positive examples ($y=1$) and all other images as negative examples ($y=0$).\n",
    "\n",
    "Once we've trained a model, it will produce predictions $\\hat{y}$, the probability that an input image $x$ is a sneaker."
   ]
  },
  {
   "cell_type": "markdown",
   "metadata": {
    "id": "DvcJJ_rUifF2"
   },
   "source": [
    "### Data Preprocessing\n",
    "Before we continue, we need to prepare the data for our binary classification task. The label for all the sneaker images should be 1 and the label for all the non-sneaker images should be 0. \n",
    "\n",
    "Programming note: Numpy allows us to perform what is called [boolean array indexing](https://docs.scipy.org/doc/numpy/reference/arrays.indexing.html#boolean-array-indexing).\n",
    "This means that a numpy array $A$ can be be modified according to boolean conditions in a matching sized array $B$ \n",
    "as follows: $A[B]$.\n",
    "We use this indexing to efficiently set our binary labels below."
   ]
  },
  {
   "cell_type": "code",
   "execution_count": 28,
   "metadata": {
    "id": "3webN4USifuB"
   },
   "outputs": [],
   "source": [
    "# Make copies of the original dataset for binary classification task.\n",
    "X_train_binary = np.copy(X_train)\n",
    "X_test_binary = np.copy(X_test)\n",
    "Y_train_binary = np.copy(Y_train)\n",
    "Y_test_binary = np.copy(Y_test)\n",
    "\n",
    "# Set labels: 1 for sneaker images, 0 for the others.\n",
    "# Note that a boolean array is created when Y_train_binary != 7 is evaluated.\n",
    "Y_train_binary[Y_train_binary != 7] = 0.0 \n",
    "Y_train_binary[Y_train_binary == 7] = 1.0\n",
    "Y_test_binary[Y_test_binary != 7] = 0.0\n",
    "Y_test_binary[Y_test_binary == 7] = 1.0"
   ]
  },
  {
   "cell_type": "markdown",
   "metadata": {
    "id": "84idQ2_Mm8w-"
   },
   "source": [
    "---\n",
    "### Exercise 2 (8 points)"
   ]
  },
  {
   "cell_type": "markdown",
   "metadata": {},
   "source": [
    "\n",
    "Before training any models, let's work some more with our raw feature values, comparing sneaker and non-sneaker images.\n",
    "\n",
    "1. Find all sneaker images in `X_train_binary` and compute the mean and standard deviation of the center pixel across all sneaker images. The center pixel is located at position [14, 14].\n",
    "\n",
    "2.   Find all non-sneaker images in `X_train_binary` and compute the mean and standard deviation of the center pixel  across all non-sneaker images. The center pixel is located at position [14, 14].\n",
    "\n",
    "3. Repeat 1 and 2 for the pixel located at positon [3, 14].\n",
    "\n",
    "4. Based on your results, do you think there is some evidence that suggests that we can use pixel values to discriminate between sneaker and non-sneaker images? Justify your answer."
   ]
  },
  {
   "cell_type": "code",
   "execution_count": 58,
   "metadata": {
    "id": "FblS-OVmns4a"
   },
   "outputs": [
    {
     "name": "stdout",
     "output_type": "stream",
     "text": [
      "The mean center for sneaker images is: 0.6279993464052288\n",
      "The standard deviation for the center of sneaker images is: 0.2420192071490903\n",
      "The mean center for non sneaker images is: 0.5365848220769789\n",
      "The standard deviation for the center of non sneaker images is: 0.31489747339469804\n",
      "\n",
      "The mean for the pixel position [3,14] in sneaker images is: 0.0012503267973856208\n",
      "The standard deviation for the pixel position [3,14] of sneaker images is: 0.02829347092206015\n",
      "The mean for the pixel position [3,14] non sneaker images is: 0.46437283950617286\n",
      "The standard deviation for the pixel position [3,14] of non sneaker images is: 0.3678363831207802\n"
     ]
    }
   ],
   "source": [
    "# YOUR CODE HERE (1-3)\n",
    "shoe_pos = [i for i,x in enumerate(Y_train_binary) if x == 1]\n",
    "non_shoe_pos = [i for i,x in enumerate(Y_train_binary) if x != 1]\n",
    "center_shoe_arr = []\n",
    "center_non_shoe_arr = []\n",
    "other_pos_shoe_arr = []\n",
    "other_pos_non_shoe_arr = []\n",
    "for i in shoe_pos:\n",
    "    center_shoe_arr.append(X_train_binary[i][14][14])\n",
    "    other_pos_shoe_arr.append(X_train_binary[i][3][14])\n",
    "for i in non_shoe_pos:\n",
    "    center_non_shoe_arr.append(X_train_binary[i][14][14])\n",
    "    other_pos_non_shoe_arr.append(X_train_binary[i][3][14])\n",
    "center_shoe_arr = np.array(center_shoe_arr)\n",
    "center_non_shoe_arr = np.array(center_non_shoe_arr)\n",
    "other_pos_shoe_arr = np.array(other_pos_shoe_arr)\n",
    "other_pos_non_shoe_arr = np.array(other_pos_non_shoe_arr)\n",
    "\n",
    "print('The mean center for sneaker images is:',center_shoe_arr.mean())\n",
    "print('The standard deviation for the center of sneaker images is:', center_shoe_arr.std())\n",
    "print('The mean center for non sneaker images is:',center_non_shoe_arr.mean())\n",
    "print('The standard deviation for the center of non sneaker images is:', center_non_shoe_arr.std())\n",
    "print()\n",
    "print('The mean for the pixel position [3,14] in sneaker images is:',other_pos_shoe_arr.mean())\n",
    "print('The standard deviation for the pixel position [3,14] of sneaker images is:', other_pos_shoe_arr.std())\n",
    "print('The mean for the pixel position [3,14] non sneaker images is:',other_pos_non_shoe_arr.mean())\n",
    "print('The standard deviation for the pixel position [3,14] of non sneaker images is:', other_pos_non_shoe_arr.std())"
   ]
  },
  {
   "attachments": {},
   "cell_type": "markdown",
   "metadata": {
    "id": "j9EH9D7Faf9n"
   },
   "source": [
    "*Written answer:*\n",
    "\n",
    "1. The mean for the center pixel in sneaker images is 0.6380 and the standard deviation is 0.2420. (Center Pixel)\n",
    "\n",
    "2. The mean for the center pixel in non sneaker images is 0.5366 and standard deviation is 0.3150. (Center Pixel)\n",
    "\n",
    "3. The mean for pixel position [3,14] in sneaker images is 0.0013, and standard deviation 0.0283. The mean for pixel position [3,14] in non sneaker images is 0.4637, and standard deviation is 0.3678.\n",
    "\n",
    "4.  Using a t-test as evidence, there is some evidence to suggest that we can use pixel values to discriminate between images of sneakers and non sneakers. Using the center pixel image for each population, the t_test resulted in a p-value of 8.65 which indicates no statistical difference in the populations. However using the pixel position [3,14] there was a statistical difference in the populations with a p-value of 0. This indicates that depending on the pixel position used, you can differentiate between images.\n"
   ]
  },
  {
   "cell_type": "code",
   "execution_count": 59,
   "metadata": {},
   "outputs": [
    {
     "data": {
      "text/plain": [
       "TtestResult(statistic=21.782648840795954, pvalue=8.650774967465627e-105, df=59998.0)"
      ]
     },
     "execution_count": 59,
     "metadata": {},
     "output_type": "execute_result"
    }
   ],
   "source": [
    "from scipy.stats import ttest_ind\n",
    "ttest_ind(center_shoe_arr,center_non_shoe_arr)\n"
   ]
  },
  {
   "cell_type": "code",
   "execution_count": 61,
   "metadata": {},
   "outputs": [
    {
     "data": {
      "text/plain": [
       "TtestResult(statistic=-97.49153163503786, pvalue=0.0, df=59998.0)"
      ]
     },
     "execution_count": 61,
     "metadata": {},
     "output_type": "execute_result"
    }
   ],
   "source": [
    "ttest_ind(other_pos_shoe_arr,other_pos_non_shoe_arr)"
   ]
  },
  {
   "cell_type": "markdown",
   "metadata": {
    "id": "D35qqLaPd1jk"
   },
   "source": [
    "---"
   ]
  },
  {
   "cell_type": "markdown",
   "metadata": {
    "id": "br_TAXD7p5gQ"
   },
   "source": [
    "### Data Shuffling\n",
    "Just like in the previous lab, we'll be using SGD (Stochastic Gradient Descent) for training. This means that it is important that **each batch is a random sample of the data**.\n",
    "\n",
    "This time we can use [integer array indexing](https://numpy.org/doc/stable/reference/arrays.indexing.html#integer-array-indexing) to re-order the data and labels using a list of shuffled indices."
   ]
  },
  {
   "cell_type": "code",
   "execution_count": 63,
   "metadata": {
    "id": "sNryj_kGq8vV"
   },
   "outputs": [],
   "source": [
    "np.random.seed(0) # For reproducibility\n",
    "\n",
    "indices = np.arange(X_train_binary.shape[0])\n",
    "shuffled_indices = np.random.permutation(indices)\n",
    "\n",
    "# Re-order training examples and corresponding labels using the randomly\n",
    "# shuffled indices.\n",
    "X_train_binary = X_train_binary[shuffled_indices]\n",
    "Y_train_binary = Y_train_binary[shuffled_indices]"
   ]
  },
  {
   "cell_type": "markdown",
   "metadata": {
    "id": "E01QY9SRpwPE"
   },
   "source": [
    "## Logistic Regression\n",
    "\n",
    "Recall that logistic regression is an application of the logistic (sigmoid) function to the linear regression model:\n",
    "\n",
    "\\begin{equation}\n",
    "y=\\frac{1}{1+e^{-z}} \n",
    "\\end{equation}\n",
    "\n",
    "<center>\n",
    "<img src=\"https://developers.google.com/machine-learning/crash-course/images/SigmoidFunction.png\" alt=\"Sigmoid Function\" width=\"45%\"/>\n",
    "</center>\n",
    "\n",
    "where:\n",
    "\n",
    "\\begin{equation}\n",
    "z = b + w_1x_1 + w_2x_2 + ... + w_nx_n\n",
    "\\end{equation}\n",
    "\n",
    "As you can see, the output $y$ is in the range $[0,1]$, the probability of the positive class. If we want a label (instead of a probability), we need to choose a threshold, like $0.5$. A value above or equal to that threshold indicates that the input should be classified as positive (e.g., sneaker); a value below the threshold indicates that the input should be classified as negative (e.g. non-sneaker)."
   ]
  },
  {
   "cell_type": "markdown",
   "metadata": {
    "id": "PsfzNnVFwh0K"
   },
   "source": [
    "### Loss Function\n",
    "\n",
    "In place of MSE, which we used for linear regression, we need a loss function for logistic regression that's appropriate for classification. The *Log Loss* (also known as *binary cross-entropy*), is defined as follows:\n",
    "\n",
    "\\begin{equation}\n",
    "-\\frac{1}{|Y|} \\sum_{y_i \\in Y}y_i log(\\hat{y}_i) + (1−y_i)log(1−\\hat{y}_i)\n",
    "\\end{equation}\n",
    "\n",
    "Recall that $y_i$ is the label for example $i$ and $\\hat{y_i}$ is the predicted probability (of the positive class) for example $i$. Note that only the first term in the sum is active for positive examples (the second term is 0 when $y_i = 1$) and only the second term in the sum is active for negative examples (the first term is 0 when $y_i = 0$).\n",
    "\n",
    "The log loss is differentiable, allowing us to compute gradients and run SGD. It also happens to be convex, which guarantees that SGD (with a suitable learning rate) will produce a global minimum."
   ]
  },
  {
   "cell_type": "markdown",
   "metadata": {
    "id": "TGgQ-ASYiHbK"
   },
   "source": [
    "## Baseline\n",
    "\n",
    "When dealing with classification problems, a simple, but useful baseline is to select the *majority* class (the most common label in the training set) and use it as the prediction for all inputs.\n",
    "\n",
    "Our training dataset consists of 6,000 sneaker examples (10%), and 54,000 non-sneaker images (90%). So our majority class baseline classifies everything as *non-sneaker*. Notice that, for our particular dataset, this will yield an accuracy of 90%. Let's see if we can train a model that can beat the baseline."
   ]
  },
  {
   "cell_type": "code",
   "execution_count": 64,
   "metadata": {
    "id": "ls30LfwsIZCv"
   },
   "outputs": [
    {
     "name": "stdout",
     "output_type": "stream",
     "text": [
      "Number of sneaker images in training set: 6000\n",
      "Number of non-sneaker images in training set: 54000\n"
     ]
    }
   ],
   "source": [
    "print(\"Number of sneaker images in training set: %d\"%(Y_train_binary == 1).sum())\n",
    "print(\"Number of non-sneaker images in training set: %d\"%(Y_train_binary == 0).sum())"
   ]
  },
  {
   "cell_type": "markdown",
   "metadata": {
    "id": "JXNj1z0IlDw_"
   },
   "source": [
    "---\n",
    "### Exercise 3 (8 points)\n",
    "\n",
    "Implement a function that computes the Log Loss (binary cross-entropy) metric and use it to evaluate our baseline on both the train and test data. Use 0.1 as the predicted probability for your baseline (reflecting what we know about the original distribution of classes in our dataset)."
   ]
  },
  {
   "cell_type": "code",
   "execution_count": 71,
   "metadata": {
    "id": "oFM62C3uhoq_"
   },
   "outputs": [],
   "source": [
    "def log_loss(Y_true, Y_pred):\n",
    "  \"\"\"Returns the binary log loss for a list of labels and predictions.\n",
    "  \n",
    "  Args:\n",
    "    Y_true: A list of (true) labels (0 or 1)\n",
    "    Y_pred: A list of corresponding predicted probabilities\n",
    "\n",
    "  Returns:\n",
    "    Binary log loss\n",
    "  \"\"\"\n",
    "  # YOUR CODE HERE\n",
    "  length = len(Y_true)\n",
    "  loss = -(1/length) * np.sum(Y_true*np.log(Y_pred) + (1-Y_true)*np.log(1-Y_pred))\n",
    "  return loss"
   ]
  },
  {
   "cell_type": "markdown",
   "metadata": {
    "id": "kZNKo4axhzY4"
   },
   "source": [
    "---"
   ]
  },
  {
   "cell_type": "markdown",
   "metadata": {
    "id": "35A7So50uc-3"
   },
   "source": [
    "## Build a model\n",
    "We will use Tensorflow/Keras to build our logistic regression model. This should look very similar to the models you built for linear regression but with a few key differences:\n",
    "* We use the Keras flatten layer to turn the 2-D 28x28 pixel grid inputs into 1-D vector inputs.\n",
    "* We configure our dense layer with a sigmoid activation, which applies a sigmoid function to the output of the linear mapping $xW^T$.\n",
    "* We specify binary_crossentropy as the loss (synonymous with log loss) when compiling the model."
   ]
  },
  {
   "cell_type": "code",
   "execution_count": 72,
   "metadata": {
    "id": "eaKF1dVEwsJq"
   },
   "outputs": [],
   "source": [
    "def build_model(learning_rate=0.01):\n",
    "  \"\"\"Build a TF logistic regression model using Keras.\n",
    "\n",
    "  Args:\n",
    "    learning_rate: The desired learning rate for SGD.\n",
    "\n",
    "  Returns:\n",
    "    model: A tf.keras model (graph).\n",
    "  \"\"\"\n",
    "  # This is not strictly necessary, but each time you build a model, TF adds\n",
    "  # new nodes (rather than overwriting), so the colab session can end up\n",
    "  # storing lots of copies of the graph when you only care about the most\n",
    "  # recent. Also, as there is some randomness built into training with SGD,\n",
    "  # setting a random seed ensures that results are the same on each identical\n",
    "  # training run.\n",
    "  tf.keras.backend.clear_session()\n",
    "  np.random.seed(0)\n",
    "  tf.random.set_seed(0)\n",
    "\n",
    "  # Build a model using keras.Sequential.\n",
    "  model = keras.Sequential()\n",
    "\n",
    "  # Keras layers can do pre-processing. This layer will take our 28x28 images\n",
    "  # and flatten them into vectors of size 784.\n",
    "  model.add(keras.layers.Flatten())\n",
    "  \n",
    "  # This layer constructs the linear set of parameters for each input feature\n",
    "  # (as well as a bias), and applies a sigmoid to the result. The result is\n",
    "  # binary logistic regression.\n",
    "  model.add(keras.layers.Dense(\n",
    "      units=1,                     # output dim (for binary classification)\n",
    "      use_bias=True,               # use a bias param\n",
    "      activation=\"sigmoid\"         # apply the sigmoid function!\n",
    "  ))\n",
    "\n",
    "  # Use the SGD optimizer as usual.\n",
    "  optimizer = tf.keras.optimizers.SGD(learning_rate=learning_rate)\n",
    "\n",
    "  # We specify the binary_crossentropy loss (equivalent to log loss).\n",
    "  # Notice that we are including 'binary accuracy' as one of the metrics that we\n",
    "  # ask Tensorflow to report when evaluating the model.\n",
    "  model.compile(loss='binary_crossentropy', \n",
    "                optimizer=optimizer, \n",
    "                metrics=[metrics.binary_accuracy])\n",
    "\n",
    "  return model"
   ]
  },
  {
   "cell_type": "markdown",
   "metadata": {
    "id": "e9sNzLTFWliB"
   },
   "source": [
    "Let's make sure model building code works. Before training, the parameters of the model are initialized randomly (this is the default). While the untrained model won't make good predictions, we should still be able to pass data through it and get probability outputs."
   ]
  },
  {
   "cell_type": "code",
   "execution_count": 73,
   "metadata": {
    "id": "ZrpMK0XfX4-M"
   },
   "outputs": [
    {
     "name": "stdout",
     "output_type": "stream",
     "text": [
      "1/1 [==============================] - 0s 174ms/step\n",
      "[[0.5944051 ]\n",
      " [0.5881664 ]\n",
      " [0.45828345]\n",
      " [0.57472664]\n",
      " [0.580126  ]]\n"
     ]
    }
   ],
   "source": [
    "# Build the model.\n",
    "model = build_model()\n",
    "\n",
    "# Make a prediction for five inputs.\n",
    "print(model.predict(X_train_binary[0:5]))"
   ]
  },
  {
   "cell_type": "markdown",
   "metadata": {
    "id": "ymQ3i8aRiCcO"
   },
   "source": [
    "As expected, the outputs look like probabilities (in [0,1]). Once the model is trained, we hope that these predictions correspond to the probability that each input image is a sneaker."
   ]
  },
  {
   "cell_type": "markdown",
   "metadata": {
    "id": "OUQDiYqCh2Ns"
   },
   "source": [
    "## Train a model\n",
    "Let's train the model. Note that we're using 10% of the training data as a *validation split*. This serves a similar purpose to our test data, allowing us to check for over-fitting during training. We don't use the test data here because we might run lots of experiments, and over time, we might adjust settings to improve results on the validation set. We want to preserve the purity of the test data to allow for the cleanest possible evaluation at the end of the experimentation process."
   ]
  },
  {
   "cell_type": "code",
   "execution_count": 74,
   "metadata": {
    "id": "KkUagTzxpWdr"
   },
   "outputs": [
    {
     "name": "stdout",
     "output_type": "stream",
     "text": [
      "Epoch 1/5\n",
      "844/844 [==============================] - 1s 905us/step - loss: 0.1388 - binary_accuracy: 0.9422 - val_loss: 0.1164 - val_binary_accuracy: 0.9522\n",
      "Epoch 2/5\n",
      "844/844 [==============================] - 0s 565us/step - loss: 0.1073 - binary_accuracy: 0.9569 - val_loss: 0.1030 - val_binary_accuracy: 0.9590\n",
      "Epoch 3/5\n",
      "844/844 [==============================] - 0s 563us/step - loss: 0.0972 - binary_accuracy: 0.9628 - val_loss: 0.0952 - val_binary_accuracy: 0.9628\n",
      "Epoch 4/5\n",
      "844/844 [==============================] - 0s 560us/step - loss: 0.0907 - binary_accuracy: 0.9658 - val_loss: 0.0897 - val_binary_accuracy: 0.9658\n",
      "Epoch 5/5\n",
      "844/844 [==============================] - 1s 616us/step - loss: 0.0861 - binary_accuracy: 0.9679 - val_loss: 0.0856 - val_binary_accuracy: 0.9672\n"
     ]
    },
    {
     "data": {
      "text/html": [
       "<div>\n",
       "<style scoped>\n",
       "    .dataframe tbody tr th:only-of-type {\n",
       "        vertical-align: middle;\n",
       "    }\n",
       "\n",
       "    .dataframe tbody tr th {\n",
       "        vertical-align: top;\n",
       "    }\n",
       "\n",
       "    .dataframe thead th {\n",
       "        text-align: right;\n",
       "    }\n",
       "</style>\n",
       "<table border=\"1\" class=\"dataframe\">\n",
       "  <thead>\n",
       "    <tr style=\"text-align: right;\">\n",
       "      <th></th>\n",
       "      <th>loss</th>\n",
       "      <th>binary_accuracy</th>\n",
       "      <th>val_loss</th>\n",
       "      <th>val_binary_accuracy</th>\n",
       "    </tr>\n",
       "  </thead>\n",
       "  <tbody>\n",
       "    <tr>\n",
       "      <th>0</th>\n",
       "      <td>0.138817</td>\n",
       "      <td>0.942241</td>\n",
       "      <td>0.116402</td>\n",
       "      <td>0.952167</td>\n",
       "    </tr>\n",
       "    <tr>\n",
       "      <th>1</th>\n",
       "      <td>0.107312</td>\n",
       "      <td>0.956852</td>\n",
       "      <td>0.102968</td>\n",
       "      <td>0.959000</td>\n",
       "    </tr>\n",
       "    <tr>\n",
       "      <th>2</th>\n",
       "      <td>0.097169</td>\n",
       "      <td>0.962815</td>\n",
       "      <td>0.095155</td>\n",
       "      <td>0.962833</td>\n",
       "    </tr>\n",
       "    <tr>\n",
       "      <th>3</th>\n",
       "      <td>0.090729</td>\n",
       "      <td>0.965778</td>\n",
       "      <td>0.089732</td>\n",
       "      <td>0.965833</td>\n",
       "    </tr>\n",
       "    <tr>\n",
       "      <th>4</th>\n",
       "      <td>0.086068</td>\n",
       "      <td>0.967907</td>\n",
       "      <td>0.085631</td>\n",
       "      <td>0.967167</td>\n",
       "    </tr>\n",
       "  </tbody>\n",
       "</table>\n",
       "</div>"
      ],
      "text/plain": [
       "       loss  binary_accuracy  val_loss  val_binary_accuracy\n",
       "0  0.138817         0.942241  0.116402             0.952167\n",
       "1  0.107312         0.956852  0.102968             0.959000\n",
       "2  0.097169         0.962815  0.095155             0.962833\n",
       "3  0.090729         0.965778  0.089732             0.965833\n",
       "4  0.086068         0.967907  0.085631             0.967167"
      ]
     },
     "metadata": {},
     "output_type": "display_data"
    }
   ],
   "source": [
    "model = build_model(learning_rate=0.01)\n",
    "\n",
    "# Fit the model.\n",
    "history = model.fit(\n",
    "  x = X_train_binary,   # our binary training examples\n",
    "  y = Y_train_binary,   # corresponding binary labels\n",
    "  epochs=5,             # number of passes through the training data\n",
    "  batch_size=64,        # mini-batch size for SGD\n",
    "  validation_split=0.1, # use a fraction of the examples for validation\n",
    "  verbose=1             # display some progress output during training\n",
    "  )\n",
    "\n",
    "# Convert the return value into a DataFrame so we can see the train loss \n",
    "# and binary accuracy after every epoch.\n",
    "history = pd.DataFrame(history.history)\n",
    "display(history)"
   ]
  },
  {
   "cell_type": "markdown",
   "metadata": {
    "id": "eS8lOgCK-0At"
   },
   "source": [
    "## Evaluate the model\n",
    "\n",
    "Good news. It appears that our model is doing better than our baseline. Let's use the trained model to predict probabilities for the test data. We can use `predict` to run *inference*."
   ]
  },
  {
   "cell_type": "code",
   "execution_count": 75,
   "metadata": {
    "id": "t0PU3br4-zv8"
   },
   "outputs": [
    {
     "name": "stdout",
     "output_type": "stream",
     "text": [
      "313/313 [==============================] - 0s 385us/step\n",
      "(10000,)\n",
      "[2.3136348e-01 1.8489085e-07 3.7871697e-04 ... 1.1467192e-03 3.6358295e-03\n",
      " 3.2381284e-01]\n"
     ]
    }
   ],
   "source": [
    "# The result of model.predict has an extra dimension, so we flatten to get a\n",
    "# vector of predictions. Note that these are the predicted probabilities of the\n",
    "# positive (sneaker) class.\n",
    "test_predictions = model.predict(X_test_binary).flatten()\n",
    "print(test_predictions.shape)\n",
    "print(test_predictions)"
   ]
  },
  {
   "cell_type": "markdown",
   "metadata": {
    "id": "LTdRTsyM2YvI"
   },
   "source": [
    "---\n",
    "### Exercise 4 (8 points)\n",
    "\n",
    "Compute the accuracy on the test data using a threshold of 0.5. Remember to use Y_test_binary for the true labels."
   ]
  },
  {
   "cell_type": "code",
   "execution_count": 96,
   "metadata": {
    "id": "B-o6Bdkl2gQT"
   },
   "outputs": [
    {
     "name": "stdout",
     "output_type": "stream",
     "text": [
      "Accuracy of model using a threshold of 0.5: 0.9696\n"
     ]
    }
   ],
   "source": [
    "# YOUR CODE HERE\n",
    "test_binary = test_predictions > 0.5\n",
    "testing = test_binary == Y_test_binary\n",
    "print('Accuracy of model using a threshold of 0.5:', sum(testing)/len(testing))\n"
   ]
  },
  {
   "cell_type": "markdown",
   "metadata": {
    "id": "LVEF6i092hfl"
   },
   "source": [
    "---"
   ]
  },
  {
   "cell_type": "markdown",
   "metadata": {
    "id": "tV_gTk-9YI3d"
   },
   "source": [
    "## Analyze the model\n",
    "\n",
    "Let's investigate what the model has learned. Recall how to get the learned weights from the model:"
   ]
  },
  {
   "cell_type": "code",
   "execution_count": 97,
   "metadata": {
    "id": "n9aw-V-FTlaq"
   },
   "outputs": [
    {
     "name": "stdout",
     "output_type": "stream",
     "text": [
      "[<keras.layers.reshaping.flatten.Flatten object at 0x19778f8d0>, <keras.layers.core.dense.Dense object at 0x19862c610>]\n",
      "Bias: -0.4386635\n",
      "Weights shape: (784,)\n"
     ]
    }
   ],
   "source": [
    "# The model includes 2 layers: a flattening layer and a dense layer.\n",
    "print(model.layers)\n",
    "\n",
    "# Retrieve the weights and biases from the dense layer.\n",
    "weights, biases = model.layers[1].get_weights()\n",
    "bias = biases[0]  # there's only 1 bias\n",
    "weights = weights.flatten()  # flatten the weights to a vector\n",
    "print('Bias:', bias)\n",
    "print('Weights shape:', weights.shape)"
   ]
  },
  {
   "cell_type": "markdown",
   "metadata": {
    "id": "9gfq7t1naoTM"
   },
   "source": [
    "---\n",
    "### Exercise 5 (8 points)\n",
    "\n",
    "1. Using just the bias calculated in the model, compute the predicted probability (of the sneaker class) for an image of all 0-valued inputs.\n",
    "\n",
    "2. Construct a fake image with all 0s and use model.predict.\n",
    "\n",
    "3. Confirm if they agree"
   ]
  },
  {
   "cell_type": "code",
   "execution_count": 121,
   "metadata": {
    "id": "3d4NzODhbB8G"
   },
   "outputs": [
    {
     "name": "stdout",
     "output_type": "stream",
     "text": [
      "1/1 [==============================] - 0s 31ms/step\n",
      "Using the bias calculated in the model, the predicted probability for an image of all 0s is : 0.3920594735604309\n",
      "The actual prediction from the model: 0.3920595\n",
      "These values are practically the same to the 6th decimal, so the prediction does resemble the actual output.\n"
     ]
    }
   ],
   "source": [
    "# YOUR CODE HERE\n",
    "prob_bias = 1/ (1 + np.exp(-bias))\n",
    "zero_image = np.zeros((1,28,28))\n",
    "pred_bias = model.predict(zero_image)\n",
    "\n",
    "print('Using the bias calculated in the model, the predicted probability for an image of all 0s is :', prob_bias)\n",
    "print('The actual prediction from the model:', pred_bias[0][0])\n",
    "print('These values are practically the same to the 6th decimal, so the prediction does resemble the actual output.')\n"
   ]
  },
  {
   "cell_type": "markdown",
   "metadata": {
    "id": "LsCGfuB1c_vs"
   },
   "source": [
    "---"
   ]
  }
 ],
 "metadata": {
  "colab": {
   "collapsed_sections": [
    "copyright",
    "LOcjWKAljbqr",
    "bCBT54r7k2YL",
    "loqjuOZFlEdt"
   ],
   "name": "04 Logistic Regression with Tensorflow.ipynb",
   "private_outputs": true,
   "provenance": [],
   "toc_visible": true
  },
  "kernelspec": {
   "display_name": "Python 3",
   "language": "python",
   "name": "python3"
  },
  "language_info": {
   "codemirror_mode": {
    "name": "ipython",
    "version": 3
   },
   "file_extension": ".py",
   "mimetype": "text/x-python",
   "name": "python",
   "nbconvert_exporter": "python",
   "pygments_lexer": "ipython3",
   "version": "3.11.5"
  }
 },
 "nbformat": 4,
 "nbformat_minor": 4
}
