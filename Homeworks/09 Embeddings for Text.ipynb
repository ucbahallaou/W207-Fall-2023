{
 "cells": [
  {
   "cell_type": "markdown",
   "metadata": {
    "id": "MKsRDH5ZUdfasdv"
   },
   "source": [
    "# Lab 9"
   ]
  },
  {
   "cell_type": "markdown",
   "metadata": {},
   "source": [
    "### <span style=\"color:chocolate\"> Submission requirements </span>\n",
    "\n",
    "Additional points may be deducted if these requirements are not met:\n",
    "    \n",
    "* Comment your code\n",
    "* Each graph should have a title, labels for each axis, and (if needed) a legend. Each graph should be understandable on its own\n",
    "* Be sure your submitted notebook includes the output of your run (Hint: go to Kernel -> Restart Kernel and Run All Cells...)\n",
    "* Try and minimize the use of the global namespace (meaning, keep things inside functions)\n",
    "* Upload your .ipynb file to Gradescope when done\n",
    "---"
   ]
  },
  {
   "cell_type": "markdown",
   "metadata": {
    "id": "43534tdfgs-v"
   },
   "source": [
    "In this lab, we'll train models for sentiment classification and experiment with learned embeddings for text features."
   ]
  },
  {
   "cell_type": "code",
   "execution_count": 21,
   "metadata": {
    "id": "7X58hOMTUH-w"
   },
   "outputs": [],
   "source": [
    "# Import the libraries we'll use below.\n",
    "import numpy as np\n",
    "from matplotlib import pyplot as plt\n",
    "import pandas as pd\n",
    "import seaborn as sns  # for nicer plots\n",
    "sns.set(style=\"darkgrid\")  # default style\n",
    "import plotly.graph_objs as plotly  # for interactive plots\n",
    "\n",
    "import tensorflow as tf\n",
    "from tensorflow.keras.datasets import imdb\n",
    "from tensorflow.keras.preprocessing.sequence import pad_sequences\n"
   ]
  },
  {
   "cell_type": "markdown",
   "metadata": {
    "id": "eqppUDpmdptk"
   },
   "source": [
    "## Data for Sentiment Classification\n",
    "\n",
    "In this lab, we'll train a *sentiment* classifier for movie reviews. That is, the input is the text of a movie review and the output is the probability the input was a positive review. The target labels are binary, 0 for negative and 1 for positive.\n",
    "\n",
    "Our data includes 50,000 movie reviews on IMDB. The data comes pre-segmented into train and test splits. The [data loading function](https://www.tensorflow.org/api_docs/python/tf/keras/datasets/imdb/load_data) below also splits each input text into tokens (words) and maps the words to integer values. Each input is a sequence of integers corresponding to the words."
   ]
  },
  {
   "cell_type": "code",
   "execution_count": 22,
   "metadata": {
    "colab": {
     "base_uri": "https://localhost:8080/"
    },
    "executionInfo": {
     "elapsed": 5870,
     "status": "ok",
     "timestamp": 1646684495083,
     "user": {
      "displayName": "Daniel Gillick",
      "photoUrl": "https://lh3.googleusercontent.com/a-/AOh14Gg9DrSMlwYnG9EolecuJqe8n9m7fpcje4_UbYrhQ10=s64",
      "userId": "01872965353911650729"
     },
     "user_tz": 600
    },
    "id": "s6M-asvhQWV_",
    "outputId": "1aca520b-e1b6-4006-ac44-78ff33ac6da9"
   },
   "outputs": [
    {
     "name": "stdout",
     "output_type": "stream",
     "text": [
      "X_train.shape: (25000,)\n",
      "Y_train.shape: (25000,)\n",
      "X_test.shape: (25000,)\n",
      "Y_test.shape: (25000,)\n",
      "First training example data: [1, 14, 22, 16, 43, 530, 973, 1622, 1385, 65, 458, 4468, 66, 3941, 4, 173, 36, 256, 5, 25, 100, 43, 838, 112, 50, 670, 22665, 9, 35, 480, 284, 5, 150, 4, 172, 112, 167, 21631, 336, 385, 39, 4, 172, 4536, 1111, 17, 546, 38, 13, 447, 4, 192, 50, 16, 6, 147, 2025, 19, 14, 22, 4, 1920, 4613, 469, 4, 22, 71, 87, 12, 16, 43, 530, 38, 76, 15, 13, 1247, 4, 22, 17, 515, 17, 12, 16, 626, 18, 19193, 5, 62, 386, 12, 8, 316, 8, 106, 5, 4, 2223, 5244, 16, 480, 66, 3785, 33, 4, 130, 12, 16, 38, 619, 5, 25, 124, 51, 36, 135, 48, 25, 1415, 33, 6, 22, 12, 215, 28, 77, 52, 5, 14, 407, 16, 82, 10311, 8, 4, 107, 117, 5952, 15, 256, 4, 31050, 7, 3766, 5, 723, 36, 71, 43, 530, 476, 26, 400, 317, 46, 7, 4, 12118, 1029, 13, 104, 88, 4, 381, 15, 297, 98, 32, 2071, 56, 26, 141, 6, 194, 7486, 18, 4, 226, 22, 21, 134, 476, 26, 480, 5, 144, 30, 5535, 18, 51, 36, 28, 224, 92, 25, 104, 4, 226, 65, 16, 38, 1334, 88, 12, 16, 283, 5, 16, 4472, 113, 103, 32, 15, 16, 5345, 19, 178, 32]\n",
      "First training example label: 1\n"
     ]
    }
   ],
   "source": [
    "(X_train, Y_train), (X_test, Y_test) = imdb.load_data(path=\"imdb.npz\",\n",
    "                                                      num_words=None,\n",
    "                                                      skip_top=0,\n",
    "                                                      maxlen=None,\n",
    "                                                      seed=113,\n",
    "                                                      start_char=1,\n",
    "                                                      oov_char=2,\n",
    "                                                      index_from=3)\n",
    "\n",
    "print(\"X_train.shape:\", X_train.shape)\n",
    "print(\"Y_train.shape:\", Y_train.shape)\n",
    "print(\"X_test.shape:\", X_test.shape)\n",
    "print(\"Y_test.shape:\", Y_test.shape)\n",
    "\n",
    "print('First training example data:', X_train[0])\n",
    "print('First training example label:', Y_train[0])"
   ]
  },
  {
   "cell_type": "markdown",
   "metadata": {
    "id": "MyIWiy-4gQK-"
   },
   "source": [
    "So our first training example is a positive review. But that sequence of integer IDs is hard to read. The data loader provides a dictionary mapping words to IDs. Let's create a reverse index.\n"
   ]
  },
  {
   "cell_type": "code",
   "execution_count": 23,
   "metadata": {
    "colab": {
     "base_uri": "https://localhost:8080/"
    },
    "executionInfo": {
     "elapsed": 801,
     "status": "ok",
     "timestamp": 1646684508506,
     "user": {
      "displayName": "Daniel Gillick",
      "photoUrl": "https://lh3.googleusercontent.com/a-/AOh14Gg9DrSMlwYnG9EolecuJqe8n9m7fpcje4_UbYrhQ10=s64",
      "userId": "01872965353911650729"
     },
     "user_tz": 600
    },
    "id": "HQ-qATkhUj7c",
    "outputId": "eea86a69-fe6a-4cdb-ac8c-9307a5118e47"
   },
   "outputs": [
    {
     "name": "stdout",
     "output_type": "stream",
     "text": [
      "Largest ID: 88587\n"
     ]
    }
   ],
   "source": [
    "# The imdb dataset comes with an index mapping words to integers.\n",
    "# In the index the words are ordered by frequency they occur.\n",
    "index = imdb.get_word_index()\n",
    "\n",
    "# Because we used index_from=3 (above), setting aside ids below 3 for special\n",
    "# symbols, we need to add 3 to the index values.\n",
    "index = dict([(key, value+3) for (key, value) in index.items()])\n",
    "\n",
    "# Create a reverse index so we can lookup tokens assigned to each id.\n",
    "reverse_index = dict([(value, key) for (key, value) in index.items()])\n",
    "reverse_index[1] = '<START>'  # start of input\n",
    "reverse_index[2] = '#'        # out-of-vocabulary (OOV)\n",
    "reverse_index[3] = '<UNUSED>'\n",
    "\n",
    "max_id = max(reverse_index.keys())\n",
    "print('Largest ID:', max_id)"
   ]
  },
  {
   "cell_type": "markdown",
   "metadata": {
    "id": "h76-b07ehWNQ"
   },
   "source": [
    "Note that our index (and reverse index) have over 88,000 tokens. That's quite a large vocabulary! Let's also write a decoding function for our data."
   ]
  },
  {
   "cell_type": "code",
   "execution_count": 24,
   "metadata": {
    "colab": {
     "base_uri": "https://localhost:8080/"
    },
    "executionInfo": {
     "elapsed": 358,
     "status": "ok",
     "timestamp": 1646684531998,
     "user": {
      "displayName": "Daniel Gillick",
      "photoUrl": "https://lh3.googleusercontent.com/a-/AOh14Gg9DrSMlwYnG9EolecuJqe8n9m7fpcje4_UbYrhQ10=s64",
      "userId": "01872965353911650729"
     },
     "user_tz": 600
    },
    "id": "UjobmouHS5Dm",
    "outputId": "29975a48-7fda-4600-bd0c-693c35dd8a54"
   },
   "outputs": [
    {
     "name": "stdout",
     "output_type": "stream",
     "text": [
      "[1, 14, 22, 16, 43, 530, 973, 1622, 1385, 65, 458, 4468, 66, 3941, 4, 173, 36, 256, 5, 25, 100, 43, 838, 112, 50, 670, 22665, 9, 35, 480, 284, 5, 150, 4, 172, 112, 167, 21631, 336, 385, 39, 4, 172, 4536, 1111, 17, 546, 38, 13, 447, 4, 192, 50, 16, 6, 147, 2025, 19, 14, 22, 4, 1920, 4613, 469, 4, 22, 71, 87, 12, 16, 43, 530, 38, 76, 15, 13, 1247, 4, 22, 17, 515, 17, 12, 16, 626, 18, 19193, 5, 62, 386, 12, 8, 316, 8, 106, 5, 4, 2223, 5244, 16, 480, 66, 3785, 33, 4, 130, 12, 16, 38, 619, 5, 25, 124, 51, 36, 135, 48, 25, 1415, 33, 6, 22, 12, 215, 28, 77, 52, 5, 14, 407, 16, 82, 10311, 8, 4, 107, 117, 5952, 15, 256, 4, 31050, 7, 3766, 5, 723, 36, 71, 43, 530, 476, 26, 400, 317, 46, 7, 4, 12118, 1029, 13, 104, 88, 4, 381, 15, 297, 98, 32, 2071, 56, 26, 141, 6, 194, 7486, 18, 4, 226, 22, 21, 134, 476, 26, 480, 5, 144, 30, 5535, 18, 51, 36, 28, 224, 92, 25, 104, 4, 226, 65, 16, 38, 1334, 88, 12, 16, 283, 5, 16, 4472, 113, 103, 32, 15, 16, 5345, 19, 178, 32]\n",
      "<START> this film was just brilliant casting location scenery story direction everyone's really suited the part they played and you could just imagine being there robert redford's is an amazing actor and now the same being director norman's father came from the same scottish island as myself so i loved the fact there was a real connection with this film the witty remarks throughout the film were great it was just brilliant so much that i bought the film as soon as it was released for retail and would recommend it to everyone to watch and the fly fishing was amazing really cried at the end it was so sad and you know what they say if you cry at a film it must have been good and this definitely was also congratulations to the two little boy's that played the part's of norman and paul they were just brilliant children are often left out of the praising list i think because the stars that play them all grown up are such a big profile for the whole film but these children are amazing and should be praised for what they have done don't you think the whole story was so lovely because it was true and was someone's life after all that was shared with us all\n"
     ]
    }
   ],
   "source": [
    "def decode(token_ids):\n",
    "  \"\"\"Return a string with the decoded text given a list of token ids.\"\"\"\n",
    "  # Try looking up each id in the index, but return '#' (for OOV) if not found.\n",
    "  tokens = [reverse_index.get(i, \"#\") for i in token_ids]\n",
    "\n",
    "  # Connect the string tokens with a space.\n",
    "  return ' '.join(tokens)\n",
    "\n",
    "# Show the ids corresponding tokens in the first example.\n",
    "print(X_train[0])\n",
    "print(decode(X_train[0]))"
   ]
  },
  {
   "cell_type": "markdown",
   "metadata": {
    "id": "g47w5CackGBA"
   },
   "source": [
    "### Text Lengths\n",
    "As usual, let's start with some data analysis. How long are the reviews? Is there a difference in length between positive and negative reviews? A histogram will help answer these questions."
   ]
  },
  {
   "cell_type": "code",
   "execution_count": 25,
   "metadata": {
    "colab": {
     "base_uri": "https://localhost:8080/",
     "height": 305
    },
    "executionInfo": {
     "elapsed": 762,
     "status": "ok",
     "timestamp": 1646684547021,
     "user": {
      "displayName": "Daniel Gillick",
      "photoUrl": "https://lh3.googleusercontent.com/a-/AOh14Gg9DrSMlwYnG9EolecuJqe8n9m7fpcje4_UbYrhQ10=s64",
      "userId": "01872965353911650729"
     },
     "user_tz": 600
    },
    "id": "kEOgzo8Gk3r7",
    "outputId": "e7446ffd-10c5-4c64-a5bc-7cab81a1d73f"
   },
   "outputs": [
    {
     "data": {
      "image/png": "[encoded data removed]",
      "text/plain": [
       "<Figure size 640x480 with 1 Axes>"
      ]
     },
     "metadata": {},
     "output_type": "display_data"
    },
    {
     "name": "stdout",
     "output_type": "stream",
     "text": [
      "Longest positive review: 2494\n",
      "Longest negative review: 1571\n"
     ]
    }
   ],
   "source": [
    "# Create a list of lengths for training examples with a positive label.\n",
    "text_lengths_pos = [len(x) for (i, x) in enumerate(X_train) if Y_train[i]]\n",
    "\n",
    "# And a list of lengths for training examples with a negative label.\n",
    "text_lengths_neg = [len(x) for (i, x) in enumerate(X_train) if not Y_train[i]]\n",
    "\n",
    "# The histogram function can take a list of inputs and corresponding labels.\n",
    "plt.hist([text_lengths_pos, text_lengths_neg], bins=20, range=(0, 1000),\n",
    "         label=['positive', 'negative'])\n",
    "plt.legend()\n",
    "plt.show()\n",
    "\n",
    "# Also check the longest reviews.\n",
    "print('Longest positive review:', max(text_lengths_pos))\n",
    "print('Longest negative review:', max(text_lengths_neg))"
   ]
  },
  {
   "cell_type": "markdown",
   "metadata": {
    "id": "c3ZE9gpkml3a"
   },
   "source": [
    "---\n",
    "### Exercise 1: Token Counts (20 points)\n",
    "For each of the given tokens, construct a table with the number of positive training examples that include that token and the number of negative training examples that include that token. For reference, here are the counts for the first two tokens:\n",
    "\n",
    "|Token|Pos Count|Neg Count|\n",
    "|-|-|-|\n",
    "|good|4767|4849|\n",
    "|bad|1491|4396|"
   ]
  },
  {
   "cell_type": "code",
   "execution_count": 26,
   "metadata": {
    "id": "8YOYo6d01aWI"
   },
   "outputs": [
    {
     "data": {
      "text/html": [
       "<div>\n",
       "<style scoped>\n",
       "    .dataframe tbody tr th:only-of-type {\n",
       "        vertical-align: middle;\n",
       "    }\n",
       "\n",
       "    .dataframe tbody tr th {\n",
       "        vertical-align: top;\n",
       "    }\n",
       "\n",
       "    .dataframe thead th {\n",
       "        text-align: right;\n",
       "    }\n",
       "</style>\n",
       "<table border=\"1\" class=\"dataframe\">\n",
       "  <thead>\n",
       "    <tr style=\"text-align: right;\">\n",
       "      <th></th>\n",
       "      <th>Pos Count</th>\n",
       "      <th>Neg Count</th>\n",
       "    </tr>\n",
       "  </thead>\n",
       "  <tbody>\n",
       "    <tr>\n",
       "      <th>good</th>\n",
       "      <td>4767</td>\n",
       "      <td>4849</td>\n",
       "    </tr>\n",
       "    <tr>\n",
       "      <th>bad</th>\n",
       "      <td>1491</td>\n",
       "      <td>4396</td>\n",
       "    </tr>\n",
       "    <tr>\n",
       "      <th>amazing</th>\n",
       "      <td>868</td>\n",
       "      <td>240</td>\n",
       "    </tr>\n",
       "    <tr>\n",
       "      <th>boring</th>\n",
       "      <td>301</td>\n",
       "      <td>1205</td>\n",
       "    </tr>\n",
       "    <tr>\n",
       "      <th>laugh</th>\n",
       "      <td>525</td>\n",
       "      <td>685</td>\n",
       "    </tr>\n",
       "    <tr>\n",
       "      <th>cry</th>\n",
       "      <td>231</td>\n",
       "      <td>114</td>\n",
       "    </tr>\n",
       "  </tbody>\n",
       "</table>\n",
       "</div>"
      ],
      "text/plain": [
       "         Pos Count  Neg Count\n",
       "good          4767       4849\n",
       "bad           1491       4396\n",
       "amazing        868        240\n",
       "boring         301       1205\n",
       "laugh          525        685\n",
       "cry            231        114"
      ]
     },
     "execution_count": 26,
     "metadata": {},
     "output_type": "execute_result"
    }
   ],
   "source": [
    "tokens = ['good', 'bad', 'amazing', 'boring', 'laugh', 'cry']\n",
    "pos_neg_count = {}\n",
    "# YOUR CODE HERE\n",
    "for word in tokens:\n",
    "    word_num  = index[word]\n",
    "    pos_neg_count[word] = {'positive':0,'negative': 0}\n",
    "    for i,row in enumerate(X_train):\n",
    "        if word_num in row:\n",
    "            if Y_train[i] == 1:\n",
    "                pos_neg_count[word]['positive'] += 1\n",
    "            else:\n",
    "                pos_neg_count[word]['negative'] += 1\n",
    "df = pd.DataFrame(pos_neg_count).T\n",
    "df = df.rename(columns={'positive':'Pos Count','negative':'Neg Count'})\n",
    "df"
   ]
  },
  {
   "cell_type": "markdown",
   "metadata": {},
   "source": [
    "---"
   ]
  },
  {
   "cell_type": "markdown",
   "metadata": {
    "id": "hhzt-LnQ1m8w"
   },
   "source": [
    "## Feature Representation\n",
    "Consider the difference between the pixel features we used for image classification and the text features we are now dealing with.\n",
    "\n",
    "An image had 784 pixel positions. At each position, there is a single value in [0,1] (after normalization).\n",
    "\n",
    "In contrast, a review has a variable number of ordered tokens (up to 2494 in the training examples). Each token occurs in a particular position. We can think of the token positions much like the 784 pixel positions, except that some of the trailing positions are empty, since review lengths vary.  At each token position, there is a single token, one of the 88587 entries in the vocabulary. So we can think of a review as a (2500, 90000) matrix: At each of ~2500 token positions, we have 1 of ~90000 token ids.\n",
    "\n",
    "This representation would have 2500 * 90000 = 225 million features -- quite a lot more complexity than the images, though as you'll see below, we will make some simplifying assumptions, reducing both the number of token positions and the number of vocabulary items."
   ]
  },
  {
   "cell_type": "markdown",
   "metadata": {
    "id": "Jm_F5JmWyfko"
   },
   "source": [
    "### Padding and Reduced Length\n",
    "As is clear from the length histogram, the current representation of the review text is a variable-length array. Since fixed-length arrays are easier to work with in Tensorflow, let's add special padding tokens at the end of each review until they are all the same length.\n",
    "\n",
    "We'll also use this operation to limit the number of token positions by truncating all reviews to a specified length. In the code below, as an example, we pad all training inputs to length 300."
   ]
  },
  {
   "cell_type": "code",
   "execution_count": 27,
   "metadata": {
    "colab": {
     "base_uri": "https://localhost:8080/"
    },
    "executionInfo": {
     "elapsed": 766,
     "status": "ok",
     "timestamp": 1646684609342,
     "user": {
      "displayName": "Daniel Gillick",
      "photoUrl": "https://lh3.googleusercontent.com/a-/AOh14Gg9DrSMlwYnG9EolecuJqe8n9m7fpcje4_UbYrhQ10=s64",
      "userId": "01872965353911650729"
     },
     "user_tz": 600
    },
    "id": "a4ou8bSUCWOx",
    "outputId": "be4bc9e1-47aa-4f82-e23b-569f8d6128a4"
   },
   "outputs": [
    {
     "name": "stdout",
     "output_type": "stream",
     "text": [
      "Length of X_train[0]: 218\n",
      "Length of X_train_padded[0]: 300\n",
      "[    1    14    22    16    43   530   973  1622  1385    65   458  4468\n",
      "    66  3941     4   173    36   256     5    25   100    43   838   112\n",
      "    50   670 22665     9    35   480   284     5   150     4   172   112\n",
      "   167 21631   336   385    39     4   172  4536  1111    17   546    38\n",
      "    13   447     4   192    50    16     6   147  2025    19    14    22\n",
      "     4  1920  4613   469     4    22    71    87    12    16    43   530\n",
      "    38    76    15    13  1247     4    22    17   515    17    12    16\n",
      "   626    18 19193     5    62   386    12     8   316     8   106     5\n",
      "     4  2223  5244    16   480    66  3785    33     4   130    12    16\n",
      "    38   619     5    25   124    51    36   135    48    25  1415    33\n",
      "     6    22    12   215    28    77    52     5    14   407    16    82\n",
      " 10311     8     4   107   117  5952    15   256     4 31050     7  3766\n",
      "     5   723    36    71    43   530   476    26   400   317    46     7\n",
      "     4 12118  1029    13   104    88     4   381    15   297    98    32\n",
      "  2071    56    26   141     6   194  7486    18     4   226    22    21\n",
      "   134   476    26   480     5   144    30  5535    18    51    36    28\n",
      "   224    92    25   104     4   226    65    16    38  1334    88    12\n",
      "    16   283     5    16  4472   113   103    32    15    16  5345    19\n",
      "   178    32     0     0     0     0     0     0     0     0     0     0\n",
      "     0     0     0     0     0     0     0     0     0     0     0     0\n",
      "     0     0     0     0     0     0     0     0     0     0     0     0\n",
      "     0     0     0     0     0     0     0     0     0     0     0     0\n",
      "     0     0     0     0     0     0     0     0     0     0     0     0\n",
      "     0     0     0     0     0     0     0     0     0     0     0     0\n",
      "     0     0     0     0     0     0     0     0     0     0     0     0]\n"
     ]
    }
   ],
   "source": [
    "def pad_data(sequences, max_length):\n",
    "  # Keras has a convenient utility for padding a sequence.\n",
    "  # Also make sure we get a numpy array rather than an array of lists.\n",
    "  return np.array(list(\n",
    "      tf.keras.preprocessing.sequence.pad_sequences(\n",
    "          sequences, maxlen=max_length, padding='post', value=0)))\n",
    "\n",
    "# Pad and truncate to 300 tokens.\n",
    "X_train_padded = pad_data(X_train, max_length=300)\n",
    "\n",
    "# Check the padded output.\n",
    "print('Length of X_train[0]:', len(X_train[0]))\n",
    "print('Length of X_train_padded[0]:', len(X_train_padded[0]))\n",
    "print(X_train_padded[0])"
   ]
  },
  {
   "cell_type": "markdown",
   "metadata": {
    "id": "lFEmcwBjL4e_"
   },
   "source": [
    "### Reduced Vocabulary\n",
    "We also want to be able to limit the vocabulary size. Since our padding function produces fixed-length sequences in a numpy matrix, we can use clever numpy indexing to efficiently replace all token ids larger than some value with the designated out-of-vocabulary (OOV) id.\n",
    "\n",
    "In the code below, as an example, we'll keep just token ids less than 1000, replacing all others with OOV."
   ]
  },
  {
   "cell_type": "code",
   "execution_count": 28,
   "metadata": {
    "colab": {
     "base_uri": "https://localhost:8080/"
    },
    "executionInfo": {
     "elapsed": 347,
     "status": "ok",
     "timestamp": 1646684634116,
     "user": {
      "displayName": "Daniel Gillick",
      "photoUrl": "https://lh3.googleusercontent.com/a-/AOh14Gg9DrSMlwYnG9EolecuJqe8n9m7fpcje4_UbYrhQ10=s64",
      "userId": "01872965353911650729"
     },
     "user_tz": 600
    },
    "id": "21qpyEgGNQeB",
    "outputId": "148ce890-4376-4c5a-f96a-9fb50cbe9538"
   },
   "outputs": [
    {
     "name": "stdout",
     "output_type": "stream",
     "text": [
      "[  1  14  22  16  43 530 973   2   2  65 458   2  66   2   4 173  36 256\n",
      "   5  25 100  43 838 112  50 670   2   9  35 480 284   5 150   4 172 112\n",
      " 167   2 336 385  39   4 172   2   2  17 546  38  13 447   4 192  50  16\n",
      "   6 147   2  19  14  22   4   2   2 469   4  22  71  87  12  16  43 530\n",
      "  38  76  15  13   2   4  22  17 515  17  12  16 626  18   2   5  62 386\n",
      "  12   8 316   8 106   5   4   2   2  16 480  66   2  33   4 130  12  16\n",
      "  38 619   5  25 124  51  36 135  48  25   2  33   6  22  12 215  28  77\n",
      "  52   5  14 407  16  82   2   8   4 107 117   2  15 256   4   2   7   2\n",
      "   5 723  36  71  43 530 476  26 400 317  46   7   4   2   2  13 104  88\n",
      "   4 381  15 297  98  32   2  56  26 141   6 194   2  18   4 226  22  21\n",
      " 134 476  26 480   5 144  30   2  18  51  36  28 224  92  25 104   4 226\n",
      "  65  16  38   2  88  12  16 283   5  16   2 113 103  32  15  16   2  19\n",
      " 178  32   0   0   0   0   0   0   0   0   0   0   0   0   0   0   0   0\n",
      "   0   0   0   0   0   0   0   0   0   0   0   0   0   0   0   0   0   0\n",
      "   0   0   0   0   0   0   0   0   0   0   0   0   0   0   0   0   0   0\n",
      "   0   0   0   0   0   0   0   0   0   0   0   0   0   0   0   0   0   0\n",
      "   0   0   0   0   0   0   0   0   0   0   0   0]\n",
      "<START> this film was just brilliant casting # # story direction # really # the part they played and you could just imagine being there robert # is an amazing actor and now the same being director # father came from the same # # as myself so i loved the fact there was a real # with this film the # # throughout the film were great it was just brilliant so much that i # the film as soon as it was released for # and would recommend it to everyone to watch and the # # was amazing really # at the end it was so sad and you know what they say if you # at a film it must have been good and this definitely was also # to the two little # that played the # of # and paul they were just brilliant children are often left out of the # # i think because the stars that play them all # up are such a big # for the whole film but these children are amazing and should be # for what they have done don't you think the whole story was so # because it was true and was # life after all that was # with us all # # # # # # # # # # # # # # # # # # # # # # # # # # # # # # # # # # # # # # # # # # # # # # # # # # # # # # # # # # # # # # # # # # # # # # # # # # # # # # # # # #\n"
     ]
    }
   ],
   "source": [
    "def limit_vocab(sequences, max_token_id, oov_id=2):\n",
    "  \"\"\"Replace token ids greater than or equal to max_token_id with the oov_id.\"\"\"\n",
    "  reduced_sequences = np.copy(sequences)\n",
    "  reduced_sequences[reduced_sequences >= max_token_id] = oov_id\n",
    "  return reduced_sequences\n",
    "\n",
    "# Reduce vocabulary to 1000 tokens.\n",
    "X_train_reduced = limit_vocab(X_train_padded, max_token_id=1000)\n",
    "print(X_train_reduced[0])\n",
    "\n",
    "# Decode to see what this looks like in tokens. Note the '#' for OOVs.\n",
    "print(decode(X_train_reduced[0]))"
   ]
  },
  {
   "cell_type": "markdown",
   "metadata": {
    "id": "d24mOPC6ybC4"
   },
   "source": [
    "### One-hot Encoding\n",
    "Our current feature representations are **sparse**. That is, we only keep track of the token ids that are present in the input. A **one-hot** encoding replaces a value like 22 (corresponding to 'film') with an array with a single 1 at position 22 and zeros everywhere else. This will be very memory-inefficient, but we'll do it anyway for clarity.\n",
    "\n",
    "As discussed above, let's dramatically reduce both the number of token positions (review length) and the number of token ids (vocabulary). We'll clip each review after 20 tokens (so 2500 -> 20) and keep only the most common 1000 tokens (so 90000 -> 1000)."
   ]
  },
  {
   "cell_type": "code",
   "execution_count": 29,
   "metadata": {
    "colab": {
     "base_uri": "https://localhost:8080/"
    },
    "executionInfo": {
     "elapsed": 1777,
     "status": "ok",
     "timestamp": 1646684668163,
     "user": {
      "displayName": "Daniel Gillick",
      "photoUrl": "https://lh3.googleusercontent.com/a-/AOh14Gg9DrSMlwYnG9EolecuJqe8n9m7fpcje4_UbYrhQ10=s64",
      "userId": "01872965353911650729"
     },
     "user_tz": 600
    },
    "id": "EXzkqVL3Jufj",
    "outputId": "69a06ea3-61e2-4d2b-ed57-69c51ee2c5f4"
   },
   "outputs": [
    {
     "name": "stdout",
     "output_type": "stream",
     "text": [
      "X_train_one_hot shape: (25000, 20, 1000)\n"
     ]
    }
   ],
   "source": [
    "# Keras has a util to create one-hot encodings.\n",
    "X_train_padded = pad_data(X_train, max_length=20)\n",
    "X_train_reduced = limit_vocab(X_train_padded, max_token_id=1000)\n",
    "X_train_one_hot = tf.keras.utils.to_categorical(X_train_reduced)\n",
    "print('X_train_one_hot shape:', X_train_one_hot.shape)"
   ]
  },
  {
   "cell_type": "markdown",
   "metadata": {
    "id": "B5RvIN4w66Ej"
   },
   "source": [
    "Note the shape of the one-hot encoded features. For each of our 25000 training examples, we have a 20 x 1000 matrix. That is, for each of 20 token positions, we have a vector of 1000 elements containing a single 1 and 999 zeros.\n",
    "\n",
    "We can think of these 1000-dimensional one-hot arrays as **embeddings**. Each token in the input has a 1000-dimensional representation. But because of the one-hot setup, the distance between each pair of tokens is the same ([1,0,0,...], [0,1,0,...], etc.). By contrast, learned embeddings result in meaningful distances between pairs of tokens. We'll get to that soon."
   ]
  },
  {
   "cell_type": "markdown",
   "metadata": {
    "id": "296Cnt647b5c"
   },
   "source": [
    "## Logistic Regression with One-Hot Encodings\n",
    "Let's start with something familiar -- logistic regression. Since our feature representation is in 2 dimensions (20 x 1000), we need to flatten it to pass it to Keras (remember we did this with the pixel data too). Let's try two strategies for flattening.\n",
    "\n",
    "1. Flatten by *concatenating* (as we did with pixels), turning (20 x 1000) data into (20000,) data. The result is a separate feature for each token at each position.\n",
    "2. Flatten by *averaging* over token positions, turning (20 x 1000) data into (1000,) data. The result is an array with average token counts, ignoring position.\n",
    "\n",
    "NOTE: Our prior assignments have used the standard Stochastic Gradient Descent (SGD) optimizer to compute the gradient from an estimate of the loss (based on the current mini-batch). There are many alternative optimizers. Here we'll use the **Adam** optimizer, which sometimes gives better results. One key characteristic of Adam is that it effectively uses a different learning rate for each parameter rather than a fixed learning rate as in SGD."
   ]
  },
  {
   "cell_type": "code",
   "execution_count": 30,
   "metadata": {
    "id": "6m6eebM-0dUW"
   },
   "outputs": [],
   "source": [
    "def build_onehot_model(average_over_positions=False):\n",
    "  \"\"\"Build a tf.keras model for one-hot data.\"\"\"\n",
    "  # Clear session and remove randomness.\n",
    "  tf.keras.backend.clear_session()\n",
    "  tf.random.set_seed(0)\n",
    "\n",
    "  model = tf.keras.Sequential()\n",
    "  if average_over_positions:\n",
    "    # This layer averages over the first dimension of the input by default.\n",
    "    model.add(tf.keras.layers.GlobalAveragePooling1D())\n",
    "  else:\n",
    "    # Concatenate.\n",
    "    model.add(tf.keras.layers.Flatten())\n",
    "  model.add(tf.keras.layers.Dense(\n",
    "      units=1,                     # output dim (for binary classification)\n",
    "      activation=\"sigmoid\"         # sigmoid activation for classification\n",
    "  ))\n",
    "\n",
    "  model.compile(loss='binary_crossentropy',   # this is a classification task\n",
    "                optimizer='adam',             # fancy optimizer\n",
    "                metrics=['accuracy'])\n",
    "\n",
    "  return model"
   ]
  },
  {
   "cell_type": "markdown",
   "metadata": {
    "id": "NY3W_1-OSZ2X"
   },
   "source": [
    "Now let's try fitting the model to our training data and check performance metrics on the validation (held-out) data. But first, here's a function for plotting the learning curves given the training history object we get from Keras."
   ]
  },
  {
   "cell_type": "code",
   "execution_count": 31,
   "metadata": {
    "id": "cOVmajSuMjN6"
   },
   "outputs": [],
   "source": [
    "def plot_history(history):\n",
    "  plt.ylabel('Loss')\n",
    "  plt.xlabel('Epoch')\n",
    "  plt.xticks(range(0, len(history['loss'] + 1)))\n",
    "  plt.plot(history['loss'], label=\"training\", marker='o')\n",
    "  plt.plot(history['val_loss'], label=\"validation\", marker='o')\n",
    "  plt.legend()\n",
    "  plt.show()"
   ]
  },
  {
   "cell_type": "code",
   "execution_count": 32,
   "metadata": {
    "colab": {
     "base_uri": "https://localhost:8080/",
     "height": 478
    },
    "executionInfo": {
     "elapsed": 22140,
     "status": "ok",
     "timestamp": 1646684718388,
     "user": {
      "displayName": "Daniel Gillick",
      "photoUrl": "https://lh3.googleusercontent.com/a-/AOh14Gg9DrSMlwYnG9EolecuJqe8n9m7fpcje4_UbYrhQ10=s64",
      "userId": "01872965353911650729"
     },
     "user_tz": 600
    },
    "id": "MyE4PgX70_op",
    "outputId": "3de05dfa-f372-4b77-ba43-f212c2f47c1e"
   },
   "outputs": [
    {
     "name": "stdout",
     "output_type": "stream",
     "text": [
      "Epoch 1/5\n",
      "352/352 [==============================] - 2s 4ms/step - loss: 0.6788 - accuracy: 0.6079 - val_loss: 0.6656 - val_accuracy: 0.6528\n",
      "Epoch 2/5\n",
      "352/352 [==============================] - 1s 3ms/step - loss: 0.6336 - accuracy: 0.7435 - val_loss: 0.6451 - val_accuracy: 0.6740\n",
      "Epoch 3/5\n",
      "352/352 [==============================] - 1s 3ms/step - loss: 0.5969 - accuracy: 0.7763 - val_loss: 0.6291 - val_accuracy: 0.6772\n",
      "Epoch 4/5\n",
      "352/352 [==============================] - 1s 3ms/step - loss: 0.5668 - accuracy: 0.7972 - val_loss: 0.6179 - val_accuracy: 0.6808\n",
      "Epoch 5/5\n",
      "352/352 [==============================] - 1s 3ms/step - loss: 0.5411 - accuracy: 0.8093 - val_loss: 0.6087 - val_accuracy: 0.6844\n"
     ]
    },
    {
     "data": {
      "image/png": "[encoded data removed]",
      "text/plain": [
       "<Figure size 640x480 with 1 Axes>"
      ]
     },
     "metadata": {},
     "output_type": "display_data"
    }
   ],
   "source": [
    "model = build_onehot_model()\n",
    "\n",
    "# Fit the model.\n",
    "history = model.fit(\n",
    "  x = X_train_one_hot,  # one-hot training data\n",
    "  y = Y_train,          # corresponding binary labels\n",
    "  epochs=5,             # number of passes through the training data\n",
    "  batch_size=64,        # mini-batch size\n",
    "  validation_split=0.1, # use a fraction of the examples for validation\n",
    "  verbose=1             # display some progress output during training\n",
    "  )\n",
    "\n",
    "# Convert the return value into a DataFrame so we can see the train loss \n",
    "# and binary accuracy after every epoch.\n",
    "history = pd.DataFrame(history.history)\n",
    "plot_history(history)"
   ]
  },
  {
   "cell_type": "markdown",
   "metadata": {
    "id": "QuCh9aQPv7F_"
   },
   "source": [
    "---\n",
    "### Exercise 2: Comparing logistic regrerssion models (20 points)\n",
    "Train the one-hot model using both the concatenating and the averaging strategies and compare the results. Let's call these *LR-C* (Logistic Regression Concatenating) and *LR-A* (Logistic Regression Averaging). Then answer the following questions:\n",
    "\n",
    "1. What are the final training and validation accuracies for LR-C and LR-A?\n",
    "2. How many parameters are there in each model?\n",
    "3. Would you say that either model is overfitting? Why or why not?\n",
    "4. Briefly describe how LR-C differs from LR-A. How do you explain the relationship between their respective validation accuracy results? "
   ]
  },
  {
   "attachments": {},
   "cell_type": "markdown",
   "metadata": {
    "id": "CEAN5BejHc__"
   },
   "source": [
    "*Written answers:*\n",
    "\n",
    "1. \n",
    "-   LR-C Final Training Accuracy: 81% Validation: 68.4%\n",
    "-   LR-A Final Training Accuracy: 70% Validation: 69.9%\n",
    "2. There are 1001 parameters in the LR-A model. There are 20001 parameters in the LR-C Model\n",
    "3. It does not appear to look like either model is overfitting, however if one was overfitting it would be more probable that the LR-C model was since the validation loss was not at all similar to the training one.\n",
    "4. The LR-C model retains a high dimensionality by extending the embedding into a long vector for each row. While this helps retain the information about each data point, there is a high risk of overfitting the data by including so much information. In the LR-A model, the embeddings are represented as an average among all of the embeddings, which end up being a singular dimension. This results in a loss of information, while keeping the property of generalization, so it has less of a risk of overfitting. With that, the LR-C accuracy might have been higher due to overfitting.\n"
   ]
  },
  {
   "cell_type": "markdown",
   "metadata": {},
   "source": [
    "---"
   ]
  },
  {
   "cell_type": "markdown",
   "metadata": {
    "id": "sJIBRqK7lsjG"
   },
   "source": [
    "## Logistic Regression with Embeddings\n",
    "Next, let's train model that replaces one-hot representations of each token with learned embeddings.\n",
    "\n",
    "The code below uses a Keras Embedding layer, which expects to receive a sparse (rather than one-hot) representation. That is, it expects a (padded) sequence of token ids; for each id, it looks up the corresponding embedding vector."
   ]
  },
  {
   "cell_type": "code",
   "execution_count": 33,
   "metadata": {
    "id": "ho6uOeCaBs2e"
   },
   "outputs": [],
   "source": [
    "def build_embeddings_model(average_over_positions=False,\n",
    "                           vocab_size=1000,\n",
    "                           sequence_length=20,\n",
    "                           embedding_dim=2):\n",
    "  \"\"\"Build a tf.keras model using embeddings.\"\"\"\n",
    "  # Clear session and remove randomness.\n",
    "  tf.keras.backend.clear_session()\n",
    "  tf.random.set_seed(0)\n",
    "\n",
    "  model = tf.keras.Sequential()\n",
    "  model.add(tf.keras.layers.Embedding(\n",
    "      input_dim=vocab_size,\n",
    "      output_dim=embedding_dim,\n",
    "      input_length=sequence_length)\n",
    "  )\n",
    "\n",
    "  if average_over_positions:\n",
    "    # This layer averages over the first dimension of the input by default.\n",
    "    model.add(tf.keras.layers.GlobalAveragePooling1D())\n",
    "  else:\n",
    "    # Concatenate.\n",
    "    model.add(tf.keras.layers.Flatten())\n",
    "  model.add(tf.keras.layers.Dense(\n",
    "      units=1,                     # output dim (for binary classification)\n",
    "      activation='sigmoid'         # apply the sigmoid function!\n",
    "  ))\n",
    "\n",
    "  model.compile(loss='binary_crossentropy', \n",
    "                optimizer='adam',\n",
    "                metrics=['accuracy'])\n",
    "\n",
    "  return model"
   ]
  },
  {
   "cell_type": "markdown",
   "metadata": {
    "id": "eyhoEjAiFSNB"
   },
   "source": [
    "Try training the model as before. We'll use the averaging strategy rather than the concatenating strategy for dealing with the token sequence. That is, we'll look up embedding vectors for each token. Then we'll average them to produce a single vector. Then we'll traing a logistic regression with that vector as input to predict the binary label."
   ]
  },
  {
   "cell_type": "code",
   "execution_count": 34,
   "metadata": {
    "colab": {
     "base_uri": "https://localhost:8080/",
     "height": 478
    },
    "executionInfo": {
     "elapsed": 5490,
     "status": "ok",
     "timestamp": 1646684762935,
     "user": {
      "displayName": "Daniel Gillick",
      "photoUrl": "https://lh3.googleusercontent.com/a-/AOh14Gg9DrSMlwYnG9EolecuJqe8n9m7fpcje4_UbYrhQ10=s64",
      "userId": "01872965353911650729"
     },
     "user_tz": 600
    },
    "id": "uYUE5UwkxoU8",
    "outputId": "20a4c237-8c49-4b24-9ea1-e0f325cb9908"
   },
   "outputs": [
    {
     "name": "stdout",
     "output_type": "stream",
     "text": [
      "Epoch 1/5\n",
      "352/352 [==============================] - 1s 1ms/step - loss: 0.6882 - accuracy: 0.6301 - val_loss: 0.6816 - val_accuracy: 0.6544\n",
      "Epoch 2/5\n",
      "352/352 [==============================] - 0s 752us/step - loss: 0.6695 - accuracy: 0.6919 - val_loss: 0.6593 - val_accuracy: 0.6852\n",
      "Epoch 3/5\n",
      "352/352 [==============================] - 0s 880us/step - loss: 0.6428 - accuracy: 0.7029 - val_loss: 0.6333 - val_accuracy: 0.6972\n",
      "Epoch 4/5\n",
      "352/352 [==============================] - 0s 733us/step - loss: 0.6155 - accuracy: 0.7135 - val_loss: 0.6105 - val_accuracy: 0.7052\n",
      "Epoch 5/5\n",
      "352/352 [==============================] - 0s 736us/step - loss: 0.5916 - accuracy: 0.7208 - val_loss: 0.5919 - val_accuracy: 0.7120\n"
     ]
    },
    {
     "data": {
      "image/png": "[encoded data removed]",
      "text/plain": [
       "<Figure size 640x480 with 1 Axes>"
      ]
     },
     "metadata": {},
     "output_type": "display_data"
    }
   ],
   "source": [
    "model = build_embeddings_model(average_over_positions=True,\n",
    "                               vocab_size=1000,\n",
    "                               sequence_length=20,\n",
    "                               embedding_dim=2)\n",
    "history = model.fit(\n",
    "  x = X_train_reduced,  # our sparse padded training data\n",
    "  y = Y_train,          # corresponding binary labels\n",
    "  epochs=5,             # number of passes through the training data\n",
    "  batch_size=64,        # mini-batch size\n",
    "  validation_split=0.1, # use a fraction of the examples for validation\n",
    "  verbose=1             # display some progress output during training\n",
    "  )\n",
    "\n",
    "history = pd.DataFrame(history.history)\n",
    "plot_history(history)"
   ]
  },
  {
   "cell_type": "markdown",
   "metadata": {
    "id": "V3k__61hFnag"
   },
   "source": [
    "---\n",
    "### Exercise 3: Experiments with embeddings (20 points)\n",
    "Train 6 models with embedding sizes in [2,4,8,16,32,64], keeping other settings fixed. Use the averaging strategy rather than the concatenating strategy.\n",
    "\n",
    "1. Construct a table with the training and validation accuracies of each model (after 5 training epochs).\n",
    "2. Compute the number of parameters in each model.\n",
    "3. Do learned embeddings appear to provide improved performance over the one-hot encoding? Why?"
   ]
  },
  {
   "attachments": {},
   "cell_type": "markdown",
   "metadata": {
    "id": "O7t46ZdX2ofd"
   },
   "source": [
    "*Written answers:*\n",
    "\n",
    "1. \n",
    "| Embedding Size | Training Accuracy | Validation Accuracy |\n",
    "|----------|----------|----------|\n",
    "| 2 | 72% | 70.8% |\n",
    "| 4 | 72.9% | 71.6% |\n",
    "| 8 | 74.1% | 72.1% |\n",
    "| 16 | 74.9% | 72.7% |\n",
    "| 32 | 75.2% | 73% |\n",
    "| 64 | 75.5% | 71% |\n",
    "\n",
    "2. Using the average parameter, there are 2003 params. Without the average paraneter there are 2041 params.\n",
    "3. With a limited number of embedding dimensions, it is just barely better than the one hot encoding parameters. This is probably due to it learning some relationships with words rather than strictly looking for specific words to make a prediction.\n"
   ]
  },
  {
   "cell_type": "markdown",
   "metadata": {},
   "source": [
    "---"
   ]
  },
  {
   "cell_type": "markdown",
   "metadata": {
    "id": "i2dWOuxqKHA6"
   },
   "source": [
    "## Inspecting Learned Embeddings\n",
    "Let's retrieve the learned embedding parameters from the trained model and plot the token embeddings.\n",
    "\n",
    "The model layers in a Keras Sequential model are stored as a list and the embeddings are the first layer. We can use the get_weights() function to get a numpy array with the parameters."
   ]
  },
  {
   "cell_type": "code",
   "execution_count": 35,
   "metadata": {
    "colab": {
     "base_uri": "https://localhost:8080/",
     "height": 86
    },
    "executionInfo": {
     "elapsed": 355,
     "status": "ok",
     "timestamp": 1646684774106,
     "user": {
      "displayName": "Daniel Gillick",
      "photoUrl": "https://lh3.googleusercontent.com/a-/AOh14Gg9DrSMlwYnG9EolecuJqe8n9m7fpcje4_UbYrhQ10=s64",
      "userId": "01872965353911650729"
     },
     "user_tz": 600
    },
    "id": "bfsbGSwkaFjo",
    "outputId": "d9d74723-012f-464f-a9f3-8a41d8178868"
   },
   "outputs": [
    {
     "data": {
      "text/plain": [
       "[<keras.layers.core.embedding.Embedding at 0x1ad312010>,\n",
       " <keras.layers.pooling.global_average_pooling1d.GlobalAveragePooling1D at 0x19e2ec850>,\n",
       " <keras.layers.core.dense.Dense at 0x19e2ed450>]"
      ]
     },
     "metadata": {},
     "output_type": "display_data"
    },
    {
     "data": {
      "text/plain": [
       "(1000, 2)"
      ]
     },
     "metadata": {},
     "output_type": "display_data"
    }
   ],
   "source": [
    "# Display the model layers.\n",
    "display(model.layers)\n",
    "\n",
    "# Retrieve the embeddings layer, which itself is wrapped in a list.\n",
    "embeddings = model.layers[0].get_weights()[0]\n",
    "display(embeddings.shape)"
   ]
  },
  {
   "cell_type": "markdown",
   "metadata": {
    "id": "apPWscNwcXTE"
   },
   "source": [
    "Now we'll use a fancy plotting tool called *plotly* to show the embeddings with hovertext so you can move your mouse over the points to see the corresponding tokens."
   ]
  },
  {
   "cell_type": "code",
   "execution_count": 36,
   "metadata": {
    "colab": {
     "base_uri": "https://localhost:8080/",
     "height": 542
    },
    "executionInfo": {
     "elapsed": 453,
     "status": "ok",
     "timestamp": 1646684778338,
     "user": {
      "displayName": "Daniel Gillick",
      "photoUrl": "https://lh3.googleusercontent.com/a-/AOh14Gg9DrSMlwYnG9EolecuJqe8n9m7fpcje4_UbYrhQ10=s64",
      "userId": "01872965353911650729"
     },
     "user_tz": 600
    },
    "id": "5RZMTrA0KttL",
    "outputId": "f5ec9b65-84bb-4c28-c673-cf86a87112df"
   },
   "outputs": [
    {
     "data": {
      "application/vnd.plotly.v1+json": {
       "config": {
        "plotlyServerURL": "https://plot.ly"
       },
       "data": [
        {
         "hoverinfo": "text",
         "mode": "markers",
         "text": [
          "game",
          "past",
          "able",
          "b",
          "days",
          "turns",
          "child",
          "they're",
          "hand",
          "flick",
          "enjoyed",
          "act",
          "genre",
          "town",
          "favorite",
          "soon",
          "kill",
          "starts",
          "sometimes",
          "car",
          "gave",
          "run",
          "late",
          "eyes",
          "actress",
          "etc",
          "directed",
          "horrible",
          "won't",
          "viewer",
          "brilliant",
          "parts",
          "self",
          "themselves",
          "hour",
          "expect",
          "thinking",
          "stories",
          "stuff",
          "girls",
          "obviously",
          "blood",
          "decent",
          "city",
          "voice",
          "highly",
          "myself",
          "feeling",
          "fight",
          "except",
          "slow",
          "matter",
          "type",
          "anyway",
          "kid",
          "roles",
          "killed",
          "heard",
          "god",
          "age",
          "says",
          "moment",
          "took",
          "leave",
          "writer",
          "strong",
          "cannot",
          "violence",
          "police",
          "hit",
          "stop",
          "happens",
          "particularly",
          "known",
          "involved",
          "happened",
          "extremely",
          "daughter",
          "obvious",
          "told",
          "chance",
          "living",
          "coming",
          "lack",
          "alone",
          "experience",
          "wouldn't",
          "including",
          "murder",
          "attempt",
          "s",
          "please",
          "james",
          "happen",
          "wonder",
          "crap",
          "ago",
          "brother",
          "film's",
          "gore",
          "none",
          "complete",
          "interest",
          "score",
          "group",
          "cut",
          "simple",
          "save",
          "ok",
          "hell",
          "looked",
          "career",
          "number",
          "song",
          "possible",
          "seriously",
          "annoying",
          "shown",
          "exactly",
          "sad",
          "running",
          "musical",
          "serious",
          "taken",
          "yourself",
          "whose",
          "released",
          "cinematography",
          "david",
          "scary",
          "ends",
          "english",
          "hero",
          "usually",
          "hours",
          "reality",
          "opening",
          "i'll",
          "across",
          "today",
          "jokes",
          "light",
          "hilarious",
          "somewhat",
          "usual",
          "started",
          "cool",
          "ridiculous",
          "body",
          "relationship",
          "view",
          "level",
          "opinion",
          "change",
          "happy",
          "middle",
          "taking",
          "wish",
          "husband",
          "finds",
          "saying",
          "order",
          "talking",
          "ones",
          "documentary",
          "shots",
          "huge",
          "novel",
          "female",
          "mostly",
          "robert",
          "power",
          "episodes",
          "room",
          "important",
          "rating",
          "talent",
          "five",
          "major",
          "turned",
          "strange",
          "word",
          "modern",
          "call",
          "apparently",
          "disappointed",
          "single",
          "events",
          "due",
          "four",
          "songs",
          "basically",
          "attention",
          "7",
          "knows",
          "clearly",
          "supporting",
          "knew",
          "british",
          "television",
          "comic",
          "non",
          "fast",
          "earth",
          "country",
          "future",
          "cheap",
          "class",
          "thriller",
          "8",
          "silly",
          "king",
          "problems",
          "aren't",
          "easily",
          "words",
          "tells",
          "miss",
          "jack",
          "local",
          "sequence",
          "bring",
          "entertainment",
          "paul",
          "beyond",
          "upon",
          "whether",
          "predictable",
          "moving",
          "similar",
          "straight",
          "romantic",
          "sets",
          "review",
          "falls",
          "oscar",
          "mystery",
          "enjoyable",
          "needs",
          "appears",
          "talk",
          "rock",
          "george",
          "giving",
          "eye",
          "richard",
          "within",
          "ten",
          "animation",
          "message",
          "theater",
          "near",
          "above",
          "dull",
          "nearly",
          "sequel",
          "theme",
          "points",
          "'",
          "stand",
          "mention",
          "lady",
          "bunch",
          "add",
          "feels",
          "herself",
          "release",
          "red",
          "team",
          "storyline",
          "surprised",
          "ways",
          "using",
          "named",
          "haven't",
          "lots",
          "easy",
          "fantastic",
          "begins",
          "actual",
          "working",
          "effort",
          "york",
          "die",
          "hate",
          "french",
          "minute",
          "tale",
          "clear",
          "stay",
          "9",
          "elements",
          "feature",
          "among",
          "follow",
          "comments",
          "re",
          "viewers",
          "avoid",
          "sister",
          "showing",
          "typical",
          "editing",
          "what's",
          "famous",
          "tried",
          "sorry",
          "dialog",
          "check",
          "fall",
          "period",
          "season",
          "form",
          "certain",
          "filmed",
          "weak",
          "soundtrack",
          "means",
          "buy",
          "material",
          "somehow",
          "realistic",
          "figure",
          "crime",
          "doubt",
          "gone",
          "peter",
          "tom",
          "kept",
          "viewing",
          "t",
          "general",
          "leads",
          "greatest",
          "space",
          "lame",
          "suspense",
          "dance",
          "imagine",
          "brought",
          "third",
          "atmosphere",
          "hear",
          "particular",
          "sequences",
          "whatever",
          "parents",
          "move",
          "lee",
          "indeed",
          "learn",
          "rent",
          "de",
          "eventually",
          "note",
          "deal",
          "average",
          "reviews",
          "wait",
          "forget",
          "japanese",
          "sexual",
          "poorly",
          "premise",
          "okay",
          "zombie",
          "surprise",
          "believable",
          "stage",
          "possibly",
          "sit",
          "who's",
          "decided",
          "expected",
          "you've",
          "subject",
          "nature",
          "became",
          "difficult",
          "free",
          "killing",
          "screenplay",
          "truth",
          "romance",
          "dr",
          "nor",
          "reading",
          "needed",
          "question",
          "leaves",
          "street",
          "20",
          "meets",
          "hot",
          "unless",
          "begin",
          "baby",
          "superb",
          "credits",
          "imdb",
          "otherwise",
          "write",
          "shame",
          "let's",
          "situation",
          "dramatic",
          "memorable",
          "directors",
          "earlier",
          "meet",
          "disney",
          "open",
          "dog",
          "badly",
          "joe",
          "male",
          "weird",
          "acted",
          "forced",
          "laughs",
          "sci",
          "emotional",
          "older",
          "realize",
          "fi",
          "dream",
          "society",
          "writers",
          "interested",
          "footage",
          "forward",
          "comment",
          "crazy",
          "deep",
          "sounds",
          "plus",
          "beauty",
          "whom",
          "america",
          "fantasy",
          "directing",
          "keeps",
          "ask",
          "development",
          "features",
          "air",
          "quickly",
          "mess",
          "creepy",
          "towards",
          "perfectly",
          "mark",
          "worked",
          "box",
          "cheesy",
          "unique",
          "setting",
          "hands",
          "plenty",
          "result",
          "previous",
          "brings",
          "effect",
          "e",
          "total",
          "personal",
          "incredibly",
          "rate",
          "fire",
          "monster",
          "business",
          "leading",
          "apart",
          "casting",
          "admit",
          "joke",
          "powerful",
          "appear",
          "background",
          "telling",
          "girlfriend",
          "meant",
          "christmas",
          "hardly",
          "present",
          "battle",
          "potential",
          "create",
          "bill",
          "break",
          "pay",
          "masterpiece",
          "gay",
          "political",
          "return",
          "dumb",
          "fails",
          "fighting",
          "various",
          "era"
         ],
         "textposition": "bottom left",
         "type": "scatter",
         "x": [
          -0.24413083493709564,
          -0.11109588295221329,
          0.028558185324072838,
          -0.006914609577506781,
          -0.21387597918510437,
          0.034861594438552856,
          -0.1498647779226303,
          0.10322213917970657,
          0.29886263608932495,
          0.17731556296348572,
          -0.5354052186012268,
          0.17652128636837006,
          -0.34601113200187683,
          0.01367957890033722,
          -0.7002829909324646,
          -0.28590816259384155,
          0.2813180983066559,
          0.023427492007613182,
          -0.23369425535202026,
          0.21192331612110138,
          -0.004176431335508823,
          0.28143951296806335,
          -0.029058050364255905,
          -0.09545315057039261,
          -0.020068680867552757,
          0.25362861156463623,
          0.11256973445415497,
          0.8165364861488342,
          -0.18776462972164154,
          0.03518655151128769,
          -0.6706831455230713,
          -0.10100559890270233,
          0.2806644141674042,
          0.03762019798159599,
          0.25139299035072327,
          0.18766875565052032,
          0.17761416733264923,
          -0.35846877098083496,
          -0.12112107872962952,
          0.052880726754665375,
          0.20468544960021973,
          -0.06617178022861481,
          0.4860430955886841,
          -0.1418660283088684,
          -0.1763196736574173,
          -1.2242015600204468,
          -0.08984019607305527,
          -0.11453647166490555,
          0.05057242140173912,
          0.36605140566825867,
          0.06415051221847534,
          -0.17236833274364471,
          -0.05550627037882805,
          0.08053027093410492,
          0.20257629454135895,
          -0.10754184424877167,
          0.26996639370918274,
          -0.12069755047559738,
          0.3376065790653229,
          -0.1968996226787567,
          0.09346665441989899,
          -0.014940549619495869,
          0.14127184450626373,
          0.19658131897449493,
          0.21528618037700653,
          -0.3102857768535614,
          -0.03505554795265198,
          0.12014983594417572,
          -0.11258500814437866,
          -0.5222870707511902,
          0.230772003531456,
          0.3460955023765564,
          0.12062707543373108,
          -0.09948117285966873,
          0.23918116092681885,
          0.08560427278280258,
          0.07024994492530823,
          -0.014130218885838985,
          0.39403802156448364,
          -0.032592032104730606,
          -0.6570221781730652,
          0.0932832732796669,
          -0.08740304410457611,
          0.5078016519546509,
          -0.021213674917817116,
          -0.37360215187072754,
          0.7090630531311035,
          -0.3247516453266144,
          -0.010536691173911095,
          0.4925738275051117,
          0.08412046730518341,
          0.19419151544570923,
          -0.19996817409992218,
          -0.09730113297700882,
          0.18704770505428314,
          0.9292688369750977,
          -0.14137017726898193,
          0.025271862745285034,
          0.17675337195396423,
          0.5425616502761841,
          0.3528170585632324,
          0.3226510286331177,
          0.1293449103832245,
          -0.18958331644535065,
          -0.07439513504505157,
          -0.04040796682238579,
          -0.1711457073688507,
          0.8957393765449524,
          0.30381155014038086,
          0.2203868180513382,
          0.4311402142047882,
          0.2187187522649765,
          -0.15807190537452698,
          -0.0039051573257893324,
          -0.011226477101445198,
          0.24996772408485413,
          0.44030123949050903,
          -0.038998041301965714,
          -0.13429400324821472,
          0.3016064167022705,
          0.15697608888149261,
          -0.15336641669273376,
          0.004318288527429104,
          0.04091586917638779,
          0.4299502372741699,
          -0.01700475811958313,
          -0.22713369131088257,
          -0.1302437037229538,
          0.047481469810009,
          0.2577105760574341,
          -0.10573060065507889,
          -0.34969642758369446,
          -0.21666200459003448,
          0.07322295755147934,
          0.348197340965271,
          -0.26455631852149963,
          -0.048491042107343674,
          0.12291097640991211,
          -0.029268601909279823,
          -0.7752105593681335,
          0.16941073536872864,
          -0.2984738349914551,
          -0.23405560851097107,
          -0.07193078100681305,
          -0.023625029250979424,
          0.1820683777332306,
          -0.3035059869289398,
          0.5080105662345886,
          0.08101006597280502,
          -0.25541195273399353,
          -0.10677329450845718,
          0.08836624771356583,
          0.14163929224014282,
          -0.19282090663909912,
          -0.39194270968437195,
          0.06606055051088333,
          0.018931636586785316,
          -0.17292055487632751,
          0.10708814859390259,
          -0.1666620522737503,
          0.26613107323646545,
          -0.1100105568766594,
          -0.12199057638645172,
          -0.03671161085367203,
          -0.1931121051311493,
          0.2347124069929123,
          0.2556329071521759,
          -0.01028288621455431,
          0.1481989473104477,
          0.13245193660259247,
          -0.0998852401971817,
          0.12957873940467834,
          -0.29409947991371155,
          0.06266357004642487,
          -0.22332003712654114,
          0.29285427927970886,
          0.2574101686477661,
          0.13694214820861816,
          0.16563166677951813,
          0.26132261753082275,
          -0.029002249240875244,
          0.20608866214752197,
          -0.21854223310947418,
          0.19427429139614105,
          0.15271808207035065,
          0.11345936357975006,
          0.06073296442627907,
          0.03625971078872681,
          0.04495016857981682,
          -0.02468930557370186,
          0.00763704814016819,
          0.1302906721830368,
          -0.27951139211654663,
          -1.2216745615005493,
          -0.15690119564533234,
          0.16160961985588074,
          -0.13348816335201263,
          0.23151905834674835,
          0.003494451055303216,
          -0.27147188782691956,
          -0.20037274062633514,
          0.13850872218608856,
          0.21624276041984558,
          0.04285220056772232,
          -0.1107272207736969,
          -0.3292087912559509,
          0.5598986148834229,
          0.02041385881602764,
          -0.29734379053115845,
          -1.1641738414764404,
          0.23654107749462128,
          0.07298445701599121,
          0.04740554839372635,
          0.13235002756118774,
          -0.2469470500946045,
          -0.11269333958625793,
          -0.2817511558532715,
          -0.36417102813720703,
          -0.08116788417100906,
          0.1740390956401825,
          -0.20832975208759308,
          -0.3054596483707428,
          -0.21586336195468903,
          -0.20550620555877686,
          -0.015869775786995888,
          0.03824066370725632,
          -0.18401341140270233,
          0.44095945358276367,
          -0.4859221279621124,
          -0.07576432079076767,
          0.05298962444067001,
          -0.36817634105682373,
          0.03264690190553665,
          0.15353448688983917,
          0.1927223801612854,
          -0.4625348746776581,
          -0.15353131294250488,
          -0.5992390513420105,
          0.11737983673810959,
          0.11181730777025223,
          -0.05489209666848183,
          -0.2400064915418625,
          0.09009560197591782,
          -0.04509315267205238,
          0.002883817069232464,
          -0.05725269764661789,
          -0.15303035080432892,
          -0.05081932619214058,
          -0.07065728306770325,
          -0.35110947489738464,
          0.27746349573135376,
          0.019725624471902847,
          0.0018824617145583034,
          0.6583197116851807,
          -0.14856253564357758,
          0.12238423526287079,
          0.04488079249858856,
          0.11873301863670349,
          0.15893308818340302,
          -0.10861720144748688,
          -0.016327735036611557,
          -0.23267903923988342,
          -0.029164394363760948,
          -0.04144084453582764,
          0.0629860907793045,
          -0.2747390866279602,
          -0.29539015889167786,
          0.12320553511381149,
          -0.043730586767196655,
          0.034188833087682724,
          -0.021400604397058487,
          -0.08523666113615036,
          0.1852053701877594,
          0.33284059166908264,
          -0.3239169716835022,
          -0.06910086423158646,
          -0.14770345389842987,
          -0.5404303669929504,
          -0.03630205988883972,
          0.2763223350048065,
          -0.04967176541686058,
          0.43430981040000916,
          -0.0273679718375206,
          0.2896730601787567,
          0.22729574143886566,
          0.012626739218831062,
          0.2504782974720001,
          -0.4507004916667938,
          0.2339523732662201,
          0.5933418273925781,
          -0.9892163872718811,
          -0.20797064900398254,
          0.11615362018346786,
          -0.14092214405536652,
          0.011591642163693905,
          -0.08607062697410583,
          0.052653659135103226,
          -0.032478827983140945,
          1.264296531677246,
          0.10440212488174438,
          -0.14553280174732208,
          -0.15294525027275085,
          0.12185187637805939,
          0.0462031364440918,
          -0.265057772397995,
          0.0021380919497460127,
          0.628714382648468,
          0.14401479065418243,
          -0.3496425449848175,
          -0.04184723645448685,
          -0.1448386162519455,
          -0.30151379108428955,
          0.006684504449367523,
          -0.157634899020195,
          0.10581783205270767,
          0.43680694699287415,
          -0.2643752694129944,
          -0.10056502372026443,
          -0.24103808403015137,
          0.24350231885910034,
          -0.09967279434204102,
          -0.3485492765903473,
          0.06916920095682144,
          -0.11091532558202744,
          -0.10000306367874146,
          -0.06603305786848068,
          -0.0339229591190815,
          -0.18159721791744232,
          0.058445245027542114,
          -0.5020915269851685,
          0.3928593695163727,
          0.14385764300823212,
          -0.05743478611111641,
          -0.5174592733383179,
          0.13584423065185547,
          0.6914257407188416,
          -0.0362621508538723,
          -0.29996609687805176,
          -0.03582974895834923,
          -0.1918463557958603,
          -0.054653558880090714,
          -0.35117101669311523,
          -0.11669082939624786,
          -0.09438151121139526,
          -0.24691320955753326,
          0.18338894844055176,
          -0.009199544787406921,
          0.18874213099479675,
          0.38157856464385986,
          0.005387791898101568,
          -0.08406722545623779,
          0.4019726514816284,
          -0.09756547957658768,
          -0.06687211245298386,
          0.015251829288899899,
          -0.08186985552310944,
          0.07670082896947861,
          0.11448601633310318,
          -0.024027811363339424,
          -0.05914655327796936,
          -0.2399623841047287,
          0.15071284770965576,
          0.5599817633628845,
          0.2785961329936981,
          0.3831130564212799,
          0.19204266369342804,
          -0.09284158796072006,
          -0.27447932958602905,
          0.01544252596795559,
          0.0003975813160650432,
          0.22465501725673676,
          -0.12186168879270554,
          0.17541781067848206,
          0.10776886343955994,
          -0.032115235924720764,
          0.15577931702136993,
          -0.36185699701309204,
          -0.05403410643339157,
          -0.35104650259017944,
          0.40622496604919434,
          0.21379369497299194,
          -0.055298805236816406,
          0.006158224307000637,
          -0.3599694073200226,
          0.1777932196855545,
          0.07870693504810333,
          -0.14242666959762573,
          -0.12968231737613678,
          -0.015180392190814018,
          -0.09047387540340424,
          -0.055293064564466476,
          0.12934526801109314,
          -0.021599257364869118,
          0.200604647397995,
          0.9428532123565674,
          0.0961165800690651,
          0.051827676594257355,
          -0.5632283687591553,
          0.19597502052783966,
          0.18915273249149323,
          0.42662176489830017,
          0.47956860065460205,
          0.4248737692832947,
          0.030098970979452133,
          -0.2897971272468567,
          -0.15514232218265533,
          -0.13182516396045685,
          0.19718948006629944,
          -0.20551158487796783,
          0.23064617812633514,
          -0.13123713433742523,
          -0.36442339420318604,
          0.13698798418045044,
          0.48043447732925415,
          0.26794978976249695,
          0.14483222365379333,
          -0.1828184425830841,
          0.013437293469905853,
          0.11845531314611435,
          0.06260015815496445,
          -0.1858968585729599,
          -0.16157560050487518,
          -0.024988509714603424,
          0.25458067655563354,
          -0.08924736082553864,
          -0.10763499140739441,
          -0.2472335249185562,
          0.1558912992477417,
          -0.310050904750824,
          -0.01861579716205597,
          -0.25967124104499817,
          0.14432211220264435,
          -0.015038615092635155,
          -0.1937723308801651,
          0.07791241258382797,
          -0.05048029497265816,
          -0.32044440507888794,
          -0.10240621864795685,
          -0.2604820728302002,
          -0.23392631113529205,
          -0.060069650411605835,
          -0.1570259928703308,
          0.014196239411830902,
          0.07288715988397598,
          -0.15422214567661285,
          -0.28429853916168213,
          0.18187470734119415,
          0.7533423900604248,
          -0.15364748239517212,
          0.027282001450657845,
          -0.428026020526886,
          0.18134528398513794,
          0.13487832248210907,
          -0.0050578429363667965,
          0.26942816376686096,
          -0.3070698380470276,
          0.03311750292778015,
          0.06657596677541733,
          -0.051463183015584946,
          0.4457925260066986,
          0.08692516386508942,
          -0.22149254381656647,
          0.07465285062789917,
          0.25279924273490906,
          0.43263736367225647,
          -0.19650065898895264,
          0.023278867825865746,
          -0.22035855054855347,
          -0.10529481619596481,
          0.22212359309196472,
          0.09387856721878052,
          -0.19238615036010742,
          0.1463039517402649,
          0.1690572053194046,
          -0.04691063612699509,
          0.48989778757095337,
          -0.5712056756019592,
          0.05499490723013878,
          -0.06214868277311325,
          -0.011283785104751587,
          -0.12152301520109177,
          0.1372847557067871,
          0.08053318411111832,
          0.17880095541477203,
          -0.13170331716537476,
          -0.005326789803802967,
          0.28127890825271606,
          0.029361983761191368,
          -0.14834843575954437,
          0.3251640498638153,
          0.4037586450576782,
          -0.44894838333129883,
          0.2998659312725067,
          -0.07961785048246384,
          0.03275756910443306,
          0.3105878233909607,
          0.5142152309417725,
          -0.15029241144657135,
          -0.1349910944700241,
          -0.3519365191459656
         ],
         "y": [
          -0.20683887600898743,
          -0.12535586953163147,
          0.0023404660169035196,
          0.01340678334236145,
          -0.31312817335128784,
          0.0609421543776989,
          -0.1685219407081604,
          0.15494723618030548,
          0.3518081605434418,
          0.17653407156467438,
          -0.5599507689476013,
          0.23677754402160645,
          -0.38769277930259705,
          0.014383330009877682,
          -0.7918851971626282,
          -0.2775680422782898,
          0.31315311789512634,
          0.02746758796274662,
          -0.360513836145401,
          0.3002130687236786,
          -0.06232238933444023,
          0.32676026225090027,
          -0.11962953209877014,
          -0.12218276411294937,
          -0.10808954387903214,
          0.22470782697200775,
          0.0807429626584053,
          0.9100749492645264,
          -0.18637004494667053,
          -0.03204570710659027,
          -0.7518504858016968,
          -0.17637388408184052,
          0.3288125991821289,
          0.06732133030891418,
          0.23800043761730194,
          0.17679302394390106,
          0.14201532304286957,
          -0.34826526045799255,
          -0.08104242384433746,
          -0.019390026107430458,
          0.228825181722641,
          -0.1022731140255928,
          0.5684326887130737,
          -0.09829539060592651,
          -0.15086331963539124,
          -1.3676340579986572,
          -0.0034437295980751514,
          -0.16806979477405548,
          -0.015800727531313896,
          0.46919044852256775,
          0.06852347403764725,
          -0.1601906716823578,
          0.0059203156270086765,
          0.027084074914455414,
          0.21525634825229645,
          -0.15688076615333557,
          0.29175567626953125,
          -0.1417645364999771,
          0.40578600764274597,
          -0.2121439427137375,
          0.03961239755153656,
          -0.01987098529934883,
          0.14656396210193634,
          0.1592622697353363,
          0.2666435241699219,
          -0.3604203760623932,
          -0.012389985844492912,
          0.10264381766319275,
          -0.15557946264743805,
          -0.5403628945350647,
          0.22726820409297943,
          0.3875977098941803,
          0.10753931850194931,
          -0.15532442927360535,
          0.2504703104496002,
          0.06889700144529343,
          0.024036213755607605,
          -0.0030794423073530197,
          0.3571082055568695,
          0.0069628022611141205,
          -0.6905370354652405,
          0.044017400592565536,
          -0.10641129314899445,
          0.5574982762336731,
          -0.04217589646577835,
          -0.4509597718715668,
          0.7353956699371338,
          -0.3807596266269684,
          -0.004351645242422819,
          0.6229036450386047,
          0.10037720948457718,
          0.28593698143959045,
          -0.24642084538936615,
          -0.12113291025161743,
          0.15592020750045776,
          1.0204018354415894,
          -0.19783055782318115,
          -0.004315338563174009,
          0.14028817415237427,
          0.620574951171875,
          0.3815097212791443,
          0.3265044689178467,
          0.17321816086769104,
          -0.26473474502563477,
          -0.07632101327180862,
          -0.03708644583821297,
          -0.2269684225320816,
          1.0777232646942139,
          0.2802099287509918,
          0.23714694380760193,
          0.41056570410728455,
          0.30947068333625793,
          -0.2410994917154312,
          0.01741393283009529,
          0.042224276810884476,
          0.3340969681739807,
          0.46976301074028015,
          -0.10280244052410126,
          -0.17314504086971283,
          0.28421318531036377,
          0.13988013565540314,
          -0.2070440649986267,
          0.017212828621268272,
          0.08744548261165619,
          0.564210057258606,
          -0.027530474588274956,
          -0.23824788630008698,
          -0.1020815372467041,
          0.029875613749027252,
          0.23435351252555847,
          -0.1297985017299652,
          -0.38890546560287476,
          -0.21440544724464417,
          0.02538118325173855,
          0.3832240700721741,
          -0.2511921525001526,
          -0.10363170504570007,
          0.16532321274280548,
          -0.055148895829916,
          -0.8573778867721558,
          0.17517362534999847,
          -0.3297104835510254,
          -0.19327710568904877,
          -0.012706768698990345,
          -0.11683931201696396,
          0.20346903800964355,
          -0.24305447936058044,
          0.5201160311698914,
          0.08961764723062515,
          -0.27616310119628906,
          -0.15956281125545502,
          0.17321403324604034,
          0.17311418056488037,
          -0.21629241108894348,
          -0.44425639510154724,
          0.009048913605511189,
          0.0047350479289889336,
          -0.1363990157842636,
          0.12447618693113327,
          -0.1399592161178589,
          0.32958099246025085,
          -0.024842524901032448,
          -0.21413591504096985,
          -0.1061607152223587,
          -0.21160902082920074,
          0.23932808637619019,
          0.3399263322353363,
          -0.02692107856273651,
          0.09590484946966171,
          0.12728039920330048,
          -0.07404355704784393,
          0.12199079245328903,
          -0.38919374346733093,
          0.03677747771143913,
          -0.24582596123218536,
          0.24189706146717072,
          0.2924799621105194,
          0.15083539485931396,
          0.2056310772895813,
          0.35522353649139404,
          0.01626618392765522,
          0.20530857145786285,
          -0.27800390124320984,
          0.2550153136253357,
          0.17822273075580597,
          0.07612834125757217,
          0.12264377623796463,
          -0.0004594956408254802,
          0.09931201487779617,
          0.037262964993715286,
          0.04439620301127434,
          0.11941958218812943,
          -0.2492927461862564,
          -1.417893409729004,
          -0.23059876263141632,
          0.19370882213115692,
          -0.13245947659015656,
          0.32729241251945496,
          0.05461842566728592,
          -0.28964903950691223,
          -0.1630927175283432,
          0.153258815407753,
          0.20575910806655884,
          0.06854095309972763,
          -0.15647928416728973,
          -0.4053875803947449,
          0.6665089726448059,
          0.06342106312513351,
          -0.3224383592605591,
          -1.4167879819869995,
          0.28509530425071716,
          0.07849905639886856,
          0.06904559582471848,
          0.2196720540523529,
          -0.3312299847602844,
          -0.06666413694620132,
          -0.28789788484573364,
          -0.4706819951534271,
          -0.1313469260931015,
          0.23770537972450256,
          -0.22679968178272247,
          -0.3578052222728729,
          -0.18975694477558136,
          -0.1584070324897766,
          0.039215896278619766,
          -0.00967161450535059,
          -0.18287770450115204,
          0.4169492721557617,
          -0.604306697845459,
          -0.06335188448429108,
          0.13126622140407562,
          -0.42502617835998535,
          -0.03731517121195793,
          0.22322842478752136,
          0.262410044670105,
          -0.5511139035224915,
          -0.16963259875774384,
          -0.7294137477874756,
          0.20034259557724,
          0.128225639462471,
          0.011925924569368362,
          -0.23402506113052368,
          0.04886236414313316,
          -0.09433473646640778,
          -0.035044316202402115,
          -0.11157433688640594,
          -0.16510874032974243,
          -0.015948079526424408,
          -0.05581604689359665,
          -0.40471920371055603,
          0.2905426323413849,
          0.10925063490867615,
          -0.02856423147022724,
          0.7482061982154846,
          -0.19295042753219604,
          0.09034857153892517,
          0.07225926965475082,
          0.10599680244922638,
          0.1690189242362976,
          -0.15705876052379608,
          -0.09537847340106964,
          -0.26800471544265747,
          -0.056633125990629196,
          -0.11529328674077988,
          0.07090125232934952,
          -0.2155051976442337,
          -0.4171481430530548,
          0.1707790493965149,
          -0.11651736497879028,
          0.02182314358651638,
          -0.001018356066197157,
          -0.08752374351024628,
          0.2278802990913391,
          0.3715499937534332,
          -0.37493371963500977,
          -0.00585221266373992,
          -0.18303732573986053,
          -0.6201278567314148,
          -0.1072128638625145,
          0.28582364320755005,
          -0.02129850536584854,
          0.4969777464866638,
          -0.0493144653737545,
          0.2868073582649231,
          0.2598668038845062,
          -0.06265729665756226,
          0.24466753005981445,
          -0.4939480721950531,
          0.23990146815776825,
          0.6626763939857483,
          -1.139473557472229,
          -0.24174152314662933,
          0.048561446368694305,
          -0.19834977388381958,
          -0.07800561189651489,
          -0.04106095805764198,
          -0.029474420472979546,
          -0.1048494353890419,
          1.5135186910629272,
          0.1451384574174881,
          -0.16449150443077087,
          -0.20628301799297333,
          0.09423568844795227,
          0.045346032828092575,
          -0.262714147567749,
          -0.025383343920111656,
          0.7236232161521912,
          0.19283512234687805,
          -0.4365968108177185,
          -0.05237512290477753,
          -0.22180470824241638,
          -0.3624921143054962,
          -0.028845828026533127,
          -0.21330250799655914,
          0.05491374433040619,
          0.5533301830291748,
          -0.31249117851257324,
          -0.12108221650123596,
          -0.2946798801422119,
          0.19185800850391388,
          -0.016705311834812164,
          -0.4586964547634125,
          0.07280942797660828,
          -0.18444982171058655,
          -0.058852795511484146,
          -0.09964020550251007,
          -0.07581882178783417,
          -0.2647451162338257,
          0.07854373753070831,
          -0.585902214050293,
          0.48842424154281616,
          0.1453523337841034,
          -0.1294964998960495,
          -0.660722553730011,
          0.11629806458950043,
          0.7044755816459656,
          -0.08100944012403488,
          -0.2960457503795624,
          -0.060692016035318375,
          -0.18017233908176422,
          -0.03398517891764641,
          -0.39217737317085266,
          -0.16205687820911407,
          -0.15661360323429108,
          -0.2019052654504776,
          0.16481931507587433,
          -0.01915689930319786,
          0.22094061970710754,
          0.45655208826065063,
          0.013126171194016933,
          -0.03009187802672386,
          0.36499565839767456,
          -0.07196693867444992,
          -0.08789939433336258,
          -0.015979308634996414,
          -0.15562815964221954,
          0.10795996338129044,
          0.1199021190404892,
          -0.02889988385140896,
          -0.03224387392401695,
          -0.2548733353614807,
          0.1103319376707077,
          0.6498777866363525,
          0.2840982675552368,
          0.40346142649650574,
          0.22138291597366333,
          -0.061705853790044785,
          -0.2675483524799347,
          -0.044521480798721313,
          0.09668602794408798,
          0.3034161627292633,
          -0.15552876889705658,
          0.16661423444747925,
          0.1470712572336197,
          -0.019403768703341484,
          0.1576385498046875,
          -0.3813540041446686,
          -0.07072258740663528,
          -0.3659255802631378,
          0.41065356135368347,
          0.3253282308578491,
          -0.08757621794939041,
          -0.035839274525642395,
          -0.39657679200172424,
          0.14522597193717957,
          0.14326359331607819,
          -0.11917420476675034,
          -0.12787418067455292,
          -0.10376710444688797,
          -0.07206187397241592,
          -0.007685200311243534,
          0.1278124749660492,
          -0.08641462028026581,
          0.2787851393222809,
          1.0834382772445679,
          0.11838380992412567,
          0.07531755417585373,
          -0.5556793808937073,
          0.25163307785987854,
          0.17285925149917603,
          0.455081969499588,
          0.5142448544502258,
          0.4576774537563324,
          0.017220042645931244,
          -0.32906806468963623,
          -0.27473899722099304,
          -0.23195679485797882,
          0.196721613407135,
          -0.22152993083000183,
          0.24420318007469177,
          -0.14918649196624756,
          -0.36474210023880005,
          0.14932431280612946,
          0.526691734790802,
          0.28268539905548096,
          0.16801239550113678,
          -0.1914202868938446,
          -0.013449128717184067,
          0.20856280624866486,
          0.05325869843363762,
          -0.13261371850967407,
          -0.2111666351556778,
          -0.05568752810359001,
          0.26910069584846497,
          -0.1281345933675766,
          -0.21104168891906738,
          -0.286773145198822,
          0.20137257874011993,
          -0.3745594620704651,
          -0.03145131841301918,
          -0.2398558109998703,
          0.14369873702526093,
          -0.025718649849295616,
          -0.22371692955493927,
          0.15082482993602753,
          -0.024422481656074524,
          -0.3913798928260803,
          -0.05164363607764244,
          -0.25763922929763794,
          -0.33003461360931396,
          -0.07990536838769913,
          -0.18746456503868103,
          -0.07125099003314972,
          0.11054304987192154,
          -0.10698875784873962,
          -0.30161482095718384,
          0.11029649525880814,
          0.9357687830924988,
          -0.14227549731731415,
          0.014965323731303215,
          -0.5253438949584961,
          0.2519908845424652,
          0.14639799296855927,
          0.0435417965054512,
          0.32557412981987,
          -0.34653690457344055,
          0.055189747363328934,
          0.05964396521449089,
          -0.06162339448928833,
          0.47751298546791077,
          0.16619697213172913,
          -0.33852696418762207,
          0.049289703369140625,
          0.2343580275774002,
          0.5339851379394531,
          -0.1960776150226593,
          0.0232133399695158,
          -0.2185739427804947,
          -0.15224862098693848,
          0.23726020753383636,
          0.061719268560409546,
          -0.1954302042722702,
          0.1612432301044464,
          0.13987471163272858,
          -0.03316382318735123,
          0.5723961591720581,
          -0.6212984323501587,
          0.035874173045158386,
          -0.03637046366930008,
          0.03335801884531975,
          -0.09609421342611313,
          0.18598276376724243,
          0.12167183309793472,
          0.18526966869831085,
          -0.12765637040138245,
          0.038539860397577286,
          0.355831116437912,
          0.00962718203663826,
          -0.18565955758094788,
          0.3506180942058563,
          0.48047858476638794,
          -0.474558562040329,
          0.313289999961853,
          -0.06374821811914444,
          0.06952991336584091,
          0.40151265263557434,
          0.5831024646759033,
          -0.20524536073207855,
          -0.1251775324344635,
          -0.40123674273490906
         ]
        }
       ],
       "layout": {
        "hovermode": "closest",
        "template": {
         "data": {
          "bar": [
           {
            "error_x": {
             "color": "#2a3f5f"
            },
            "error_y": {
             "color": "#2a3f5f"
            },
            "marker": {
             "line": {
              "color": "#E5ECF6",
              "width": 0.5
             },
             "pattern": {
              "fillmode": "overlay",
              "size": 10,
              "solidity": 0.2
             }
            },
            "type": "bar"
           }
          ],
          "barpolar": [
           {
            "marker": {
             "line": {
              "color": "#E5ECF6",
              "width": 0.5
             },
             "pattern": {
              "fillmode": "overlay",
              "size": 10,
              "solidity": 0.2
             }
            },
            "type": "barpolar"
           }
          ],
          "carpet": [
           {
            "aaxis": {
             "endlinecolor": "#2a3f5f",
             "gridcolor": "white",
             "linecolor": "white",
             "minorgridcolor": "white",
             "startlinecolor": "#2a3f5f"
            },
            "baxis": {
             "endlinecolor": "#2a3f5f",
             "gridcolor": "white",
             "linecolor": "white",
             "minorgridcolor": "white",
             "startlinecolor": "#2a3f5f"
            },
            "type": "carpet"
           }
          ],
          "choropleth": [
           {
            "colorbar": {
             "outlinewidth": 0,
             "ticks": ""
            },
            "type": "choropleth"
           }
          ],
          "contour": [
           {
            "colorbar": {
             "outlinewidth": 0,
             "ticks": ""
            },
            "colorscale": [
             [
              0,
              "#0d0887"
             ],
             [
              0.1111111111111111,
              "#46039f"
             ],
             [
              0.2222222222222222,
              "#7201a8"
             ],
             [
              0.3333333333333333,
              "#9c179e"
             ],
             [
              0.4444444444444444,
              "#bd3786"
             ],
             [
              0.5555555555555556,
              "#d8576b"
             ],
             [
              0.6666666666666666,
              "#ed7953"
             ],
             [
              0.7777777777777778,
              "#fb9f3a"
             ],
             [
              0.8888888888888888,
              "#fdca26"
             ],
             [
              1,
              "#f0f921"
             ]
            ],
            "type": "contour"
           }
          ],
          "contourcarpet": [
           {
            "colorbar": {
             "outlinewidth": 0,
             "ticks": ""
            },
            "type": "contourcarpet"
           }
          ],
          "heatmap": [
           {
            "colorbar": {
             "outlinewidth": 0,
             "ticks": ""
            },
            "colorscale": [
             [
              0,
              "#0d0887"
             ],
             [
              0.1111111111111111,
              "#46039f"
             ],
             [
              0.2222222222222222,
              "#7201a8"
             ],
             [
              0.3333333333333333,
              "#9c179e"
             ],
             [
              0.4444444444444444,
              "#bd3786"
             ],
             [
              0.5555555555555556,
              "#d8576b"
             ],
             [
              0.6666666666666666,
              "#ed7953"
             ],
             [
              0.7777777777777778,
              "#fb9f3a"
             ],
             [
              0.8888888888888888,
              "#fdca26"
             ],
             [
              1,
              "#f0f921"
             ]
            ],
            "type": "heatmap"
           }
          ],
          "heatmapgl": [
           {
            "colorbar": {
             "outlinewidth": 0,
             "ticks": ""
            },
            "colorscale": [
             [
              0,
              "#0d0887"
             ],
             [
              0.1111111111111111,
              "#46039f"
             ],
             [
              0.2222222222222222,
              "#7201a8"
             ],
             [
              0.3333333333333333,
              "#9c179e"
             ],
             [
              0.4444444444444444,
              "#bd3786"
             ],
             [
              0.5555555555555556,
              "#d8576b"
             ],
             [
              0.6666666666666666,
              "#ed7953"
             ],
             [
              0.7777777777777778,
              "#fb9f3a"
             ],
             [
              0.8888888888888888,
              "#fdca26"
             ],
             [
              1,
              "#f0f921"
             ]
            ],
            "type": "heatmapgl"
           }
          ],
          "histogram": [
           {
            "marker": {
             "pattern": {
              "fillmode": "overlay",
              "size": 10,
              "solidity": 0.2
             }
            },
            "type": "histogram"
           }
          ],
          "histogram2d": [
           {
            "colorbar": {
             "outlinewidth": 0,
             "ticks": ""
            },
            "colorscale": [
             [
              0,
              "#0d0887"
             ],
             [
              0.1111111111111111,
              "#46039f"
             ],
             [
              0.2222222222222222,
              "#7201a8"
             ],
             [
              0.3333333333333333,
              "#9c179e"
             ],
             [
              0.4444444444444444,
              "#bd3786"
             ],
             [
              0.5555555555555556,
              "#d8576b"
             ],
             [
              0.6666666666666666,
              "#ed7953"
             ],
             [
              0.7777777777777778,
              "#fb9f3a"
             ],
             [
              0.8888888888888888,
              "#fdca26"
             ],
             [
              1,
              "#f0f921"
             ]
            ],
            "type": "histogram2d"
           }
          ],
          "histogram2dcontour": [
           {
            "colorbar": {
             "outlinewidth": 0,
             "ticks": ""
            },
            "colorscale": [
             [
              0,
              "#0d0887"
             ],
             [
              0.1111111111111111,
              "#46039f"
             ],
             [
              0.2222222222222222,
              "#7201a8"
             ],
             [
              0.3333333333333333,
              "#9c179e"
             ],
             [
              0.4444444444444444,
              "#bd3786"
             ],
             [
              0.5555555555555556,
              "#d8576b"
             ],
             [
              0.6666666666666666,
              "#ed7953"
             ],
             [
              0.7777777777777778,
              "#fb9f3a"
             ],
             [
              0.8888888888888888,
              "#fdca26"
             ],
             [
              1,
              "#f0f921"
             ]
            ],
            "type": "histogram2dcontour"
           }
          ],
          "mesh3d": [
           {
            "colorbar": {
             "outlinewidth": 0,
             "ticks": ""
            },
            "type": "mesh3d"
           }
          ],
          "parcoords": [
           {
            "line": {
             "colorbar": {
              "outlinewidth": 0,
              "ticks": ""
             }
            },
            "type": "parcoords"
           }
          ],
          "pie": [
           {
            "automargin": true,
            "type": "pie"
           }
          ],
          "scatter": [
           {
            "fillpattern": {
             "fillmode": "overlay",
             "size": 10,
             "solidity": 0.2
            },
            "type": "scatter"
           }
          ],
          "scatter3d": [
           {
            "line": {
             "colorbar": {
              "outlinewidth": 0,
              "ticks": ""
             }
            },
            "marker": {
             "colorbar": {
              "outlinewidth": 0,
              "ticks": ""
             }
            },
            "type": "scatter3d"
           }
          ],
          "scattercarpet": [
           {
            "marker": {
             "colorbar": {
              "outlinewidth": 0,
              "ticks": ""
             }
            },
            "type": "scattercarpet"
           }
          ],
          "scattergeo": [
           {
            "marker": {
             "colorbar": {
              "outlinewidth": 0,
              "ticks": ""
             }
            },
            "type": "scattergeo"
           }
          ],
          "scattergl": [
           {
            "marker": {
             "colorbar": {
              "outlinewidth": 0,
              "ticks": ""
             }
            },
            "type": "scattergl"
           }
          ],
          "scattermapbox": [
           {
            "marker": {
             "colorbar": {
              "outlinewidth": 0,
              "ticks": ""
             }
            },
            "type": "scattermapbox"
           }
          ],
          "scatterpolar": [
           {
            "marker": {
             "colorbar": {
              "outlinewidth": 0,
              "ticks": ""
             }
            },
            "type": "scatterpolar"
           }
          ],
          "scatterpolargl": [
           {
            "marker": {
             "colorbar": {
              "outlinewidth": 0,
              "ticks": ""
             }
            },
            "type": "scatterpolargl"
           }
          ],
          "scatterternary": [
           {
            "marker": {
             "colorbar": {
              "outlinewidth": 0,
              "ticks": ""
             }
            },
            "type": "scatterternary"
           }
          ],
          "surface": [
           {
            "colorbar": {
             "outlinewidth": 0,
             "ticks": ""
            },
            "colorscale": [
             [
              0,
              "#0d0887"
             ],
             [
              0.1111111111111111,
              "#46039f"
             ],
             [
              0.2222222222222222,
              "#7201a8"
             ],
             [
              0.3333333333333333,
              "#9c179e"
             ],
             [
              0.4444444444444444,
              "#bd3786"
             ],
             [
              0.5555555555555556,
              "#d8576b"
             ],
             [
              0.6666666666666666,
              "#ed7953"
             ],
             [
              0.7777777777777778,
              "#fb9f3a"
             ],
             [
              0.8888888888888888,
              "#fdca26"
             ],
             [
              1,
              "#f0f921"
             ]
            ],
            "type": "surface"
           }
          ],
          "table": [
           {
            "cells": {
             "fill": {
              "color": "#EBF0F8"
             },
             "line": {
              "color": "white"
             }
            },
            "header": {
             "fill": {
              "color": "#C8D4E3"
             },
             "line": {
              "color": "white"
             }
            },
            "type": "table"
           }
          ]
         },
         "layout": {
          "annotationdefaults": {
           "arrowcolor": "#2a3f5f",
           "arrowhead": 0,
           "arrowwidth": 1
          },
          "autotypenumbers": "strict",
          "coloraxis": {
           "colorbar": {
            "outlinewidth": 0,
            "ticks": ""
           }
          },
          "colorscale": {
           "diverging": [
            [
             0,
             "#8e0152"
            ],
            [
             0.1,
             "#c51b7d"
            ],
            [
             0.2,
             "#de77ae"
            ],
            [
             0.3,
             "#f1b6da"
            ],
            [
             0.4,
             "#fde0ef"
            ],
            [
             0.5,
             "#f7f7f7"
            ],
            [
             0.6,
             "#e6f5d0"
            ],
            [
             0.7,
             "#b8e186"
            ],
            [
             0.8,
             "#7fbc41"
            ],
            [
             0.9,
             "#4d9221"
            ],
            [
             1,
             "#276419"
            ]
           ],
           "sequential": [
            [
             0,
             "#0d0887"
            ],
            [
             0.1111111111111111,
             "#46039f"
            ],
            [
             0.2222222222222222,
             "#7201a8"
            ],
            [
             0.3333333333333333,
             "#9c179e"
            ],
            [
             0.4444444444444444,
             "#bd3786"
            ],
            [
             0.5555555555555556,
             "#d8576b"
            ],
            [
             0.6666666666666666,
             "#ed7953"
            ],
            [
             0.7777777777777778,
             "#fb9f3a"
            ],
            [
             0.8888888888888888,
             "#fdca26"
            ],
            [
             1,
             "#f0f921"
            ]
           ],
           "sequentialminus": [
            [
             0,
             "#0d0887"
            ],
            [
             0.1111111111111111,
             "#46039f"
            ],
            [
             0.2222222222222222,
             "#7201a8"
            ],
            [
             0.3333333333333333,
             "#9c179e"
            ],
            [
             0.4444444444444444,
             "#bd3786"
            ],
            [
             0.5555555555555556,
             "#d8576b"
            ],
            [
             0.6666666666666666,
             "#ed7953"
            ],
            [
             0.7777777777777778,
             "#fb9f3a"
            ],
            [
             0.8888888888888888,
             "#fdca26"
            ],
            [
             1,
             "#f0f921"
            ]
           ]
          },
          "colorway": [
           "#636efa",
           "#EF553B",
           "#00cc96",
           "#ab63fa",
           "#FFA15A",
           "#19d3f3",
           "#FF6692",
           "#B6E880",
           "#FF97FF",
           "#FECB52"
          ],
          "font": {
           "color": "#2a3f5f"
          },
          "geo": {
           "bgcolor": "white",
           "lakecolor": "white",
           "landcolor": "#E5ECF6",
           "showlakes": true,
           "showland": true,
           "subunitcolor": "white"
          },
          "hoverlabel": {
           "align": "left"
          },
          "hovermode": "closest",
          "mapbox": {
           "style": "light"
          },
          "paper_bgcolor": "white",
          "plot_bgcolor": "#E5ECF6",
          "polar": {
           "angularaxis": {
            "gridcolor": "white",
            "linecolor": "white",
            "ticks": ""
           },
           "bgcolor": "#E5ECF6",
           "radialaxis": {
            "gridcolor": "white",
            "linecolor": "white",
            "ticks": ""
           }
          },
          "scene": {
           "xaxis": {
            "backgroundcolor": "#E5ECF6",
            "gridcolor": "white",
            "gridwidth": 2,
            "linecolor": "white",
            "showbackground": true,
            "ticks": "",
            "zerolinecolor": "white"
           },
           "yaxis": {
            "backgroundcolor": "#E5ECF6",
            "gridcolor": "white",
            "gridwidth": 2,
            "linecolor": "white",
            "showbackground": true,
            "ticks": "",
            "zerolinecolor": "white"
           },
           "zaxis": {
            "backgroundcolor": "#E5ECF6",
            "gridcolor": "white",
            "gridwidth": 2,
            "linecolor": "white",
            "showbackground": true,
            "ticks": "",
            "zerolinecolor": "white"
           }
          },
          "shapedefaults": {
           "line": {
            "color": "#2a3f5f"
           }
          },
          "ternary": {
           "aaxis": {
            "gridcolor": "white",
            "linecolor": "white",
            "ticks": ""
           },
           "baxis": {
            "gridcolor": "white",
            "linecolor": "white",
            "ticks": ""
           },
           "bgcolor": "#E5ECF6",
           "caxis": {
            "gridcolor": "white",
            "linecolor": "white",
            "ticks": ""
           }
          },
          "title": {
           "x": 0.05
          },
          "xaxis": {
           "automargin": true,
           "gridcolor": "white",
           "linecolor": "white",
           "ticks": "",
           "title": {
            "standoff": 15
           },
           "zerolinecolor": "white",
           "zerolinewidth": 2
          },
          "yaxis": {
           "automargin": true,
           "gridcolor": "white",
           "linecolor": "white",
           "ticks": "",
           "title": {
            "standoff": 15
           },
           "zerolinecolor": "white",
           "zerolinewidth": 2
          }
         }
        },
        "title": {
         "text": "Word Embeddings"
        }
       }
      }
     },
     "metadata": {},
     "output_type": "display_data"
    }
   ],
   "source": [
    "def plot_2d_embeddings(embeddings, id_start=1, count=100):\n",
    "  # Get 1st and 2nd embedding dims for the desired tokens.\n",
    "  x1 = embeddings[id_start:id_start+count, 0]\n",
    "  x2 = embeddings[id_start:id_start+count, 1]\n",
    "  \n",
    "  # Get the corresponding words from the reverse index (for labeling).\n",
    "  tokens = [reverse_index[i] for i in range(id_start, id_start+count)]\n",
    "\n",
    "  # Plot with the plotly library.\n",
    "  data = plotly.Scatter(x=x1, y=x2, text=tokens,\n",
    "                        mode='markers', textposition='bottom left',\n",
    "                        hoverinfo='text')\n",
    "  fig = plotly.Figure(data=[data],\n",
    "                      layout=plotly.Layout(title=\"Word Embeddings\",\n",
    "                                           hovermode='closest'))\n",
    "  fig.show()\n",
    "\n",
    "# Very frequent tokens tend to be more syntactic than semantic, so let's plot\n",
    "# some rarer words.    \n",
    "plot_2d_embeddings(embeddings, id_start=500, count=500)"
   ]
  },
  {
   "cell_type": "markdown",
   "metadata": {
    "id": "Z3Mm8MjRcZ20"
   },
   "source": [
    "---\n",
    "### Exercise 4: Interpreting Embeddings (20 points)\n",
    "Notice that the 2-D embeddings fall in a narrow diagonal band.\n",
    "\n",
    "1. Have the learned embeddings separated positive and negative words? What is the most negative word? Does this make sense?\n",
    "2. Give 2 examples of words that seem to have surprising embedding values and try to explain their positions. For example, what's going on with the tokens '7', '8', and '9'? What are two other surprising results?\n",
    "3. The embedding for 'crazy' is very close to (0,0). Explain what this means in terms of the model's output.\n",
    "4. Can you explain what you think the 2 learned embedding dimensions mean, if anything?"
   ]
  },
  {
   "attachments": {},
   "cell_type": "markdown",
   "metadata": {
    "id": "x_qAAvvo2y3t"
   },
   "source": [
    "*Written answers:*\n",
    "\n",
    "1. The model did separate negative and positive words. Avoid was the most negative word, and highly was the most positive if we consider the x-axis embedding to be the indicator of positivity. \n",
    "2. The word today seemed to be among the very positive words, also the word save had the 2nd most negative value which is quite odd. A possible explanation for the highly positive classification for the values 7 8 and 9 might be that it was evaluating single digit numbers, and it determined that the 3 highest single digit values were considered positive. \n",
    "3. A possible explanation for the values for the word crazy might be that it does not have an impact on the sentiment of a sentence.\n",
    "4. The x axis (first column/embedding) I would assume means the positivity of a word. the y axis (second column/embedding) may indicate how frequently the word is used.\n"
   ]
  },
  {
   "cell_type": "markdown",
   "metadata": {},
   "source": [
    "---"
   ]
  },
  {
   "cell_type": "markdown",
   "metadata": {
    "id": "IXCitmUvxfwb"
   },
   "source": [
    "## Scaling Up!\n",
    "Remember how we limited our input sequences to 20 tokens and 1000 vocabulary entries? Let's see how well we can do using more data and bigger models (more parameters)."
   ]
  },
  {
   "cell_type": "markdown",
   "metadata": {
    "id": "OKZDEGS7xzr6"
   },
   "source": [
    "### Exercise 5: Improve Results (20 points)\n",
    "Using pieces of code from above, set up and train a model that improves the validation accuracy to at least 80%. You should include the following elements:\n",
    "\n",
    "1. Truncate and pad input to the desired length.\n",
    "2. Limit vocabulary to the desired size.\n",
    "3. Set up a model using embeddings.\n",
    "4. Add an additional layer or layers (after the embeddings layer and before the output layer).\n",
    "5. Evaluate on the test data. Remember to apply the same pre-processing to the test data. You can use model.evaluate()."
   ]
  },
  {
   "cell_type": "code",
   "execution_count": 56,
   "metadata": {
    "id": "ekbJ4sIq2hID"
   },
   "outputs": [
    {
     "name": "stdout",
     "output_type": "stream",
     "text": [
      "Epoch 1/5\n",
      "352/352 [==============================] - 1s 1ms/step - loss: 0.6699 - accuracy: 0.6759 - val_loss: 0.6332 - val_accuracy: 0.7212\n",
      "Epoch 2/5\n",
      "352/352 [==============================] - 0s 988us/step - loss: 0.5853 - accuracy: 0.7501 - val_loss: 0.5470 - val_accuracy: 0.7632\n",
      "Epoch 3/5\n",
      "352/352 [==============================] - 0s 988us/step - loss: 0.5094 - accuracy: 0.7828 - val_loss: 0.4929 - val_accuracy: 0.7812\n",
      "Epoch 4/5\n",
      "352/352 [==============================] - 0s 981us/step - loss: 0.4625 - accuracy: 0.8000 - val_loss: 0.4622 - val_accuracy: 0.7876\n",
      "Epoch 5/5\n",
      "352/352 [==============================] - 0s 985us/step - loss: 0.4343 - accuracy: 0.8081 - val_loss: 0.4443 - val_accuracy: 0.7896\n"
     ]
    },
    {
     "data": {
      "image/png": "[encoded data removed]",
      "text/plain": [
       "<Figure size 640x480 with 1 Axes>"
      ]
     },
     "metadata": {},
     "output_type": "display_data"
    },
    {
     "name": "stdout",
     "output_type": "stream",
     "text": [
      "782/782 [==============================] - 0s 455us/step - loss: 0.4331 - accuracy: 0.8032\n",
      "Test Loss: 0.433138906955719, Test Accuracy: 0.8031600117683411\n"
     ]
    }
   ],
   "source": [
    "# YOUR CODE HERE\n",
    "max_len = 65\n",
    "vocab_size = 1350\n",
    "\n",
    "X_train_padded2 = pad_data(X_train, max_length=max_len)\n",
    "X_train_reduced2= limit_vocab(X_train_padded2, max_token_id=vocab_size)\n",
    "\n",
    "\n",
    "model2 = build_embeddings_model(average_over_positions=True,\n",
    "                               vocab_size=vocab_size,\n",
    "                               sequence_length=max_len,\n",
    "                               embedding_dim=16)\n",
    "history = model2.fit(\n",
    "  x = X_train_reduced2,  # our sparse padded training data\n",
    "  y = Y_train,          # corresponding binary labels\n",
    "  epochs=5,             # number of passes through the training data\n",
    "  batch_size=64,        # mini-batch size\n",
    "  validation_split=0.1, # use a fraction of the examples for validation\n",
    "  verbose=1             # display some progress output during training\n",
    "  )\n",
    "\n",
    "history = pd.DataFrame(history.history)\n",
    "plot_history(history)\n",
    "\n",
    "X_test_padded = pad_data(X_test, max_length=max_len)\n",
    "X_test_reduced= limit_vocab(X_test_padded, max_token_id=vocab_size)\n",
    "\n",
    "test_loss, test_accuracy = model2.evaluate(X_test_reduced, Y_test)\n",
    "print(f\"Test Loss: {test_loss}, Test Accuracy: {test_accuracy}\")\n"
   ]
  },
  {
   "cell_type": "markdown",
   "metadata": {
    "id": "7EEJI9yC2jOJ"
   },
   "source": [
    "---"
   ]
  }
 ],
 "metadata": {
  "colab": {
   "authorship_tag": "ABX9TyMbG/uKJC3itEUb58OjZyV3",
   "name": "09 Embeddings for Text.ipynb",
   "provenance": []
  },
  "kernelspec": {
   "display_name": "Python 3",
   "language": "python",
   "name": "python3"
  },
  "language_info": {
   "codemirror_mode": {
    "name": "ipython",
    "version": 3
   },
   "file_extension": ".py",
   "mimetype": "text/x-python",
   "name": "python",
   "nbconvert_exporter": "python",
   "pygments_lexer": "ipython3",
   "version": "3.11.5"
  }
 },
 "nbformat": 4,
 "nbformat_minor": 4
}
