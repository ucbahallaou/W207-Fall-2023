{
 "cells": [
  {
   "cell_type": "markdown",
   "metadata": {},
   "source": [
    "# Introduction\n",
    "Our task is to determine the sentiment of a sentence. For this purpose we have 3 training sets from Amazon, IMDB and Yelp reviews that are labeled as positive or negative. Hence our goal is to do binary classification using NLP!"
   ]
  },
  {
   "cell_type": "code",
   "execution_count": 1,
   "metadata": {
    "collapsed": false
   },
   "outputs": [],
   "source": [
    "from sklearn.feature_extraction.text import CountVectorizer\n",
    "from sklearn.linear_model import LogisticRegression\n",
    "from sklearn.metrics import roc_curve, auc\n",
    "\n",
    "import numpy as np\n",
    "import matplotlib.pyplot as plt\n",
    "import gensim"
   ]
  },
  {
   "cell_type": "markdown",
   "metadata": {},
   "source": [
    "#  Data loading"
   ]
  },
  {
   "cell_type": "code",
   "execution_count": 2,
   "metadata": {
    "collapsed": false
   },
   "outputs": [
    {
     "name": "stdout",
     "output_type": "stream",
     "text": [
      "There are 2000 labeled sentences in our training set and 1000 in our testing set.\n"
     ]
    }
   ],
   "source": [
    "# Using Amazon and IMDB sets as training and Yelp as testing set\n",
    "# Files can be downloaded from https://archive.ics.uci.edu/ml/datasets/Sentiment+Labelled+Sentences\n",
    "train_docs = ['/home/fabi/UPM/DL/sentiment labelled sentences/amazon_cells_labelled.txt', '/home/fabi/UPM/DL/sentiment labelled sentences/imdb_labelled.txt']\n",
    "test_docs = ['/home/fabi/UPM/DL/sentiment labelled sentences/yelp_labelled.txt']\n",
    "\n",
    "train_corpus = []\n",
    "train_labels = []\n",
    "test_corpus = []\n",
    "test_labels = []\n",
    "\n",
    "for doc in train_docs:\n",
    "    with open(doc) as fp:\n",
    "        for line in fp:\n",
    "            # Split lines into text and label\n",
    "            values = line.split(\"\\t\")\n",
    "            train_corpus.append(values[0].rstrip()) # remove trailing tabs or new lines\n",
    "            train_labels.append(values[1].rstrip()) # remove trailing tabs or new lines\n",
    "        \n",
    "for doc in test_docs:\n",
    "    with open(doc) as fp:\n",
    "        for line in fp:\n",
    "            # Split lines into text and label\n",
    "            values = line.split(\"\\t\")\n",
    "            test_corpus.append(values[0].rstrip()) # remove trailing tabs or new lines\n",
    "            test_labels.append(values[1].rstrip()) # remove trailing tabs or new lines\n",
    "        \n",
    "print \"There are {} labeled sentences in our training set \" \\\n",
    "    \"and {} in our testing set.\".format(len(train_corpus), len(test_corpus))"
   ]
  },
  {
   "cell_type": "markdown",
   "metadata": {},
   "source": [
    "# Bag of Words approach"
   ]
  },
  {
   "cell_type": "markdown",
   "metadata": {},
   "source": [
    "In Bag of Words we want to create a large matrix that represents each sentence in a simple format. The sentences are stored in the rows of the matrix in a one-hot-encoded format. The columns are representing all possible words that we have learned from our initial dataset, the cells then show how often each word is represented in each sentence.\n",
    "\n",
    "First we start by extracting the features from our training set, to learn a dictionary and we transform our testing set into the same dictionary format. In the second step we train a classifier to predict the sentiment of each sentence and verify our results using the test corpus"
   ]
  },
  {
   "cell_type": "markdown",
   "metadata": {},
   "source": [
    "### Feature extractor"
   ]
  },
  {
   "cell_type": "code",
   "execution_count": 3,
   "metadata": {
    "collapsed": true
   },
   "outputs": [],
   "source": [
    "vectorizer = CountVectorizer(min_df=1)"
   ]
  },
  {
   "cell_type": "code",
   "execution_count": 4,
   "metadata": {
    "collapsed": false
   },
   "outputs": [],
   "source": [
    "X = vectorizer.fit_transform(train_corpus)"
   ]
  },
  {
   "cell_type": "code",
   "execution_count": 5,
   "metadata": {
    "collapsed": false
   },
   "outputs": [
    {
     "name": "stdout",
     "output_type": "stream",
     "text": [
      "Number of unique words: 4100\n"
     ]
    }
   ],
   "source": [
    "print \"Number of unique words: {}\".format(len(vectorizer.get_feature_names()))"
   ]
  },
  {
   "cell_type": "code",
   "execution_count": 6,
   "metadata": {
    "collapsed": false,
    "scrolled": true
   },
   "outputs": [
    {
     "name": "stdout",
     "output_type": "stream",
     "text": [
      "2000 sentences and 4100 unique words create a matrix of the shape (2000, 4100).\n"
     ]
    }
   ],
   "source": [
    "print \"{} sentences and {} unique words create a matrix of the shape {}.\".format(\n",
    "    len(train_corpus),\n",
    "    len(vectorizer.get_feature_names()),\n",
    "    X.toarray().shape\n",
    "    )\n",
    "# Create the bag of words matrix\n",
    "train_BoW = X.toarray()\n",
    "test_BoW = vectorizer.transform(test_corpus)"
   ]
  },
  {
   "cell_type": "markdown",
   "metadata": {},
   "source": [
    "## Classifier\n",
    "Next we train a binary classifier to predict whether each sentence is positive or negative. Sklearn provides a fast implementation. Using the fit_intercept attribute we can add a bias term to our data.\n",
    "\n",
    "The model returns 1 for positive and 0 for negative sentiment."
   ]
  },
  {
   "cell_type": "code",
   "execution_count": 7,
   "metadata": {
    "collapsed": false
   },
   "outputs": [],
   "source": [
    "def train_lr(train_X, train_labels, test_X, test_labels):\n",
    "    # Instantiate a Logistic Regression model and runs on 4 cores in parallel\n",
    "    model = LogisticRegression(fit_intercept=True, n_jobs=4)\n",
    "    model.fit(train_X, train_labels)\n",
    "    result = model.score(test_X, test_labels)\n",
    "    print \"Accuracy achieved: {}\".format(result)\n",
    "    return model"
   ]
  },
  {
   "cell_type": "code",
   "execution_count": 8,
   "metadata": {
    "collapsed": false
   },
   "outputs": [
    {
     "name": "stdout",
     "output_type": "stream",
     "text": [
      "Accuracy achieved: 0.761\n"
     ]
    }
   ],
   "source": [
    "model = train_lr(train_BoW, train_labels, test_BoW, test_labels)"
   ]
  },
  {
   "cell_type": "code",
   "execution_count": 9,
   "metadata": {
    "collapsed": false
   },
   "outputs": [
    {
     "name": "stdout",
     "output_type": "stream",
     "text": [
      "Loved it...friendly servers, great food, wonderful and imaginative menu.\n",
      "This sentence was predict to be  positive\n",
      "At least think to refill my water before I struggle to wave you over for 10 minutes.\n",
      "This sentence was predict to be  positive\n",
      "Great food and service, huge portions and they give a military discount.\n",
      "This sentence was predict to be  positive\n",
      "The deal included 5 tastings and 2 drinks, and Jeff went above and beyond what we expected.\n",
      "This sentence was predict to be  negative\n"
     ]
    }
   ],
   "source": [
    "# Print examples\n",
    "for i in range(55, 75, 5):\n",
    "    print test_corpus[i]\n",
    "    print \"This sentence was predict to be \",\n",
    "    print \"positive\" if (model.predict(test_BoW[i])[0] == '1') else \"negative\""
   ]
  },
  {
   "cell_type": "markdown",
   "metadata": {},
   "source": [
    "## N-grams\n",
    "So far the model only takes single words into account. But in natural language neighboring words often have a strong correlation between each other. We can increase the number of words per gram from 1 to a number n < sentence length."
   ]
  },
  {
   "cell_type": "code",
   "execution_count": 10,
   "metadata": {
    "collapsed": false
   },
   "outputs": [
    {
     "name": "stdout",
     "output_type": "stream",
     "text": [
      "Accuracy achieved: 0.778\n"
     ]
    }
   ],
   "source": [
    "# Using 1-grams and 2-grams \n",
    "bigram_vectorizer = CountVectorizer(ngram_range=(1, 2),\n",
    "                                    token_pattern=r'\\b\\w+\\b', min_df=1)\n",
    "X_bigram = bigram_vectorizer.fit_transform(train_corpus)\n",
    "train_BoW = X_bigram.toarray()\n",
    "test_BoW = bigram_vectorizer.transform(test_corpus)\n",
    "\n",
    "model = train_lr(train_BoW, train_labels, test_BoW, test_labels)"
   ]
  },
  {
   "cell_type": "code",
   "execution_count": 11,
   "metadata": {
    "collapsed": false
   },
   "outputs": [
    {
     "name": "stdout",
     "output_type": "stream",
     "text": [
      "Accuracy achieved: 0.779\n"
     ]
    }
   ],
   "source": [
    "# Using 1-grams, 2-grams and 3-grams\n",
    "bigram_vectorizer = CountVectorizer(ngram_range=(1, 3),\n",
    "                                    token_pattern=r'\\b\\w+\\b', min_df=1)\n",
    "X_bigram = bigram_vectorizer.fit_transform(train_corpus)\n",
    "train_BoW = X_bigram.toarray()\n",
    "test_BoW = bigram_vectorizer.transform(test_corpus)\n",
    "\n",
    "model = train_lr(train_BoW, train_labels, test_BoW, test_labels)"
   ]
  },
  {
   "cell_type": "code",
   "execution_count": 12,
   "metadata": {
    "collapsed": false
   },
   "outputs": [
    {
     "name": "stdout",
     "output_type": "stream",
     "text": [
      "Accuracy achieved: 0.784\n"
     ]
    }
   ],
   "source": [
    "# Best accuracy using 1-4 grams\n",
    "bigram_vectorizer = CountVectorizer(ngram_range=(1, 4),\n",
    "                                    token_pattern=r'\\b\\w+\\b', min_df=1)\n",
    "X_bigram = bigram_vectorizer.fit_transform(train_corpus)\n",
    "train_BoW = X_bigram.toarray()\n",
    "test_BoW = bigram_vectorizer.transform(test_corpus)\n",
    "\n",
    "model = train_lr(train_BoW, train_labels, test_BoW, test_labels)"
   ]
  },
  {
   "cell_type": "code",
   "execution_count": 13,
   "metadata": {
    "collapsed": false
   },
   "outputs": [],
   "source": [
    "# Compute RoC curve\n",
    "fpr, tpr, thresholds = roc_curve(np.array(test_labels).astype(np.float32), model.decision_function(test_BoW.toarray()).astype(np.float32))\n",
    "roc_auc = auc(fpr, tpr)"
   ]
  },
  {
   "cell_type": "code",
   "execution_count": 14,
   "metadata": {
    "collapsed": false
   },
   "outputs": [
    {
     "data": {
      "image/png": "[encoded data removed]",
      "text/plain": [
       "<matplotlib.figure.Figure at 0x7f97eea69550>"
      ]
     },
     "metadata": {},
     "output_type": "display_data"
    }
   ],
   "source": [
    "plt.figure()\n",
    "plt.plot(fpr, tpr, label='ROC curve (area = {})'.format(roc_auc), color='orange')\n",
    "plt.plot([0, 1], [0, 1], color='navy', linestyle='--')\n",
    "plt.xlabel('False Positive Rate')\n",
    "plt.ylabel('True Positive Rate')\n",
    "plt.title('Receiver operating characteristic')\n",
    "plt.legend(loc=\"lower right\")\n",
    "plt.show()"
   ]
  },
  {
   "cell_type": "markdown",
   "metadata": {},
   "source": [
    "## Cross validation\n",
    "So far we have only trained the model on two datasets and tested on the third one.\n",
    "To get a better understanding of how well our model works we can also test against the other two by using k-folds cross validation!"
   ]
  },
  {
   "cell_type": "code",
   "execution_count": 15,
   "metadata": {
    "collapsed": false
   },
   "outputs": [],
   "source": [
    "# Reorder the datasets\n",
    "inter = train_corpus[0:1000]\n",
    "train_corpus[0:1000] = test_corpus[0:1000]\n",
    "test_corpus[0:1000] = inter[:]"
   ]
  },
  {
   "cell_type": "code",
   "execution_count": 16,
   "metadata": {
    "collapsed": false
   },
   "outputs": [
    {
     "name": "stdout",
     "output_type": "stream",
     "text": [
      "Accuracy achieved: 0.516\n"
     ]
    }
   ],
   "source": [
    "# Best accuracy using 1-2 grams\n",
    "bigram_vectorizer = CountVectorizer(ngram_range=(1, 2),\n",
    "                                    token_pattern=r'\\b\\w+\\b', min_df=1)\n",
    "X_bigram = bigram_vectorizer.fit_transform(train_corpus)\n",
    "train_BoW = X_bigram.toarray()\n",
    "test_BoW = bigram_vectorizer.transform(test_corpus)\n",
    "\n",
    "model = train_lr(train_BoW, train_labels, test_BoW, test_labels)"
   ]
  },
  {
   "cell_type": "code",
   "execution_count": 17,
   "metadata": {
    "collapsed": true
   },
   "outputs": [],
   "source": [
    "# Reorder the datasets\n",
    "inter = train_corpus[1000:2000]\n",
    "train_corpus[1000:2000] = test_corpus[0:1000]\n",
    "test_corpus[0:1000] = inter[:]"
   ]
  },
  {
   "cell_type": "code",
   "execution_count": 18,
   "metadata": {
    "collapsed": false
   },
   "outputs": [
    {
     "name": "stdout",
     "output_type": "stream",
     "text": [
      "Accuracy achieved: 0.489\n"
     ]
    }
   ],
   "source": [
    "# Best accuracy using 1-2 grams\n",
    "bigram_vectorizer = CountVectorizer(ngram_range=(1, 1),\n",
    "                                    token_pattern=r'\\b\\w+\\b', min_df=1)\n",
    "X_bigram = bigram_vectorizer.fit_transform(train_corpus)\n",
    "train_BoW = X_bigram.toarray()\n",
    "test_BoW = bigram_vectorizer.transform(test_corpus)\n",
    "\n",
    "model = train_lr(train_BoW, train_labels, test_BoW, test_labels)"
   ]
  },
  {
   "cell_type": "markdown",
   "metadata": {},
   "source": [
    "It looks like the initial split was by far the best!"
   ]
  },
  {
   "cell_type": "markdown",
   "metadata": {},
   "source": [
    "# Word2Vec"
   ]
  },
  {
   "cell_type": "markdown",
   "metadata": {},
   "source": [
    "Word2Vec is a popular implementation of the skip-gram model. It returns a probability distribution over all words in our dictionary, for lying within a window of some other word. This means if we select the word 'Madrid' from a sentence, and a window size of 4, word2vec will return the probability distribution over all words to lie within 4 words to the left and 4 words to the right of 'Madrid' in our sentence. Hence 'Real',  'Atletico' and 'Spain' will have a high probability while 'tree', 'mother' and 'universe' should have a low probability."
   ]
  },
  {
   "cell_type": "code",
   "execution_count": 19,
   "metadata": {
    "collapsed": false
   },
   "outputs": [],
   "source": [
    "# First we will load a pre-trained version of Word2Vec\n",
    "# Model can be downloaded from https://drive.google.com/file/d/0B7XkCwpI5KDYNlNUTTlSS21pQmM/edit\n",
    "model = gensim.models.KeyedVectors.load_word2vec_format('/media/large/Downloads/GoogleNews-vectors-negative300.bin', binary=True)"
   ]
  },
  {
   "cell_type": "code",
   "execution_count": 20,
   "metadata": {
    "collapsed": false
   },
   "outputs": [
    {
     "name": "stdout",
     "output_type": "stream",
     "text": [
      "0.605819178355\n",
      "0.547117918203\n",
      "0.0622883051074\n",
      "[(u'houses', 0.7072390913963318), (u'bungalow', 0.6878559589385986), (u'apartment', 0.6628996729850769), (u'bedroom', 0.6496936678886414), (u'townhouse', 0.6384080052375793), (u'residence', 0.6198420524597168), (u'mansion', 0.6058192253112793), (u'farmhouse', 0.5857570171356201), (u'duplex', 0.5757936239242554), (u'appartment', 0.5690325498580933)]\n"
     ]
    }
   ],
   "source": [
    "# Investigate the model a bit\n",
    "print model.similarity('house', 'mansion')\n",
    "print model.similarity('house', 'garage')\n",
    "print model.similarity('house', 'canada')\n",
    "print model.most_similar('house')"
   ]
  },
  {
   "cell_type": "markdown",
   "metadata": {},
   "source": [
    "This time we have to separate the words also when loading the data, so we can lookup their word2vec representations"
   ]
  },
  {
   "cell_type": "code",
   "execution_count": 21,
   "metadata": {
    "collapsed": false
   },
   "outputs": [
    {
     "name": "stdout",
     "output_type": "stream",
     "text": [
      "There are 2000 labeled sentences in our training set and 1000 in our testing set.\n"
     ]
    }
   ],
   "source": [
    "\n",
    "# Using Amazon and IMDB sets as training and Yelp as testing set\n",
    "train_docs = ['/home/fabi/UPM/DL/sentiment labelled sentences/amazon_cells_labelled.txt', '/home/fabi/UPM/DL/sentiment labelled sentences/imdb_labelled.txt']\n",
    "test_docs = ['/home/fabi/UPM/DL/sentiment labelled sentences/yelp_labelled.txt']\n",
    "\n",
    "train_corpus = []\n",
    "train_labels = []\n",
    "test_corpus = []\n",
    "test_labels = []\n",
    "\n",
    "for doc in train_docs:\n",
    "    with open(doc) as fp:\n",
    "        for line in fp:\n",
    "            # Split lines into text and label\n",
    "            values = line.split(\"\\t\")\n",
    "            train_corpus.append(np.array(values[0].rstrip().split())) # remove trailing tabs or new lines\n",
    "            train_labels.append(values[1].rstrip()) # remove trailing tabs or new lines\n",
    "        \n",
    "for doc in test_docs:\n",
    "    with open(doc) as fp:\n",
    "        for line in fp:\n",
    "            # Split lines into text and label\n",
    "            values = line.split(\"\\t\")\n",
    "            test_corpus.append(np.array(values[0].rstrip().split())) # remove trailing tabs or new lines\n",
    "            test_labels.append(values[1].rstrip()) # remove trailing tabs or new lines\n",
    "        \n",
    "print \"There are {} labeled sentences in our training set \" \\\n",
    "    \"and {} in our testing set.\".format(len(train_corpus), len(test_corpus))"
   ]
  },
  {
   "cell_type": "code",
   "execution_count": 22,
   "metadata": {
    "collapsed": false
   },
   "outputs": [
    {
     "name": "stdout",
     "output_type": "stream",
     "text": [
      "['So' 'there' 'is' 'no' 'way' 'for' 'me' 'to' 'plug' 'it' 'in' 'here' 'in'\n",
      " 'the' 'US' 'unless' 'I' 'go' 'by' 'a' 'converter.']\n"
     ]
    }
   ],
   "source": [
    "print train_corpus[0]"
   ]
  },
  {
   "cell_type": "markdown",
   "metadata": {},
   "source": [
    "Now we need to find the vector representation of each word, and then aggregate them by the sentence. In the pre-trained word2vec each word is represented as a 300-dimensional vector. Thus, we need to lookup the vector for each word in each sentence in the word2vec dictionary. Then we will take the average over all words within a sentence to get a paragraph vector. Alternatively we could do a clustering over the sentence or use doc2vec."
   ]
  },
  {
   "cell_type": "code",
   "execution_count": 23,
   "metadata": {
    "collapsed": false
   },
   "outputs": [],
   "source": [
    "train_word_vectors = []\n",
    "test_word_vectors = []\n",
    "for sentence in train_corpus:\n",
    "    word_vectors = np.zeros((sentence.shape[0], 300))\n",
    "    for idx, word in enumerate(sentence):\n",
    "        # Some words do not appear in the pretrained word2vec\n",
    "        try:\n",
    "            word_vectors[idx] = model[word]\n",
    "        except KeyError:\n",
    "            pass\n",
    "    # take bag of mean to get paragraph vector\n",
    "    paragraph_vector = np.mean(word_vectors, axis=0)\n",
    "    train_word_vectors.append(paragraph_vector)\n",
    "    \n",
    "for sentence in test_corpus:\n",
    "    word_vectors = np.zeros((sentence.shape[0], 300))\n",
    "    for idx, word in enumerate(sentence):\n",
    "        # Some words do not appear in the pretrained word2vec\n",
    "        try:\n",
    "            word_vectors[idx] = model[word]\n",
    "        except KeyError:\n",
    "            pass\n",
    "    # take bag of mean to get paragraph vector\n",
    "    paragraph_vector = np.mean(word_vectors, axis=0)\n",
    "    test_word_vectors.append(paragraph_vector)    "
   ]
  },
  {
   "cell_type": "code",
   "execution_count": 24,
   "metadata": {
    "collapsed": false
   },
   "outputs": [
    {
     "name": "stdout",
     "output_type": "stream",
     "text": [
      "Accuracy achieved: 0.752\n"
     ]
    }
   ],
   "source": [
    "model = train_lr(np.array(train_word_vectors), np.array(train_labels), np.array(test_word_vectors), np.array(test_labels))"
   ]
  },
  {
   "cell_type": "code",
   "execution_count": 25,
   "metadata": {
    "collapsed": false
   },
   "outputs": [],
   "source": [
    "# Compute RoC curve\n",
    "fpr, tpr, thresholds = roc_curve(np.array(test_labels).astype(np.float32), model.decision_function(np.array(test_word_vectors)).astype(np.float32))\n",
    "roc_auc = auc(fpr, tpr)"
   ]
  },
  {
   "cell_type": "code",
   "execution_count": 26,
   "metadata": {
    "collapsed": false
   },
   "outputs": [
    {
     "data": {
      "image/png": "[encoded data removed]",
      "text/plain": [
       "<matplotlib.figure.Figure at 0x7f97eebf1b10>"
      ]
     },
     "metadata": {},
     "output_type": "display_data"
    }
   ],
   "source": [
    "plt.figure()\n",
    "plt.plot(fpr, tpr, label='ROC curve (area = {})'.format(roc_auc), color='orange')\n",
    "plt.plot([0, 1], [0, 1], color='navy', linestyle='--')\n",
    "plt.xlabel('False Positive Rate')\n",
    "plt.ylabel('True Positive Rate')\n",
    "plt.title('Receiver operating characteristic')\n",
    "plt.legend(loc=\"lower right\")\n",
    "plt.show()"
   ]
  },
  {
   "cell_type": "markdown",
   "metadata": {},
   "source": [
    "The pretrained Word2Vec cannot beat the simple bag of words approach. This might be due to the small datasize that does not require the capacity of this large word2vec. Also it turns out that the bag of words approach works better without removing the stopwords. In word2vec they are removed which could cause the model to perform a little worse on this simple task. Doc2Vec could improve the score of word2vec as well."
   ]
  }
 ],
 "metadata": {
  "kernelspec": {
   "display_name": "Python 2",
   "language": "python",
   "name": "python2"
  },
  "language_info": {
   "codemirror_mode": {
    "name": "ipython",
    "version": 2
   },
   "file_extension": ".py",
   "mimetype": "text/x-python",
   "name": "python",
   "nbconvert_exporter": "python",
   "pygments_lexer": "ipython2",
   "version": "2.7.12"
  }
 },
 "nbformat": 4,
 "nbformat_minor": 2
}
