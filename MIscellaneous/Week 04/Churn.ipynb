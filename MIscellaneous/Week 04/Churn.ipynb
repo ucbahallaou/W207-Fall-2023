{
 "cells": [
  {
   "cell_type": "code",
   "execution_count": 1,
   "id": "300ed337-90d0-48b6-ae55-ca5fc87c6fc0",
   "metadata": {},
   "outputs": [],
   "source": [
    "import numpy as np\n",
    "import pandas as pd\n",
    "import sklearn\n",
    "import matplotlib.pyplot as plt\n",
    "import seaborn as sns\n",
    "\n",
    "from sklearn.preprocessing import LabelEncoder, StandardScaler\n",
    "from sklearn.metrics import classification_report\n",
    "from sklearn.linear_model import LogisticRegression\n",
    "from sklearn.model_selection import train_test_split"
   ]
  },
  {
   "cell_type": "code",
   "execution_count": 6,
   "id": "e0a5e5e0-611c-4c41-adc1-4987f32cda3a",
   "metadata": {},
   "outputs": [],
   "source": [
    "df = pd.read_csv('Desktop/churn.csv')"
   ]
  },
  {
   "cell_type": "code",
   "execution_count": 7,
   "id": "1823e99f-d37c-4b2c-8dbc-28ea259ab070",
   "metadata": {},
   "outputs": [
    {
     "name": "stdout",
     "output_type": "stream",
     "text": [
      "   customerID  gender  SeniorCitizen Partner Dependents  tenure PhoneService  \\\n",
      "0  7590-VHVEG  Female              0     Yes         No       1           No   \n",
      "1  5575-GNVDE    Male              0      No         No      34          Yes   \n",
      "2  3668-QPYBK    Male              0      No         No       2          Yes   \n",
      "3  7795-CFOCW    Male              0      No         No      45           No   \n",
      "4  9237-HQITU  Female              0      No         No       2          Yes   \n",
      "5  9305-CDSKC  Female              0      No         No       8          Yes   \n",
      "6  1452-KIOVK    Male              0      No        Yes      22          Yes   \n",
      "7  6713-OKOMC  Female              0      No         No      10           No   \n",
      "8  7892-POOKP  Female              0     Yes         No      28          Yes   \n",
      "9  6388-TABGU    Male              0      No        Yes      62          Yes   \n",
      "\n",
      "      MultipleLines InternetService OnlineSecurity  ... DeviceProtection  \\\n",
      "0  No phone service             DSL             No  ...               No   \n",
      "1                No             DSL            Yes  ...              Yes   \n",
      "2                No             DSL            Yes  ...               No   \n",
      "3  No phone service             DSL            Yes  ...              Yes   \n",
      "4                No     Fiber optic             No  ...               No   \n",
      "5               Yes     Fiber optic             No  ...              Yes   \n",
      "6               Yes     Fiber optic             No  ...               No   \n",
      "7  No phone service             DSL            Yes  ...               No   \n",
      "8               Yes     Fiber optic             No  ...              Yes   \n",
      "9                No             DSL            Yes  ...               No   \n",
      "\n",
      "  TechSupport StreamingTV StreamingMovies        Contract PaperlessBilling  \\\n",
      "0          No          No              No  Month-to-month              Yes   \n",
      "1          No          No              No        One year               No   \n",
      "2          No          No              No  Month-to-month              Yes   \n",
      "3         Yes          No              No        One year               No   \n",
      "4          No          No              No  Month-to-month              Yes   \n",
      "5          No         Yes             Yes  Month-to-month              Yes   \n",
      "6          No         Yes              No  Month-to-month              Yes   \n",
      "7          No          No              No  Month-to-month               No   \n",
      "8         Yes         Yes             Yes  Month-to-month              Yes   \n",
      "9          No          No              No        One year               No   \n",
      "\n",
      "               PaymentMethod MonthlyCharges  TotalCharges Churn  \n",
      "0           Electronic check          29.85         29.85    No  \n",
      "1               Mailed check          56.95        1889.5    No  \n",
      "2               Mailed check          53.85        108.15   Yes  \n",
      "3  Bank transfer (automatic)          42.30       1840.75    No  \n",
      "4           Electronic check          70.70        151.65   Yes  \n",
      "5           Electronic check          99.65         820.5   Yes  \n",
      "6    Credit card (automatic)          89.10        1949.4    No  \n",
      "7               Mailed check          29.75         301.9    No  \n",
      "8           Electronic check         104.80       3046.05   Yes  \n",
      "9  Bank transfer (automatic)          56.15       3487.95    No  \n",
      "\n",
      "[10 rows x 21 columns]\n"
     ]
    }
   ],
   "source": [
    "\n",
    "\n",
    "# See a preview:\n",
    "print(df.head(10))"
   ]
  },
  {
   "cell_type": "code",
   "execution_count": 8,
   "id": "95fc09ee-a32b-4d8d-9e8e-867ff19dcb1e",
   "metadata": {},
   "outputs": [
    {
     "name": "stdout",
     "output_type": "stream",
     "text": [
      "Shape:\n",
      " (7043, 21) \n",
      "\n",
      "Columns:\n",
      " ['customerID' 'gender' 'SeniorCitizen' 'Partner' 'Dependents' 'tenure'\n",
      " 'PhoneService' 'MultipleLines' 'InternetService' 'OnlineSecurity'\n",
      " 'OnlineBackup' 'DeviceProtection' 'TechSupport' 'StreamingTV'\n",
      " 'StreamingMovies' 'Contract' 'PaperlessBilling' 'PaymentMethod'\n",
      " 'MonthlyCharges' 'TotalCharges' 'Churn'] \n",
      "\n",
      "Missing Values:\n",
      " customerID          0\n",
      "gender              0\n",
      "SeniorCitizen       0\n",
      "Partner             0\n",
      "Dependents          0\n",
      "tenure              0\n",
      "PhoneService        0\n",
      "MultipleLines       0\n",
      "InternetService     0\n",
      "OnlineSecurity      0\n",
      "OnlineBackup        0\n",
      "DeviceProtection    0\n",
      "TechSupport         0\n",
      "StreamingTV         0\n",
      "StreamingMovies     0\n",
      "Contract            0\n",
      "PaperlessBilling    0\n",
      "PaymentMethod       0\n",
      "MonthlyCharges      0\n",
      "TotalCharges        0\n",
      "Churn               0\n",
      "dtype: int64 \n",
      "\n"
     ]
    }
   ],
   "source": [
    "# Look at the dimensions of our DataFrame\n",
    "print('Shape:\\n', df.shape, '\\n')\n",
    "\n",
    "# List all the column titles in our table:\n",
    "print('Columns:\\n', df.columns.values, '\\n')\n",
    "\n",
    "# Check columns for missing values:\n",
    "print('Missing Values:\\n', df.isna().sum(), '\\n')"
   ]
  },
  {
   "cell_type": "code",
   "execution_count": 9,
   "id": "f621b6ef-206f-4acf-ae48-d6b5fc374d9b",
   "metadata": {},
   "outputs": [
    {
     "name": "stdout",
     "output_type": "stream",
     "text": [
      "       SeniorCitizen       tenure  MonthlyCharges\n",
      "count    7043.000000  7043.000000     7043.000000\n",
      "mean        0.162147    32.371149       64.761692\n",
      "std         0.368612    24.559481       30.090047\n",
      "min         0.000000     0.000000       18.250000\n",
      "25%         0.000000     9.000000       35.500000\n",
      "50%         0.000000    29.000000       70.350000\n",
      "75%         0.000000    55.000000       89.850000\n",
      "max         1.000000    72.000000      118.750000 /n\n",
      "\n",
      "--Churn Value Counts--\n",
      " No     5174\n",
      "Yes    1869\n",
      "Name: Churn, dtype: int64\n"
     ]
    }
   ],
   "source": [
    "\n",
    "# Summary Statistics:\n",
    "print(df.describe(), '/n')\n",
    "\n",
    "# Get customer churn count:\n",
    "print('\\n--Churn Value Counts--\\n', df['Churn'].value_counts())"
   ]
  },
  {
   "cell_type": "code",
   "execution_count": 10,
   "id": "8ab87f42-071e-4179-8236-eb0d843387e6",
   "metadata": {},
   "outputs": [
    {
     "name": "stdout",
     "output_type": "stream",
     "text": [
      "73.463 % of customers stayed.\n",
      "26.537 % of customers left.\n"
     ]
    },
    {
     "data": {
      "image/png": "[encoded data removed]",
      "text/plain": [
       "<Figure size 432x288 with 1 Axes>"
      ]
     },
     "metadata": {
      "needs_background": "light"
     },
     "output_type": "display_data"
    }
   ],
   "source": [
    "# Create a bar graph of our count:\n",
    "sns.countplot(data=df, x='Churn').set(title=\"Churn Rate Count\")\n",
    "\n",
    "# Define yes/no conditions:\n",
    "NO = df['Churn'] == 'No'\n",
    "YES = df['Churn'] == 'Yes'\n",
    "\n",
    "num_retained = df[NO].shape[0]\n",
    "num_churned = df[YES].shape[0]\n",
    "\n",
    "# Percentage of customer that have stayed vs. those who've left:\n",
    "retain_rate = num_retained/(num_churned + num_retained) * 100\n",
    "churn_rate = num_churned/(num_churned + num_retained) * 100\n",
    "\n",
    "print(round(retain_rate, 3), \"% of customers stayed.\")\n",
    "print(round(churn_rate, 3), \"% of customers left.\")"
   ]
  },
  {
   "cell_type": "code",
   "execution_count": 11,
   "id": "20205cc8-5106-4470-b90a-28fec5f9ca9a",
   "metadata": {},
   "outputs": [
    {
     "data": {
      "text/plain": [
       "<AxesSubplot:xlabel='gender', ylabel='count'>"
      ]
     },
     "execution_count": 11,
     "metadata": {},
     "output_type": "execute_result"
    },
    {
     "data": {
      "image/png": "[encoded data removed]",
      "text/plain": [
       "<Figure size 432x288 with 1 Axes>"
      ]
     },
     "metadata": {
      "needs_background": "light"
     },
     "output_type": "display_data"
    }
   ],
   "source": [
    "# Create bar graph based on gender:\n",
    "sns.countplot(data=df, x='gender', hue='Churn')"
   ]
  },
  {
   "cell_type": "code",
   "execution_count": 12,
   "id": "e9f7e207-7a1b-4667-a3b7-77f9a7617860",
   "metadata": {},
   "outputs": [
    {
     "data": {
      "text/plain": [
       "<AxesSubplot:xlabel='InternetService', ylabel='count'>"
      ]
     },
     "execution_count": 12,
     "metadata": {},
     "output_type": "execute_result"
    },
    {
     "data": {
      "image/png": "[encoded data removed]",
      "text/plain": [
       "<Figure size 432x288 with 1 Axes>"
      ]
     },
     "metadata": {
      "needs_background": "light"
     },
     "output_type": "display_data"
    }
   ],
   "source": [
    "# Create bar graph based on customer's internet service:\n",
    "sns.countplot(data=df, x='InternetService', hue='Churn')"
   ]
  },
  {
   "cell_type": "code",
   "execution_count": 13,
   "id": "0941ab76-2caa-4c57-9f76-d7c26ecb9650",
   "metadata": {},
   "outputs": [
    {
     "data": {
      "text/plain": [
       "array([<AxesSubplot:title={'center':'tenure'}>,\n",
       "       <AxesSubplot:title={'center':'MonthlyCharges'}>], dtype=object)"
      ]
     },
     "execution_count": 13,
     "metadata": {},
     "output_type": "execute_result"
    },
    {
     "data": {
      "image/png": "[encoded data removed]",
      "text/plain": [
       "<Figure size 2016x576 with 2 Axes>"
      ]
     },
     "metadata": {
      "needs_background": "light"
     },
     "output_type": "display_data"
    }
   ],
   "source": [
    "numeric_features = ['tenure', 'MonthlyCharges']\n",
    "\n",
    "fig, ax = plt.subplots(nrows=1, ncols=2, figsize=(28, 8))\n",
    "\n",
    "df[NO][numeric_features].hist(\n",
    "    bins=20, color='blue', alpha=0.5, ax=ax\n",
    ")\n",
    "\n",
    "df[YES][numeric_features].hist(\n",
    "    bins=20, color='orange', alpha=0.5, ax=ax\n",
    ")\n",
    "\n"
   ]
  },
  {
   "cell_type": "code",
   "execution_count": 14,
   "id": "00d99c94-52bd-4891-9091-8f2ad3e8a452",
   "metadata": {},
   "outputs": [
    {
     "name": "stdout",
     "output_type": "stream",
     "text": [
      "gender                int64\n",
      "SeniorCitizen         int64\n",
      "Partner               int64\n",
      "Dependents            int64\n",
      "tenure                int64\n",
      "PhoneService          int64\n",
      "MultipleLines         int64\n",
      "InternetService       int64\n",
      "OnlineSecurity        int64\n",
      "OnlineBackup          int64\n",
      "DeviceProtection      int64\n",
      "TechSupport           int64\n",
      "StreamingTV           int64\n",
      "StreamingMovies       int64\n",
      "Contract              int64\n",
      "PaperlessBilling      int64\n",
      "PaymentMethod         int64\n",
      "MonthlyCharges      float64\n",
      "TotalCharges          int64\n",
      "Churn                 int64\n",
      "dtype: object\n"
     ]
    },
    {
     "name": "stderr",
     "output_type": "stream",
     "text": [
      "/var/folders/_l/nxk5n50d4954zcf_h7rmk5y80000gn/T/ipykernel_28597/49518385.py:6: DeprecationWarning: Converting `np.inexact` or `np.floating` to a dtype is deprecated. The current result is `float64` which is not strictly correct.\n",
      "  if (clean_df[col].dtype == np.number):\n"
     ]
    }
   ],
   "source": [
    "# Drop the id column:\n",
    "clean_df = df.drop('customerID', axis=1)\n",
    "\n",
    "# Convert non-numerical values to numerical:\n",
    "for col in clean_df.columns:\n",
    "  if (clean_df[col].dtype == np.number):\n",
    "    continue\n",
    "  clean_df[col] = LabelEncoder().fit_transform(clean_df[col])\n",
    "\n",
    "# See the data types of our columns:\n",
    "print(clean_df.dtypes)\n"
   ]
  },
  {
   "cell_type": "code",
   "execution_count": 15,
   "id": "5b4e810e-bae2-405b-8c41-5e2c740a97b2",
   "metadata": {},
   "outputs": [
    {
     "name": "stdout",
     "output_type": "stream",
     "text": [
      "   gender  SeniorCitizen  Partner  Dependents  tenure  PhoneService  \\\n",
      "0       0              0        1           0       1             0   \n",
      "1       1              0        0           0      34             1   \n",
      "2       1              0        0           0       2             1   \n",
      "3       1              0        0           0      45             0   \n",
      "4       0              0        0           0       2             1   \n",
      "5       0              0        0           0       8             1   \n",
      "6       1              0        0           1      22             1   \n",
      "7       0              0        0           0      10             0   \n",
      "8       0              0        1           0      28             1   \n",
      "9       1              0        0           1      62             1   \n",
      "\n",
      "   MultipleLines  InternetService  OnlineSecurity  OnlineBackup  \\\n",
      "0              1                0               0             2   \n",
      "1              0                0               2             0   \n",
      "2              0                0               2             2   \n",
      "3              1                0               2             0   \n",
      "4              0                1               0             0   \n",
      "5              2                1               0             0   \n",
      "6              2                1               0             2   \n",
      "7              1                0               2             0   \n",
      "8              2                1               0             0   \n",
      "9              0                0               2             2   \n",
      "\n",
      "   DeviceProtection  TechSupport  StreamingTV  StreamingMovies  Contract  \\\n",
      "0                 0            0            0                0         0   \n",
      "1                 2            0            0                0         1   \n",
      "2                 0            0            0                0         0   \n",
      "3                 2            2            0                0         1   \n",
      "4                 0            0            0                0         0   \n",
      "5                 2            0            2                2         0   \n",
      "6                 0            0            2                0         0   \n",
      "7                 0            0            0                0         0   \n",
      "8                 2            2            2                2         0   \n",
      "9                 0            0            0                0         1   \n",
      "\n",
      "   PaperlessBilling  PaymentMethod  MonthlyCharges  TotalCharges  Churn  \n",
      "0                 1              2           29.85          2505      0  \n",
      "1                 0              3           56.95          1466      0  \n",
      "2                 1              3           53.85           157      1  \n",
      "3                 0              0           42.30          1400      0  \n",
      "4                 1              2           70.70           925      1  \n",
      "5                 1              2           99.65          6104      1  \n",
      "6                 1              1           89.10          1550      0  \n",
      "7                 0              3           29.75          2609      0  \n",
      "8                 1              2          104.80          2646      1  \n",
      "9                 0              0           56.15          3022      0  \n"
     ]
    }
   ],
   "source": [
    "# Preview our new DataFrame:\n",
    "print(clean_df.head(10))"
   ]
  },
  {
   "cell_type": "code",
   "execution_count": 16,
   "id": "a9d49c43-f3fd-4498-a876-7245596d144c",
   "metadata": {},
   "outputs": [],
   "source": [
    "\n",
    "# Scale the data set:\n",
    "x = clean_df.drop('Churn', axis=1)\n",
    "y = clean_df['Churn']\n",
    "x = StandardScaler().fit_transform(x)\n",
    "\n",
    "# Split the data 80 training/20 testing:\n",
    "xtrain, xtest, ytrain, ytest = train_test_split(x, y, test_size=0.2, random_state=7)"
   ]
  },
  {
   "cell_type": "code",
   "execution_count": 17,
   "id": "9b4434b2-12f8-438b-a390-9653f81e396a",
   "metadata": {},
   "outputs": [
    {
     "data": {
      "text/plain": [
       "LogisticRegression()"
      ]
     },
     "execution_count": 17,
     "metadata": {},
     "output_type": "execute_result"
    }
   ],
   "source": [
    "# Use the logisitic regression algorithm:\n",
    "model = LogisticRegression()\n",
    "\n",
    "# Train our model / fit our data:\n",
    "model.fit(xtrain, ytrain)"
   ]
  },
  {
   "cell_type": "code",
   "execution_count": 18,
   "id": "dbb41530-4058-4b67-b4e2-223f46689f57",
   "metadata": {},
   "outputs": [
    {
     "name": "stdout",
     "output_type": "stream",
     "text": [
      "[0 1 1 ... 0 0 1]\n"
     ]
    }
   ],
   "source": [
    "# Create predictions from the test data:\n",
    "predictions = model.predict(xtest)\n",
    "\n",
    "# See preview of predictions:\n",
    "print(predictions)\n"
   ]
  },
  {
   "cell_type": "code",
   "execution_count": 19,
   "id": "49a29673-831b-4afb-b376-4a35037ae028",
   "metadata": {},
   "outputs": [
    {
     "name": "stdout",
     "output_type": "stream",
     "text": [
      "              precision    recall  f1-score   support\n",
      "\n",
      "           0       0.84      0.91      0.88      1021\n",
      "           1       0.71      0.56      0.62       388\n",
      "\n",
      "    accuracy                           0.81      1409\n",
      "   macro avg       0.77      0.73      0.75      1409\n",
      "weighted avg       0.81      0.81      0.81      1409\n",
      "\n"
     ]
    }
   ],
   "source": [
    "# Create a report of the accuracy of our classifications:\n",
    "report = classification_report(ytest, predictions)\n",
    "\n",
    "print(report)"
   ]
  },
  {
   "cell_type": "code",
   "execution_count": null,
   "id": "aee29d3c-a395-4c07-a45b-f7e577b4a12d",
   "metadata": {},
   "outputs": [],
   "source": []
  }
 ],
 "metadata": {
  "kernelspec": {
   "display_name": "Python 3 (ipykernel)",
   "language": "python",
   "name": "python3"
  },
  "language_info": {
   "codemirror_mode": {
    "name": "ipython",
    "version": 3
   },
   "file_extension": ".py",
   "mimetype": "text/x-python",
   "name": "python",
   "nbconvert_exporter": "python",
   "pygments_lexer": "ipython3",
   "version": "3.9.2"
  }
 },
 "nbformat": 4,
 "nbformat_minor": 5
}
