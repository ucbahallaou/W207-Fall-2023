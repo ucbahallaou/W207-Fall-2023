{
 "cells": [
  {
   "cell_type": "markdown",
   "metadata": {},
   "source": [
    "## Reading Training Data"
   ]
  },
  {
   "cell_type": "code",
   "execution_count": 3,
   "metadata": {},
   "outputs": [],
   "source": [
    "import pandas as pd\n",
    "import seaborn as sns\n",
    "import matplotlib.pyplot as plt\n",
    "%matplotlib inline\n",
    "import numpy as np\n",
    "import warnings\n",
    "warnings.filterwarnings('ignore')\n",
    "from mlxtend.plotting import plot_confusion_matrix"
   ]
  },
  {
   "cell_type": "code",
   "execution_count": 4,
   "metadata": {},
   "outputs": [],
   "source": [
    "df = pd.read_csv('DataSet_HAR.csv')"
   ]
  },
  {
   "cell_type": "code",
   "execution_count": 5,
   "metadata": {},
   "outputs": [
    {
     "data": {
      "text/html": [
       "<div>\n",
       "<style scoped>\n",
       "    .dataframe tbody tr th:only-of-type {\n",
       "        vertical-align: middle;\n",
       "    }\n",
       "\n",
       "    .dataframe tbody tr th {\n",
       "        vertical-align: top;\n",
       "    }\n",
       "\n",
       "    .dataframe thead th {\n",
       "        text-align: right;\n",
       "    }\n",
       "</style>\n",
       "<table border=\"1\" class=\"dataframe\">\n",
       "  <thead>\n",
       "    <tr style=\"text-align: right;\">\n",
       "      <th></th>\n",
       "      <th>tBodyAcc-mean()-X</th>\n",
       "      <th>tBodyAcc-mean()-Y</th>\n",
       "      <th>tBodyAcc-mean()-Z</th>\n",
       "      <th>tBodyAcc-std()-X</th>\n",
       "      <th>tBodyAcc-std()-Y</th>\n",
       "      <th>tBodyAcc-std()-Z</th>\n",
       "      <th>tBodyAcc-mad()-X</th>\n",
       "      <th>tBodyAcc-mad()-Y</th>\n",
       "      <th>tBodyAcc-mad()-Z</th>\n",
       "      <th>tBodyAcc-max()-X</th>\n",
       "      <th>...</th>\n",
       "      <th>fBodyBodyGyroJerkMag-kurtosis()</th>\n",
       "      <th>angle(tBodyAccMean,gravity)</th>\n",
       "      <th>angle(tBodyAccJerkMean),gravityMean)</th>\n",
       "      <th>angle(tBodyGyroMean,gravityMean)</th>\n",
       "      <th>angle(tBodyGyroJerkMean,gravityMean)</th>\n",
       "      <th>angle(X,gravityMean)</th>\n",
       "      <th>angle(Y,gravityMean)</th>\n",
       "      <th>angle(Z,gravityMean)</th>\n",
       "      <th>subject</th>\n",
       "      <th>Activity</th>\n",
       "    </tr>\n",
       "  </thead>\n",
       "  <tbody>\n",
       "    <tr>\n",
       "      <th>0</th>\n",
       "      <td>0.288585</td>\n",
       "      <td>-0.020294</td>\n",
       "      <td>-0.132905</td>\n",
       "      <td>-0.995279</td>\n",
       "      <td>-0.983111</td>\n",
       "      <td>-0.913526</td>\n",
       "      <td>-0.995112</td>\n",
       "      <td>-0.983185</td>\n",
       "      <td>-0.923527</td>\n",
       "      <td>-0.934724</td>\n",
       "      <td>...</td>\n",
       "      <td>-0.710304</td>\n",
       "      <td>-0.112754</td>\n",
       "      <td>0.030400</td>\n",
       "      <td>-0.464761</td>\n",
       "      <td>-0.018446</td>\n",
       "      <td>-0.841247</td>\n",
       "      <td>0.179941</td>\n",
       "      <td>-0.058627</td>\n",
       "      <td>1</td>\n",
       "      <td>STANDING</td>\n",
       "    </tr>\n",
       "    <tr>\n",
       "      <th>1</th>\n",
       "      <td>0.278419</td>\n",
       "      <td>-0.016411</td>\n",
       "      <td>-0.123520</td>\n",
       "      <td>-0.998245</td>\n",
       "      <td>-0.975300</td>\n",
       "      <td>-0.960322</td>\n",
       "      <td>-0.998807</td>\n",
       "      <td>-0.974914</td>\n",
       "      <td>-0.957686</td>\n",
       "      <td>-0.943068</td>\n",
       "      <td>...</td>\n",
       "      <td>-0.861499</td>\n",
       "      <td>0.053477</td>\n",
       "      <td>-0.007435</td>\n",
       "      <td>-0.732626</td>\n",
       "      <td>0.703511</td>\n",
       "      <td>-0.844788</td>\n",
       "      <td>0.180289</td>\n",
       "      <td>-0.054317</td>\n",
       "      <td>1</td>\n",
       "      <td>STANDING</td>\n",
       "    </tr>\n",
       "    <tr>\n",
       "      <th>2</th>\n",
       "      <td>0.279653</td>\n",
       "      <td>-0.019467</td>\n",
       "      <td>-0.113462</td>\n",
       "      <td>-0.995380</td>\n",
       "      <td>-0.967187</td>\n",
       "      <td>-0.978944</td>\n",
       "      <td>-0.996520</td>\n",
       "      <td>-0.963668</td>\n",
       "      <td>-0.977469</td>\n",
       "      <td>-0.938692</td>\n",
       "      <td>...</td>\n",
       "      <td>-0.760104</td>\n",
       "      <td>-0.118559</td>\n",
       "      <td>0.177899</td>\n",
       "      <td>0.100699</td>\n",
       "      <td>0.808529</td>\n",
       "      <td>-0.848933</td>\n",
       "      <td>0.180637</td>\n",
       "      <td>-0.049118</td>\n",
       "      <td>1</td>\n",
       "      <td>STANDING</td>\n",
       "    </tr>\n",
       "    <tr>\n",
       "      <th>3</th>\n",
       "      <td>0.279174</td>\n",
       "      <td>-0.026201</td>\n",
       "      <td>-0.123283</td>\n",
       "      <td>-0.996091</td>\n",
       "      <td>-0.983403</td>\n",
       "      <td>-0.990675</td>\n",
       "      <td>-0.997099</td>\n",
       "      <td>-0.982750</td>\n",
       "      <td>-0.989302</td>\n",
       "      <td>-0.938692</td>\n",
       "      <td>...</td>\n",
       "      <td>-0.482845</td>\n",
       "      <td>-0.036788</td>\n",
       "      <td>-0.012892</td>\n",
       "      <td>0.640011</td>\n",
       "      <td>-0.485366</td>\n",
       "      <td>-0.848649</td>\n",
       "      <td>0.181935</td>\n",
       "      <td>-0.047663</td>\n",
       "      <td>1</td>\n",
       "      <td>STANDING</td>\n",
       "    </tr>\n",
       "    <tr>\n",
       "      <th>4</th>\n",
       "      <td>0.276629</td>\n",
       "      <td>-0.016570</td>\n",
       "      <td>-0.115362</td>\n",
       "      <td>-0.998139</td>\n",
       "      <td>-0.980817</td>\n",
       "      <td>-0.990482</td>\n",
       "      <td>-0.998321</td>\n",
       "      <td>-0.979672</td>\n",
       "      <td>-0.990441</td>\n",
       "      <td>-0.942469</td>\n",
       "      <td>...</td>\n",
       "      <td>-0.699205</td>\n",
       "      <td>0.123320</td>\n",
       "      <td>0.122542</td>\n",
       "      <td>0.693578</td>\n",
       "      <td>-0.615971</td>\n",
       "      <td>-0.847865</td>\n",
       "      <td>0.185151</td>\n",
       "      <td>-0.043892</td>\n",
       "      <td>1</td>\n",
       "      <td>STANDING</td>\n",
       "    </tr>\n",
       "  </tbody>\n",
       "</table>\n",
       "<p>5 rows × 563 columns</p>\n",
       "</div>"
      ],
      "text/plain": [
       "   tBodyAcc-mean()-X  tBodyAcc-mean()-Y  tBodyAcc-mean()-Z  tBodyAcc-std()-X  \\\n",
       "0           0.288585          -0.020294          -0.132905         -0.995279   \n",
       "1           0.278419          -0.016411          -0.123520         -0.998245   \n",
       "2           0.279653          -0.019467          -0.113462         -0.995380   \n",
       "3           0.279174          -0.026201          -0.123283         -0.996091   \n",
       "4           0.276629          -0.016570          -0.115362         -0.998139   \n",
       "\n",
       "   tBodyAcc-std()-Y  tBodyAcc-std()-Z  tBodyAcc-mad()-X  tBodyAcc-mad()-Y  \\\n",
       "0         -0.983111         -0.913526         -0.995112         -0.983185   \n",
       "1         -0.975300         -0.960322         -0.998807         -0.974914   \n",
       "2         -0.967187         -0.978944         -0.996520         -0.963668   \n",
       "3         -0.983403         -0.990675         -0.997099         -0.982750   \n",
       "4         -0.980817         -0.990482         -0.998321         -0.979672   \n",
       "\n",
       "   tBodyAcc-mad()-Z  tBodyAcc-max()-X    ...     \\\n",
       "0         -0.923527         -0.934724    ...      \n",
       "1         -0.957686         -0.943068    ...      \n",
       "2         -0.977469         -0.938692    ...      \n",
       "3         -0.989302         -0.938692    ...      \n",
       "4         -0.990441         -0.942469    ...      \n",
       "\n",
       "   fBodyBodyGyroJerkMag-kurtosis()  angle(tBodyAccMean,gravity)  \\\n",
       "0                        -0.710304                    -0.112754   \n",
       "1                        -0.861499                     0.053477   \n",
       "2                        -0.760104                    -0.118559   \n",
       "3                        -0.482845                    -0.036788   \n",
       "4                        -0.699205                     0.123320   \n",
       "\n",
       "   angle(tBodyAccJerkMean),gravityMean)  angle(tBodyGyroMean,gravityMean)  \\\n",
       "0                              0.030400                         -0.464761   \n",
       "1                             -0.007435                         -0.732626   \n",
       "2                              0.177899                          0.100699   \n",
       "3                             -0.012892                          0.640011   \n",
       "4                              0.122542                          0.693578   \n",
       "\n",
       "   angle(tBodyGyroJerkMean,gravityMean)  angle(X,gravityMean)  \\\n",
       "0                             -0.018446             -0.841247   \n",
       "1                              0.703511             -0.844788   \n",
       "2                              0.808529             -0.848933   \n",
       "3                             -0.485366             -0.848649   \n",
       "4                             -0.615971             -0.847865   \n",
       "\n",
       "   angle(Y,gravityMean)  angle(Z,gravityMean)  subject  Activity  \n",
       "0              0.179941             -0.058627        1  STANDING  \n",
       "1              0.180289             -0.054317        1  STANDING  \n",
       "2              0.180637             -0.049118        1  STANDING  \n",
       "3              0.181935             -0.047663        1  STANDING  \n",
       "4              0.185151             -0.043892        1  STANDING  \n",
       "\n",
       "[5 rows x 563 columns]"
      ]
     },
     "execution_count": 5,
     "metadata": {},
     "output_type": "execute_result"
    }
   ],
   "source": [
    "df.head()"
   ]
  },
  {
   "cell_type": "code",
   "execution_count": 6,
   "metadata": {},
   "outputs": [
    {
     "data": {
      "text/plain": [
       "(10299, 563)"
      ]
     },
     "execution_count": 6,
     "metadata": {},
     "output_type": "execute_result"
    }
   ],
   "source": [
    "df.shape"
   ]
  },
  {
   "cell_type": "code",
   "execution_count": 7,
   "metadata": {},
   "outputs": [
    {
     "data": {
      "text/plain": [
       "Index(['tBodyAcc-mean()-X', 'tBodyAcc-mean()-Y', 'tBodyAcc-mean()-Z',\n",
       "       'tBodyAcc-std()-X', 'tBodyAcc-std()-Y', 'tBodyAcc-std()-Z',\n",
       "       'tBodyAcc-mad()-X', 'tBodyAcc-mad()-Y', 'tBodyAcc-mad()-Z',\n",
       "       'tBodyAcc-max()-X',\n",
       "       ...\n",
       "       'fBodyBodyGyroJerkMag-kurtosis()', 'angle(tBodyAccMean,gravity)',\n",
       "       'angle(tBodyAccJerkMean),gravityMean)',\n",
       "       'angle(tBodyGyroMean,gravityMean)',\n",
       "       'angle(tBodyGyroJerkMean,gravityMean)', 'angle(X,gravityMean)',\n",
       "       'angle(Y,gravityMean)', 'angle(Z,gravityMean)', 'subject', 'Activity'],\n",
       "      dtype='object', length=563)"
      ]
     },
     "execution_count": 7,
     "metadata": {},
     "output_type": "execute_result"
    }
   ],
   "source": [
    "df.columns"
   ]
  },
  {
   "cell_type": "code",
   "execution_count": 8,
   "metadata": {},
   "outputs": [
    {
     "data": {
      "text/plain": [
       "(30, 561)"
      ]
     },
     "execution_count": 8,
     "metadata": {},
     "output_type": "execute_result"
    }
   ],
   "source": [
    "df.groupby(['subject']).agg(np.sum).shape"
   ]
  },
  {
   "cell_type": "code",
   "execution_count": 9,
   "metadata": {},
   "outputs": [],
   "source": [
    "import random\n",
    "random_indx = random.sample(range(1, 31), 30)"
   ]
  },
  {
   "cell_type": "markdown",
   "metadata": {},
   "source": [
    "### 80% train, 20% test"
   ]
  },
  {
   "cell_type": "code",
   "execution_count": 10,
   "metadata": {},
   "outputs": [
    {
     "data": {
      "text/plain": [
       "24.0"
      ]
     },
     "execution_count": 10,
     "metadata": {},
     "output_type": "execute_result"
    }
   ],
   "source": [
    "0.8*len(random_indx)"
   ]
  },
  {
   "cell_type": "code",
   "execution_count": 11,
   "metadata": {},
   "outputs": [
    {
     "data": {
      "text/plain": [
       "24"
      ]
     },
     "execution_count": 11,
     "metadata": {},
     "output_type": "execute_result"
    }
   ],
   "source": [
    "train_ppl = random_indx[0:24]\n",
    "len(train_ppl)"
   ]
  },
  {
   "cell_type": "code",
   "execution_count": 12,
   "metadata": {},
   "outputs": [
    {
     "data": {
      "text/plain": [
       "6"
      ]
     },
     "execution_count": 12,
     "metadata": {},
     "output_type": "execute_result"
    }
   ],
   "source": [
    "test_ppl = random_indx[24:]\n",
    "len(test_ppl)"
   ]
  },
  {
   "cell_type": "markdown",
   "metadata": {},
   "source": [
    "### Divide the Dataframe to train, test and dev"
   ]
  },
  {
   "cell_type": "code",
   "execution_count": 13,
   "metadata": {},
   "outputs": [
    {
     "data": {
      "text/plain": [
       "numpy.int64"
      ]
     },
     "execution_count": 13,
     "metadata": {},
     "output_type": "execute_result"
    }
   ],
   "source": [
    "type(df['subject'].iloc[1])"
   ]
  },
  {
   "cell_type": "code",
   "execution_count": 14,
   "metadata": {},
   "outputs": [],
   "source": [
    "df_train = df[df['subject'].isin(train_ppl)]"
   ]
  },
  {
   "cell_type": "code",
   "execution_count": 15,
   "metadata": {},
   "outputs": [],
   "source": [
    "df_test = df[df['subject'].isin(test_ppl)]"
   ]
  },
  {
   "cell_type": "code",
   "execution_count": 16,
   "metadata": {},
   "outputs": [],
   "source": [
    "df_train = df_train.reset_index()\n",
    "df_train= df_train.drop(['index', 'subject'], axis=1)\n",
    "df_test = df_test.reset_index()\n",
    "df_test= df_test.drop(['index', 'subject'], axis=1)"
   ]
  },
  {
   "cell_type": "code",
   "execution_count": 17,
   "metadata": {},
   "outputs": [
    {
     "data": {
      "text/html": [
       "<div>\n",
       "<style scoped>\n",
       "    .dataframe tbody tr th:only-of-type {\n",
       "        vertical-align: middle;\n",
       "    }\n",
       "\n",
       "    .dataframe tbody tr th {\n",
       "        vertical-align: top;\n",
       "    }\n",
       "\n",
       "    .dataframe thead th {\n",
       "        text-align: right;\n",
       "    }\n",
       "</style>\n",
       "<table border=\"1\" class=\"dataframe\">\n",
       "  <thead>\n",
       "    <tr style=\"text-align: right;\">\n",
       "      <th></th>\n",
       "      <th>tBodyAcc-mean()-X</th>\n",
       "      <th>tBodyAcc-mean()-Y</th>\n",
       "      <th>tBodyAcc-mean()-Z</th>\n",
       "      <th>tBodyAcc-std()-X</th>\n",
       "      <th>tBodyAcc-std()-Y</th>\n",
       "      <th>tBodyAcc-std()-Z</th>\n",
       "      <th>tBodyAcc-mad()-X</th>\n",
       "      <th>tBodyAcc-mad()-Y</th>\n",
       "      <th>tBodyAcc-mad()-Z</th>\n",
       "      <th>tBodyAcc-max()-X</th>\n",
       "      <th>...</th>\n",
       "      <th>fBodyBodyGyroJerkMag-skewness()</th>\n",
       "      <th>fBodyBodyGyroJerkMag-kurtosis()</th>\n",
       "      <th>angle(tBodyAccMean,gravity)</th>\n",
       "      <th>angle(tBodyAccJerkMean),gravityMean)</th>\n",
       "      <th>angle(tBodyGyroMean,gravityMean)</th>\n",
       "      <th>angle(tBodyGyroJerkMean,gravityMean)</th>\n",
       "      <th>angle(X,gravityMean)</th>\n",
       "      <th>angle(Y,gravityMean)</th>\n",
       "      <th>angle(Z,gravityMean)</th>\n",
       "      <th>Activity</th>\n",
       "    </tr>\n",
       "  </thead>\n",
       "  <tbody>\n",
       "    <tr>\n",
       "      <th>0</th>\n",
       "      <td>0.236013</td>\n",
       "      <td>-0.026913</td>\n",
       "      <td>0.186395</td>\n",
       "      <td>-0.854112</td>\n",
       "      <td>-0.795111</td>\n",
       "      <td>-0.605794</td>\n",
       "      <td>-0.909125</td>\n",
       "      <td>-0.790751</td>\n",
       "      <td>-0.563723</td>\n",
       "      <td>-0.682518</td>\n",
       "      <td>...</td>\n",
       "      <td>-0.302844</td>\n",
       "      <td>-0.673707</td>\n",
       "      <td>0.076072</td>\n",
       "      <td>-0.489161</td>\n",
       "      <td>-0.254101</td>\n",
       "      <td>0.084231</td>\n",
       "      <td>-0.750788</td>\n",
       "      <td>0.268367</td>\n",
       "      <td>0.044542</td>\n",
       "      <td>STANDING</td>\n",
       "    </tr>\n",
       "    <tr>\n",
       "      <th>1</th>\n",
       "      <td>0.267318</td>\n",
       "      <td>-0.032355</td>\n",
       "      <td>-0.062924</td>\n",
       "      <td>-0.963742</td>\n",
       "      <td>-0.865102</td>\n",
       "      <td>-0.868472</td>\n",
       "      <td>-0.975781</td>\n",
       "      <td>-0.861588</td>\n",
       "      <td>-0.863451</td>\n",
       "      <td>-0.887808</td>\n",
       "      <td>...</td>\n",
       "      <td>-0.305393</td>\n",
       "      <td>-0.740185</td>\n",
       "      <td>-0.028610</td>\n",
       "      <td>-0.307088</td>\n",
       "      <td>-0.406407</td>\n",
       "      <td>0.628807</td>\n",
       "      <td>-0.742844</td>\n",
       "      <td>0.268968</td>\n",
       "      <td>-0.032272</td>\n",
       "      <td>STANDING</td>\n",
       "    </tr>\n",
       "    <tr>\n",
       "      <th>2</th>\n",
       "      <td>0.283352</td>\n",
       "      <td>-0.010729</td>\n",
       "      <td>-0.117333</td>\n",
       "      <td>-0.993056</td>\n",
       "      <td>-0.965022</td>\n",
       "      <td>-0.990440</td>\n",
       "      <td>-0.994083</td>\n",
       "      <td>-0.969828</td>\n",
       "      <td>-0.990788</td>\n",
       "      <td>-0.933323</td>\n",
       "      <td>...</td>\n",
       "      <td>0.012851</td>\n",
       "      <td>-0.317706</td>\n",
       "      <td>0.001529</td>\n",
       "      <td>0.292817</td>\n",
       "      <td>-0.142789</td>\n",
       "      <td>-0.426229</td>\n",
       "      <td>-0.727462</td>\n",
       "      <td>0.275749</td>\n",
       "      <td>-0.046136</td>\n",
       "      <td>STANDING</td>\n",
       "    </tr>\n",
       "    <tr>\n",
       "      <th>3</th>\n",
       "      <td>0.269277</td>\n",
       "      <td>-0.032607</td>\n",
       "      <td>-0.130287</td>\n",
       "      <td>-0.974128</td>\n",
       "      <td>-0.933411</td>\n",
       "      <td>-0.969966</td>\n",
       "      <td>-0.981722</td>\n",
       "      <td>-0.924646</td>\n",
       "      <td>-0.967740</td>\n",
       "      <td>-0.912315</td>\n",
       "      <td>...</td>\n",
       "      <td>0.228232</td>\n",
       "      <td>0.014969</td>\n",
       "      <td>0.018122</td>\n",
       "      <td>-0.450094</td>\n",
       "      <td>-0.298821</td>\n",
       "      <td>0.716132</td>\n",
       "      <td>-0.730111</td>\n",
       "      <td>0.275033</td>\n",
       "      <td>-0.042523</td>\n",
       "      <td>STANDING</td>\n",
       "    </tr>\n",
       "    <tr>\n",
       "      <th>4</th>\n",
       "      <td>0.278362</td>\n",
       "      <td>-0.013657</td>\n",
       "      <td>-0.129154</td>\n",
       "      <td>-0.961174</td>\n",
       "      <td>-0.837033</td>\n",
       "      <td>-0.943963</td>\n",
       "      <td>-0.967545</td>\n",
       "      <td>-0.843478</td>\n",
       "      <td>-0.942803</td>\n",
       "      <td>-0.882271</td>\n",
       "      <td>...</td>\n",
       "      <td>-0.265317</td>\n",
       "      <td>-0.692768</td>\n",
       "      <td>0.081535</td>\n",
       "      <td>-0.065885</td>\n",
       "      <td>-0.527001</td>\n",
       "      <td>0.696133</td>\n",
       "      <td>-0.724638</td>\n",
       "      <td>0.280739</td>\n",
       "      <td>-0.036736</td>\n",
       "      <td>STANDING</td>\n",
       "    </tr>\n",
       "  </tbody>\n",
       "</table>\n",
       "<p>5 rows × 562 columns</p>\n",
       "</div>"
      ],
      "text/plain": [
       "   tBodyAcc-mean()-X  tBodyAcc-mean()-Y  tBodyAcc-mean()-Z  tBodyAcc-std()-X  \\\n",
       "0           0.236013          -0.026913           0.186395         -0.854112   \n",
       "1           0.267318          -0.032355          -0.062924         -0.963742   \n",
       "2           0.283352          -0.010729          -0.117333         -0.993056   \n",
       "3           0.269277          -0.032607          -0.130287         -0.974128   \n",
       "4           0.278362          -0.013657          -0.129154         -0.961174   \n",
       "\n",
       "   tBodyAcc-std()-Y  tBodyAcc-std()-Z  tBodyAcc-mad()-X  tBodyAcc-mad()-Y  \\\n",
       "0         -0.795111         -0.605794         -0.909125         -0.790751   \n",
       "1         -0.865102         -0.868472         -0.975781         -0.861588   \n",
       "2         -0.965022         -0.990440         -0.994083         -0.969828   \n",
       "3         -0.933411         -0.969966         -0.981722         -0.924646   \n",
       "4         -0.837033         -0.943963         -0.967545         -0.843478   \n",
       "\n",
       "   tBodyAcc-mad()-Z  tBodyAcc-max()-X    ...     \\\n",
       "0         -0.563723         -0.682518    ...      \n",
       "1         -0.863451         -0.887808    ...      \n",
       "2         -0.990788         -0.933323    ...      \n",
       "3         -0.967740         -0.912315    ...      \n",
       "4         -0.942803         -0.882271    ...      \n",
       "\n",
       "   fBodyBodyGyroJerkMag-skewness()  fBodyBodyGyroJerkMag-kurtosis()  \\\n",
       "0                        -0.302844                        -0.673707   \n",
       "1                        -0.305393                        -0.740185   \n",
       "2                         0.012851                        -0.317706   \n",
       "3                         0.228232                         0.014969   \n",
       "4                        -0.265317                        -0.692768   \n",
       "\n",
       "   angle(tBodyAccMean,gravity)  angle(tBodyAccJerkMean),gravityMean)  \\\n",
       "0                     0.076072                             -0.489161   \n",
       "1                    -0.028610                             -0.307088   \n",
       "2                     0.001529                              0.292817   \n",
       "3                     0.018122                             -0.450094   \n",
       "4                     0.081535                             -0.065885   \n",
       "\n",
       "   angle(tBodyGyroMean,gravityMean)  angle(tBodyGyroJerkMean,gravityMean)  \\\n",
       "0                         -0.254101                              0.084231   \n",
       "1                         -0.406407                              0.628807   \n",
       "2                         -0.142789                             -0.426229   \n",
       "3                         -0.298821                              0.716132   \n",
       "4                         -0.527001                              0.696133   \n",
       "\n",
       "   angle(X,gravityMean)  angle(Y,gravityMean)  angle(Z,gravityMean)  Activity  \n",
       "0             -0.750788              0.268367              0.044542  STANDING  \n",
       "1             -0.742844              0.268968             -0.032272  STANDING  \n",
       "2             -0.727462              0.275749             -0.046136  STANDING  \n",
       "3             -0.730111              0.275033             -0.042523  STANDING  \n",
       "4             -0.724638              0.280739             -0.036736  STANDING  \n",
       "\n",
       "[5 rows x 562 columns]"
      ]
     },
     "execution_count": 17,
     "metadata": {},
     "output_type": "execute_result"
    }
   ],
   "source": [
    "df_train.head()"
   ]
  },
  {
   "cell_type": "code",
   "execution_count": 18,
   "metadata": {},
   "outputs": [],
   "source": [
    "df_test_y = df_test[['Activity']]\n",
    "df_test = df_test.drop(['Activity'], axis=1)"
   ]
  },
  {
   "cell_type": "code",
   "execution_count": 19,
   "metadata": {},
   "outputs": [],
   "source": [
    "df_train_y = df_train[['Activity']]\n",
    "df_train = df_train.drop(['Activity'], axis=1)"
   ]
  },
  {
   "cell_type": "markdown",
   "metadata": {},
   "source": [
    "### Convert categorical data of Activity attribute to numerical"
   ]
  },
  {
   "cell_type": "code",
   "execution_count": 20,
   "metadata": {},
   "outputs": [],
   "source": [
    "df_train_y = pd.get_dummies(df_train_y)\n",
    "df_test_y = pd.get_dummies(df_test_y)"
   ]
  },
  {
   "cell_type": "markdown",
   "metadata": {},
   "source": [
    "### Convert dataframes to numpy array"
   ]
  },
  {
   "cell_type": "code",
   "execution_count": 21,
   "metadata": {},
   "outputs": [],
   "source": [
    "y_train = df_train_y.values\n",
    "y_test = df_test_y.values"
   ]
  },
  {
   "cell_type": "code",
   "execution_count": 22,
   "metadata": {},
   "outputs": [],
   "source": [
    "X_train = df_train.values\n",
    "X_test = df_test.values"
   ]
  },
  {
   "cell_type": "markdown",
   "metadata": {},
   "source": [
    "### Modeling"
   ]
  },
  {
   "cell_type": "code",
   "execution_count": 23,
   "metadata": {},
   "outputs": [
    {
     "name": "stderr",
     "output_type": "stream",
     "text": [
      "Using TensorFlow backend.\n"
     ]
    }
   ],
   "source": [
    "from keras import Sequential\n",
    "from keras.layers import Dense\n",
    "from sklearn.preprocessing import LabelEncoder"
   ]
  },
  {
   "cell_type": "code",
   "execution_count": 50,
   "metadata": {},
   "outputs": [],
   "source": [
    "classifier = Sequential()\n",
    "#First Hidden Layer\n",
    "classifier.add(Dense(5, activation='relu', kernel_initializer='random_normal', input_dim=561))"
   ]
  },
  {
   "cell_type": "code",
   "execution_count": 51,
   "metadata": {},
   "outputs": [],
   "source": [
    "#Output Layer\n",
    "classifier.add(Dense(6, activation='softmax', kernel_initializer='random_normal'))"
   ]
  },
  {
   "cell_type": "code",
   "execution_count": 52,
   "metadata": {},
   "outputs": [],
   "source": [
    "classifier.compile(optimizer ='adam',loss='categorical_crossentropy', metrics =['accuracy'])"
   ]
  },
  {
   "cell_type": "code",
   "execution_count": 53,
   "metadata": {},
   "outputs": [
    {
     "name": "stdout",
     "output_type": "stream",
     "text": [
      "Epoch 1/100\n",
      "8314/8314 [==============================] - 1s 120us/step - loss: 0.8556 - acc: 0.6191\n",
      "Epoch 2/100\n",
      "8314/8314 [==============================] - 1s 98us/step - loss: 0.2892 - acc: 0.8944\n",
      "Epoch 3/100\n",
      "8314/8314 [==============================] - 1s 98us/step - loss: 0.1821 - acc: 0.9328\n",
      "Epoch 4/100\n",
      "8314/8314 [==============================] - 1s 97us/step - loss: 0.1358 - acc: 0.9555\n",
      "Epoch 5/100\n",
      "8314/8314 [==============================] - 1s 97us/step - loss: 0.1091 - acc: 0.9613\n",
      "Epoch 6/100\n",
      "8314/8314 [==============================] - 1s 99us/step - loss: 0.0918 - acc: 0.9687\n",
      "Epoch 7/100\n",
      "8314/8314 [==============================] - 1s 99us/step - loss: 0.0846 - acc: 0.9685\n",
      "Epoch 8/100\n",
      "8314/8314 [==============================] - 1s 98us/step - loss: 0.0758 - acc: 0.9727\n",
      "Epoch 9/100\n",
      "8314/8314 [==============================] - 1s 97us/step - loss: 0.0731 - acc: 0.9729\n",
      "Epoch 10/100\n",
      "8314/8314 [==============================] - 1s 97us/step - loss: 0.0688 - acc: 0.9761\n",
      "Epoch 11/100\n",
      "8314/8314 [==============================] - 1s 99us/step - loss: 0.0661 - acc: 0.9749\n",
      "Epoch 12/100\n",
      "8314/8314 [==============================] - 1s 99us/step - loss: 0.0598 - acc: 0.9768\n",
      "Epoch 13/100\n",
      "8314/8314 [==============================] - 1s 98us/step - loss: 0.0579 - acc: 0.9803\n",
      "Epoch 14/100\n",
      "8314/8314 [==============================] - 1s 97us/step - loss: 0.0573 - acc: 0.9794\n",
      "Epoch 15/100\n",
      "8314/8314 [==============================] - 1s 98us/step - loss: 0.0543 - acc: 0.9805\n",
      "Epoch 16/100\n",
      "8314/8314 [==============================] - 1s 98us/step - loss: 0.0514 - acc: 0.9820\n",
      "Epoch 17/100\n",
      "8314/8314 [==============================] - 1s 99us/step - loss: 0.0509 - acc: 0.9796\n",
      "Epoch 18/100\n",
      "8314/8314 [==============================] - 1s 97us/step - loss: 0.0527 - acc: 0.9812\n",
      "Epoch 19/100\n",
      "8314/8314 [==============================] - 1s 97us/step - loss: 0.0520 - acc: 0.9812\n",
      "Epoch 20/100\n",
      "8314/8314 [==============================] - 1s 98us/step - loss: 0.0469 - acc: 0.9836\n",
      "Epoch 21/100\n",
      "8314/8314 [==============================] - 1s 99us/step - loss: 0.0477 - acc: 0.9822\n",
      "Epoch 22/100\n",
      "8314/8314 [==============================] - 1s 98us/step - loss: 0.0470 - acc: 0.9828\n",
      "Epoch 23/100\n",
      "8314/8314 [==============================] - 1s 98us/step - loss: 0.0453 - acc: 0.9833\n",
      "Epoch 24/100\n",
      "8314/8314 [==============================] - 1s 98us/step - loss: 0.0467 - acc: 0.9812\n",
      "Epoch 25/100\n",
      "8314/8314 [==============================] - 1s 97us/step - loss: 0.0466 - acc: 0.9829\n",
      "Epoch 26/100\n",
      "8314/8314 [==============================] - 1s 99us/step - loss: 0.0419 - acc: 0.9844\n",
      "Epoch 27/100\n",
      "8314/8314 [==============================] - 1s 98us/step - loss: 0.0437 - acc: 0.9818\n",
      "Epoch 28/100\n",
      "8314/8314 [==============================] - 1s 97us/step - loss: 0.0423 - acc: 0.9841\n",
      "Epoch 29/100\n",
      "8314/8314 [==============================] - 1s 97us/step - loss: 0.0423 - acc: 0.9846\n",
      "Epoch 30/100\n",
      "8314/8314 [==============================] - 1s 97us/step - loss: 0.0403 - acc: 0.9862\n",
      "Epoch 31/100\n",
      "8314/8314 [==============================] - 1s 99us/step - loss: 0.0405 - acc: 0.9841\n",
      "Epoch 32/100\n",
      "8314/8314 [==============================] - 1s 98us/step - loss: 0.0376 - acc: 0.9865\n",
      "Epoch 33/100\n",
      "8314/8314 [==============================] - 1s 98us/step - loss: 0.0378 - acc: 0.9860\n",
      "Epoch 34/100\n",
      "8314/8314 [==============================] - 1s 97us/step - loss: 0.0391 - acc: 0.9859\n",
      "Epoch 35/100\n",
      "8314/8314 [==============================] - 1s 98us/step - loss: 0.0382 - acc: 0.9857\n",
      "Epoch 36/100\n",
      "8314/8314 [==============================] - 1s 99us/step - loss: 0.0411 - acc: 0.9839\n",
      "Epoch 37/100\n",
      "8314/8314 [==============================] - 1s 98us/step - loss: 0.0369 - acc: 0.9862\n",
      "Epoch 38/100\n",
      "8314/8314 [==============================] - 1s 97us/step - loss: 0.0369 - acc: 0.9870\n",
      "Epoch 39/100\n",
      "8314/8314 [==============================] - 1s 97us/step - loss: 0.0360 - acc: 0.9869\n",
      "Epoch 40/100\n",
      "8314/8314 [==============================] - 1s 98us/step - loss: 0.0396 - acc: 0.9854\n",
      "Epoch 41/100\n",
      "8314/8314 [==============================] - 1s 98us/step - loss: 0.0338 - acc: 0.9865\n",
      "Epoch 42/100\n",
      "8314/8314 [==============================] - 1s 98us/step - loss: 0.0367 - acc: 0.9866\n",
      "Epoch 43/100\n",
      "8314/8314 [==============================] - 1s 97us/step - loss: 0.0357 - acc: 0.9857\n",
      "Epoch 44/100\n",
      "8314/8314 [==============================] - 1s 97us/step - loss: 0.0344 - acc: 0.9873\n",
      "Epoch 45/100\n",
      "8314/8314 [==============================] - 1s 98us/step - loss: 0.0387 - acc: 0.9857\n",
      "Epoch 46/100\n",
      "8314/8314 [==============================] - 1s 98us/step - loss: 0.0339 - acc: 0.9875\n",
      "Epoch 47/100\n",
      "8314/8314 [==============================] - 1s 97us/step - loss: 0.0318 - acc: 0.9881\n",
      "Epoch 48/100\n",
      "8314/8314 [==============================] - 1s 97us/step - loss: 0.0330 - acc: 0.9882\n",
      "Epoch 49/100\n",
      "8314/8314 [==============================] - 1s 97us/step - loss: 0.0347 - acc: 0.9865\n",
      "Epoch 50/100\n",
      "8314/8314 [==============================] - 1s 97us/step - loss: 0.0320 - acc: 0.9877\n",
      "Epoch 51/100\n",
      "8314/8314 [==============================] - 1s 98us/step - loss: 0.0323 - acc: 0.9877\n",
      "Epoch 52/100\n",
      "8314/8314 [==============================] - 1s 98us/step - loss: 0.0335 - acc: 0.9877\n",
      "Epoch 53/100\n",
      "8314/8314 [==============================] - 1s 98us/step - loss: 0.0322 - acc: 0.9869\n",
      "Epoch 54/100\n",
      "8314/8314 [==============================] - 1s 97us/step - loss: 0.0328 - acc: 0.9873\n",
      "Epoch 55/100\n",
      "8314/8314 [==============================] - 1s 98us/step - loss: 0.0312 - acc: 0.9886\n",
      "Epoch 56/100\n",
      "8314/8314 [==============================] - 1s 98us/step - loss: 0.0340 - acc: 0.9864\n",
      "Epoch 57/100\n",
      "8314/8314 [==============================] - 1s 97us/step - loss: 0.0297 - acc: 0.9895\n",
      "Epoch 58/100\n",
      "8314/8314 [==============================] - 1s 97us/step - loss: 0.0292 - acc: 0.9894\n",
      "Epoch 59/100\n",
      "8314/8314 [==============================] - 1s 97us/step - loss: 0.0310 - acc: 0.9887\n",
      "Epoch 60/100\n",
      "8314/8314 [==============================] - 1s 98us/step - loss: 0.0313 - acc: 0.9885\n",
      "Epoch 61/100\n",
      "8314/8314 [==============================] - 1s 99us/step - loss: 0.0307 - acc: 0.9880\n",
      "Epoch 62/100\n",
      "8314/8314 [==============================] - 1s 97us/step - loss: 0.0265 - acc: 0.9891\n",
      "Epoch 63/100\n",
      "8314/8314 [==============================] - 1s 98us/step - loss: 0.0277 - acc: 0.9897\n",
      "Epoch 64/100\n",
      "8314/8314 [==============================] - 1s 98us/step - loss: 0.0304 - acc: 0.9883\n",
      "Epoch 65/100\n",
      "8314/8314 [==============================] - 1s 98us/step - loss: 0.0287 - acc: 0.9889\n",
      "Epoch 66/100\n",
      "8314/8314 [==============================] - 1s 98us/step - loss: 0.0273 - acc: 0.9893\n",
      "Epoch 67/100\n",
      "8314/8314 [==============================] - 1s 98us/step - loss: 0.0291 - acc: 0.9887\n",
      "Epoch 68/100\n",
      "8314/8314 [==============================] - 1s 98us/step - loss: 0.0275 - acc: 0.9895\n",
      "Epoch 69/100\n",
      "8314/8314 [==============================] - 1s 98us/step - loss: 0.0276 - acc: 0.9889\n",
      "Epoch 70/100\n",
      "8314/8314 [==============================] - 1s 98us/step - loss: 0.0306 - acc: 0.9874\n",
      "Epoch 71/100\n",
      "8314/8314 [==============================] - 1s 98us/step - loss: 0.0274 - acc: 0.9918\n",
      "Epoch 72/100\n",
      "8314/8314 [==============================] - 1s 98us/step - loss: 0.0269 - acc: 0.9895\n",
      "Epoch 73/100\n",
      "8314/8314 [==============================] - 1s 97us/step - loss: 0.0278 - acc: 0.9895\n",
      "Epoch 74/100\n",
      "8314/8314 [==============================] - 1s 98us/step - loss: 0.0299 - acc: 0.9885\n",
      "Epoch 75/100\n",
      "8314/8314 [==============================] - 1s 100us/step - loss: 0.0274 - acc: 0.9904\n",
      "Epoch 76/100\n",
      "8314/8314 [==============================] - 1s 99us/step - loss: 0.0295 - acc: 0.9881\n",
      "Epoch 77/100\n",
      "8314/8314 [==============================] - 1s 97us/step - loss: 0.0268 - acc: 0.9898\n",
      "Epoch 78/100\n",
      "8314/8314 [==============================] - 1s 97us/step - loss: 0.0255 - acc: 0.9909\n",
      "Epoch 79/100\n",
      "8314/8314 [==============================] - 1s 97us/step - loss: 0.0272 - acc: 0.9892\n",
      "Epoch 80/100\n",
      "8314/8314 [==============================] - 1s 99us/step - loss: 0.0250 - acc: 0.9909\n",
      "Epoch 81/100\n",
      "8314/8314 [==============================] - 1s 98us/step - loss: 0.0261 - acc: 0.9901\n",
      "Epoch 82/100\n",
      "8314/8314 [==============================] - 1s 101us/step - loss: 0.0273 - acc: 0.9901\n",
      "Epoch 83/100\n",
      "8314/8314 [==============================] - 1s 100us/step - loss: 0.0254 - acc: 0.9905\n",
      "Epoch 84/100\n",
      "8314/8314 [==============================] - 1s 100us/step - loss: 0.0230 - acc: 0.9918\n",
      "Epoch 85/100\n",
      "8314/8314 [==============================] - 1s 102us/step - loss: 0.0283 - acc: 0.9879\n",
      "Epoch 86/100\n",
      "8314/8314 [==============================] - 1s 99us/step - loss: 0.0238 - acc: 0.9910\n",
      "Epoch 87/100\n",
      "8314/8314 [==============================] - 1s 98us/step - loss: 0.0262 - acc: 0.9900\n",
      "Epoch 88/100\n",
      "8314/8314 [==============================] - 1s 97us/step - loss: 0.0228 - acc: 0.9922\n",
      "Epoch 89/100\n",
      "8314/8314 [==============================] - 1s 98us/step - loss: 0.0253 - acc: 0.9907\n",
      "Epoch 90/100\n",
      "8314/8314 [==============================] - 1s 99us/step - loss: 0.0257 - acc: 0.9895\n",
      "Epoch 91/100\n",
      "8314/8314 [==============================] - 1s 98us/step - loss: 0.0261 - acc: 0.9907\n",
      "Epoch 92/100\n",
      "8314/8314 [==============================] - 1s 97us/step - loss: 0.0281 - acc: 0.9898\n",
      "Epoch 93/100\n",
      "8314/8314 [==============================] - 1s 98us/step - loss: 0.0220 - acc: 0.9915\n",
      "Epoch 94/100\n",
      "8314/8314 [==============================] - 1s 98us/step - loss: 0.0223 - acc: 0.9912\n",
      "Epoch 95/100\n",
      "8314/8314 [==============================] - 1s 97us/step - loss: 0.0227 - acc: 0.9911\n",
      "Epoch 96/100\n",
      "8314/8314 [==============================] - 1s 97us/step - loss: 0.0222 - acc: 0.9925\n",
      "Epoch 97/100\n",
      "8314/8314 [==============================] - 1s 98us/step - loss: 0.0270 - acc: 0.9901\n",
      "Epoch 98/100\n",
      "8314/8314 [==============================] - 1s 97us/step - loss: 0.0239 - acc: 0.9905\n",
      "Epoch 99/100\n",
      "8314/8314 [==============================] - 1s 98us/step - loss: 0.0261 - acc: 0.9900\n",
      "Epoch 100/100\n",
      "8314/8314 [==============================] - 1s 98us/step - loss: 0.0228 - acc: 0.9909\n"
     ]
    },
    {
     "data": {
      "text/plain": [
       "<keras.callbacks.History at 0x2ba1ecd1c7f0>"
      ]
     },
     "execution_count": 53,
     "metadata": {},
     "output_type": "execute_result"
    }
   ],
   "source": [
    "# Fitting the data to the training dataset\n",
    "classifier.fit(X_train,df_train_y, batch_size=10, epochs=100)"
   ]
  },
  {
   "cell_type": "code",
   "execution_count": 41,
   "metadata": {},
   "outputs": [
    {
     "name": "stdout",
     "output_type": "stream",
     "text": [
      "8314/8314 [==============================] - 0s 19us/step\n"
     ]
    },
    {
     "data": {
      "text/plain": [
       "[0.06869381484348439, 0.9731777724320423]"
      ]
     },
     "execution_count": 41,
     "metadata": {},
     "output_type": "execute_result"
    }
   ],
   "source": [
    "eval_model=classifier.evaluate(X_train, df_train_y)\n",
    "eval_model"
   ]
  },
  {
   "cell_type": "code",
   "execution_count": 42,
   "metadata": {},
   "outputs": [],
   "source": [
    "y_pred=classifier.predict(X_test)"
   ]
  },
  {
   "cell_type": "code",
   "execution_count": 43,
   "metadata": {},
   "outputs": [],
   "source": [
    "y_pred = (y_pred > 0.5)"
   ]
  },
  {
   "cell_type": "code",
   "execution_count": 44,
   "metadata": {},
   "outputs": [
    {
     "data": {
      "text/plain": [
       "(1985, 6)"
      ]
     },
     "execution_count": 44,
     "metadata": {},
     "output_type": "execute_result"
    }
   ],
   "source": [
    "y_pred.shape"
   ]
  },
  {
   "cell_type": "code",
   "execution_count": 45,
   "metadata": {},
   "outputs": [
    {
     "data": {
      "text/plain": [
       "(1985, 6)"
      ]
     },
     "execution_count": 45,
     "metadata": {},
     "output_type": "execute_result"
    }
   ],
   "source": [
    "df_test_y.shape"
   ]
  },
  {
   "cell_type": "code",
   "execution_count": 46,
   "metadata": {},
   "outputs": [
    {
     "data": {
      "text/plain": [
       "(1985, 6)"
      ]
     },
     "execution_count": 46,
     "metadata": {},
     "output_type": "execute_result"
    }
   ],
   "source": [
    "y_test = df_test_y.values\n",
    "y_test.shape"
   ]
  },
  {
   "cell_type": "code",
   "execution_count": 47,
   "metadata": {},
   "outputs": [],
   "source": [
    "from sklearn.metrics import confusion_matrix\n",
    "cm = confusion_matrix(y_test.argmax(axis=1), y_pred.argmax(axis=1))"
   ]
  },
  {
   "cell_type": "code",
   "execution_count": 48,
   "metadata": {},
   "outputs": [
    {
     "data": {
      "text/plain": [
       "0.9677581863979848"
      ]
     },
     "execution_count": 48,
     "metadata": {},
     "output_type": "execute_result"
    }
   ],
   "source": [
    "from sklearn.metrics import accuracy_score\n",
    "accuracy_score(y_test, y_pred)"
   ]
  },
  {
   "cell_type": "code",
   "execution_count": 49,
   "metadata": {},
   "outputs": [
    {
     "data": {
      "image/png": "[encoded data removed]",
      "text/plain": [
       "<Figure size 432x288 with 2 Axes>"
      ]
     },
     "metadata": {},
     "output_type": "display_data"
    }
   ],
   "source": [
    "labels = [\"Walking\", \"Walking Up\", \"Walking Down\", \"Sitting\", \"Standing\", \"Laying\"]\n",
    "fig, ax = plot_confusion_matrix(conf_mat=cm, colorbar=True, show_absolute=False, show_normed=True, class_names=labels)\n",
    "plt.show()"
   ]
  },
  {
   "cell_type": "code",
   "execution_count": null,
   "metadata": {},
   "outputs": [],
   "source": []
  },
  {
   "cell_type": "code",
   "execution_count": null,
   "metadata": {},
   "outputs": [],
   "source": []
  },
  {
   "cell_type": "code",
   "execution_count": null,
   "metadata": {},
   "outputs": [],
   "source": []
  },
  {
   "cell_type": "code",
   "execution_count": null,
   "metadata": {},
   "outputs": [],
   "source": []
  },
  {
   "cell_type": "code",
   "execution_count": null,
   "metadata": {},
   "outputs": [],
   "source": []
  },
  {
   "cell_type": "code",
   "execution_count": null,
   "metadata": {},
   "outputs": [],
   "source": []
  },
  {
   "cell_type": "code",
   "execution_count": null,
   "metadata": {},
   "outputs": [],
   "source": []
  },
  {
   "cell_type": "code",
   "execution_count": null,
   "metadata": {},
   "outputs": [],
   "source": []
  },
  {
   "cell_type": "code",
   "execution_count": null,
   "metadata": {},
   "outputs": [],
   "source": []
  },
  {
   "cell_type": "code",
   "execution_count": null,
   "metadata": {},
   "outputs": [],
   "source": []
  },
  {
   "cell_type": "code",
   "execution_count": null,
   "metadata": {},
   "outputs": [],
   "source": []
  },
  {
   "cell_type": "code",
   "execution_count": null,
   "metadata": {},
   "outputs": [],
   "source": []
  },
  {
   "cell_type": "code",
   "execution_count": null,
   "metadata": {},
   "outputs": [],
   "source": []
  },
  {
   "cell_type": "code",
   "execution_count": null,
   "metadata": {},
   "outputs": [],
   "source": []
  },
  {
   "cell_type": "code",
   "execution_count": null,
   "metadata": {},
   "outputs": [],
   "source": []
  },
  {
   "cell_type": "code",
   "execution_count": null,
   "metadata": {},
   "outputs": [],
   "source": []
  },
  {
   "cell_type": "code",
   "execution_count": null,
   "metadata": {},
   "outputs": [],
   "source": []
  },
  {
   "cell_type": "code",
   "execution_count": null,
   "metadata": {},
   "outputs": [],
   "source": []
  },
  {
   "cell_type": "code",
   "execution_count": null,
   "metadata": {},
   "outputs": [],
   "source": []
  },
  {
   "cell_type": "code",
   "execution_count": null,
   "metadata": {},
   "outputs": [],
   "source": []
  },
  {
   "cell_type": "code",
   "execution_count": null,
   "metadata": {},
   "outputs": [],
   "source": []
  },
  {
   "cell_type": "code",
   "execution_count": null,
   "metadata": {},
   "outputs": [],
   "source": []
  },
  {
   "cell_type": "code",
   "execution_count": null,
   "metadata": {},
   "outputs": [],
   "source": []
  },
  {
   "cell_type": "code",
   "execution_count": null,
   "metadata": {},
   "outputs": [],
   "source": []
  },
  {
   "cell_type": "code",
   "execution_count": null,
   "metadata": {},
   "outputs": [],
   "source": []
  },
  {
   "cell_type": "code",
   "execution_count": null,
   "metadata": {},
   "outputs": [],
   "source": []
  },
  {
   "cell_type": "code",
   "execution_count": null,
   "metadata": {},
   "outputs": [],
   "source": []
  },
  {
   "cell_type": "code",
   "execution_count": null,
   "metadata": {},
   "outputs": [],
   "source": []
  },
  {
   "cell_type": "code",
   "execution_count": null,
   "metadata": {},
   "outputs": [],
   "source": []
  },
  {
   "cell_type": "code",
   "execution_count": null,
   "metadata": {},
   "outputs": [],
   "source": []
  },
  {
   "cell_type": "code",
   "execution_count": null,
   "metadata": {},
   "outputs": [],
   "source": []
  },
  {
   "cell_type": "code",
   "execution_count": null,
   "metadata": {},
   "outputs": [],
   "source": []
  },
  {
   "cell_type": "code",
   "execution_count": null,
   "metadata": {},
   "outputs": [],
   "source": []
  },
  {
   "cell_type": "code",
   "execution_count": null,
   "metadata": {},
   "outputs": [],
   "source": []
  },
  {
   "cell_type": "code",
   "execution_count": null,
   "metadata": {},
   "outputs": [],
   "source": []
  },
  {
   "cell_type": "code",
   "execution_count": null,
   "metadata": {},
   "outputs": [],
   "source": []
  },
  {
   "cell_type": "code",
   "execution_count": null,
   "metadata": {},
   "outputs": [],
   "source": []
  },
  {
   "cell_type": "code",
   "execution_count": null,
   "metadata": {},
   "outputs": [],
   "source": []
  },
  {
   "cell_type": "code",
   "execution_count": null,
   "metadata": {},
   "outputs": [],
   "source": []
  },
  {
   "cell_type": "code",
   "execution_count": null,
   "metadata": {},
   "outputs": [],
   "source": []
  },
  {
   "cell_type": "code",
   "execution_count": null,
   "metadata": {},
   "outputs": [],
   "source": []
  },
  {
   "cell_type": "code",
   "execution_count": null,
   "metadata": {},
   "outputs": [],
   "source": []
  },
  {
   "cell_type": "code",
   "execution_count": null,
   "metadata": {},
   "outputs": [],
   "source": []
  },
  {
   "cell_type": "code",
   "execution_count": null,
   "metadata": {},
   "outputs": [],
   "source": []
  },
  {
   "cell_type": "code",
   "execution_count": null,
   "metadata": {},
   "outputs": [],
   "source": []
  },
  {
   "cell_type": "code",
   "execution_count": null,
   "metadata": {},
   "outputs": [],
   "source": []
  },
  {
   "cell_type": "code",
   "execution_count": null,
   "metadata": {},
   "outputs": [],
   "source": []
  },
  {
   "cell_type": "code",
   "execution_count": null,
   "metadata": {},
   "outputs": [],
   "source": []
  },
  {
   "cell_type": "code",
   "execution_count": null,
   "metadata": {},
   "outputs": [],
   "source": []
  },
  {
   "cell_type": "code",
   "execution_count": null,
   "metadata": {},
   "outputs": [],
   "source": []
  },
  {
   "cell_type": "code",
   "execution_count": null,
   "metadata": {},
   "outputs": [],
   "source": []
  },
  {
   "cell_type": "code",
   "execution_count": null,
   "metadata": {},
   "outputs": [],
   "source": []
  },
  {
   "cell_type": "code",
   "execution_count": null,
   "metadata": {},
   "outputs": [],
   "source": []
  },
  {
   "cell_type": "code",
   "execution_count": null,
   "metadata": {},
   "outputs": [],
   "source": []
  },
  {
   "cell_type": "code",
   "execution_count": null,
   "metadata": {},
   "outputs": [],
   "source": []
  },
  {
   "cell_type": "code",
   "execution_count": null,
   "metadata": {},
   "outputs": [],
   "source": []
  },
  {
   "cell_type": "code",
   "execution_count": null,
   "metadata": {},
   "outputs": [],
   "source": []
  },
  {
   "cell_type": "code",
   "execution_count": null,
   "metadata": {},
   "outputs": [],
   "source": []
  },
  {
   "cell_type": "code",
   "execution_count": null,
   "metadata": {},
   "outputs": [],
   "source": []
  },
  {
   "cell_type": "code",
   "execution_count": null,
   "metadata": {},
   "outputs": [],
   "source": []
  },
  {
   "cell_type": "code",
   "execution_count": null,
   "metadata": {},
   "outputs": [],
   "source": []
  },
  {
   "cell_type": "code",
   "execution_count": null,
   "metadata": {},
   "outputs": [],
   "source": []
  },
  {
   "cell_type": "code",
   "execution_count": null,
   "metadata": {},
   "outputs": [],
   "source": []
  },
  {
   "cell_type": "code",
   "execution_count": null,
   "metadata": {},
   "outputs": [],
   "source": []
  },
  {
   "cell_type": "code",
   "execution_count": null,
   "metadata": {},
   "outputs": [],
   "source": []
  }
 ],
 "metadata": {
  "kernelspec": {
   "display_name": "Python 3 (ipykernel)",
   "language": "python",
   "name": "python3"
  },
  "language_info": {
   "codemirror_mode": {
    "name": "ipython",
    "version": 3
   },
   "file_extension": ".py",
   "mimetype": "text/x-python",
   "name": "python",
   "nbconvert_exporter": "python",
   "pygments_lexer": "ipython3",
   "version": "3.9.2"
  }
 },
 "nbformat": 4,
 "nbformat_minor": 4
}
