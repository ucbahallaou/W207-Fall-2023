{
 "cells": [
  {
   "cell_type": "markdown",
   "id": "74481024",
   "metadata": {},
   "source": [
    "<a href=\"https://www.kaggle.com/code/omarreess/breast-cancer-detection-ann-classification?scriptVersionId=110547618\" target=\"_blank\"><img align=\"left\" alt=\"Kaggle\" title=\"Open in Kaggle\" src=\"https://kaggle.com/static/images/open-in-kaggle.svg\"></a>"
   ]
  },
  {
   "cell_type": "markdown",
   "id": "9b3b52b5",
   "metadata": {
    "papermill": {
     "duration": 0.006056,
     "end_time": "2022-11-10T00:02:37.562868",
     "exception": false,
     "start_time": "2022-11-10T00:02:37.556812",
     "status": "completed"
    },
    "tags": []
   },
   "source": [
    "#  Breast Cancer Detection Task \n",
    " * EDA Process \n",
    " * With Artificial Neural Network Model\n",
    " * Using Optimization Techniques ( Regulation , Dropout )\n",
    " * Achieved 97% accuracy level\n"
   ]
  },
  {
   "cell_type": "markdown",
   "id": "1c08ec1b",
   "metadata": {
    "papermill": {
     "duration": 0.00461,
     "end_time": "2022-11-10T00:02:37.572552",
     "exception": false,
     "start_time": "2022-11-10T00:02:37.567942",
     "status": "completed"
    },
    "tags": []
   },
   "source": [
    "# **Importing**"
   ]
  },
  {
   "cell_type": "code",
   "execution_count": 1,
   "id": "b6016c2e",
   "metadata": {
    "execution": {
     "iopub.execute_input": "2022-11-10T00:02:37.585182Z",
     "iopub.status.busy": "2022-11-10T00:02:37.583863Z",
     "iopub.status.idle": "2022-11-10T00:02:45.633689Z",
     "shell.execute_reply": "2022-11-10T00:02:45.632218Z"
    },
    "papermill": {
     "duration": 8.059824,
     "end_time": "2022-11-10T00:02:45.637312",
     "exception": false,
     "start_time": "2022-11-10T00:02:37.577488",
     "status": "completed"
    },
    "tags": []
   },
   "outputs": [],
   "source": [
    "import numpy as np \n",
    "import pandas as pd\n",
    "from sklearn.compose import ColumnTransformer\n",
    "from sklearn.preprocessing import LabelEncoder, OneHotEncoder, MinMaxScaler \n",
    "from sklearn.model_selection import train_test_split\n",
    "from sklearn.metrics import  mean_squared_error, mean_absolute_error, r2_score , mean_absolute_percentage_error\n",
    "from tensorflow.keras import Model\n",
    "from tensorflow.keras import Sequential\n",
    "from tensorflow.keras.optimizers import Adam\n",
    "from sklearn.preprocessing import StandardScaler\n",
    "from sklearn.preprocessing import MinMaxScaler\n",
    "from tensorflow.keras.layers import Dense, Dropout\n",
    "from sklearn.model_selection import train_test_split\n",
    "from tensorflow.keras.losses import MeanSquaredLogarithmicError\n",
    "from sklearn.metrics import mean_absolute_error,mean_squared_error,mean_absolute_percentage_error\n",
    "from tensorflow.python.keras import regularizers\n"
   ]
  },
  {
   "cell_type": "markdown",
   "id": "98b41b2c",
   "metadata": {
    "papermill": {
     "duration": 0.004633,
     "end_time": "2022-11-10T00:02:45.647015",
     "exception": false,
     "start_time": "2022-11-10T00:02:45.642382",
     "status": "completed"
    },
    "tags": []
   },
   "source": [
    "# **Reading Data**"
   ]
  },
  {
   "cell_type": "code",
   "execution_count": 2,
   "id": "8608cf51",
   "metadata": {
    "execution": {
     "iopub.execute_input": "2022-11-10T00:02:45.658865Z",
     "iopub.status.busy": "2022-11-10T00:02:45.658138Z",
     "iopub.status.idle": "2022-11-10T00:02:45.724117Z",
     "shell.execute_reply": "2022-11-10T00:02:45.722975Z"
    },
    "papermill": {
     "duration": 0.074698,
     "end_time": "2022-11-10T00:02:45.726549",
     "exception": false,
     "start_time": "2022-11-10T00:02:45.651851",
     "status": "completed"
    },
    "tags": []
   },
   "outputs": [
    {
     "data": {
      "text/html": [
       "<div>\n",
       "<style scoped>\n",
       "    .dataframe tbody tr th:only-of-type {\n",
       "        vertical-align: middle;\n",
       "    }\n",
       "\n",
       "    .dataframe tbody tr th {\n",
       "        vertical-align: top;\n",
       "    }\n",
       "\n",
       "    .dataframe thead th {\n",
       "        text-align: right;\n",
       "    }\n",
       "</style>\n",
       "<table border=\"1\" class=\"dataframe\">\n",
       "  <thead>\n",
       "    <tr style=\"text-align: right;\">\n",
       "      <th></th>\n",
       "      <th>id</th>\n",
       "      <th>diagnosis</th>\n",
       "      <th>radius_mean</th>\n",
       "      <th>texture_mean</th>\n",
       "      <th>perimeter_mean</th>\n",
       "      <th>area_mean</th>\n",
       "      <th>smoothness_mean</th>\n",
       "      <th>compactness_mean</th>\n",
       "      <th>concavity_mean</th>\n",
       "      <th>concave points_mean</th>\n",
       "      <th>...</th>\n",
       "      <th>texture_worst</th>\n",
       "      <th>perimeter_worst</th>\n",
       "      <th>area_worst</th>\n",
       "      <th>smoothness_worst</th>\n",
       "      <th>compactness_worst</th>\n",
       "      <th>concavity_worst</th>\n",
       "      <th>concave points_worst</th>\n",
       "      <th>symmetry_worst</th>\n",
       "      <th>fractal_dimension_worst</th>\n",
       "      <th>Unnamed: 32</th>\n",
       "    </tr>\n",
       "  </thead>\n",
       "  <tbody>\n",
       "    <tr>\n",
       "      <th>0</th>\n",
       "      <td>842302</td>\n",
       "      <td>M</td>\n",
       "      <td>17.99</td>\n",
       "      <td>10.38</td>\n",
       "      <td>122.80</td>\n",
       "      <td>1001.0</td>\n",
       "      <td>0.11840</td>\n",
       "      <td>0.27760</td>\n",
       "      <td>0.3001</td>\n",
       "      <td>0.14710</td>\n",
       "      <td>...</td>\n",
       "      <td>17.33</td>\n",
       "      <td>184.60</td>\n",
       "      <td>2019.0</td>\n",
       "      <td>0.1622</td>\n",
       "      <td>0.6656</td>\n",
       "      <td>0.7119</td>\n",
       "      <td>0.2654</td>\n",
       "      <td>0.4601</td>\n",
       "      <td>0.11890</td>\n",
       "      <td>NaN</td>\n",
       "    </tr>\n",
       "    <tr>\n",
       "      <th>1</th>\n",
       "      <td>842517</td>\n",
       "      <td>M</td>\n",
       "      <td>20.57</td>\n",
       "      <td>17.77</td>\n",
       "      <td>132.90</td>\n",
       "      <td>1326.0</td>\n",
       "      <td>0.08474</td>\n",
       "      <td>0.07864</td>\n",
       "      <td>0.0869</td>\n",
       "      <td>0.07017</td>\n",
       "      <td>...</td>\n",
       "      <td>23.41</td>\n",
       "      <td>158.80</td>\n",
       "      <td>1956.0</td>\n",
       "      <td>0.1238</td>\n",
       "      <td>0.1866</td>\n",
       "      <td>0.2416</td>\n",
       "      <td>0.1860</td>\n",
       "      <td>0.2750</td>\n",
       "      <td>0.08902</td>\n",
       "      <td>NaN</td>\n",
       "    </tr>\n",
       "    <tr>\n",
       "      <th>2</th>\n",
       "      <td>84300903</td>\n",
       "      <td>M</td>\n",
       "      <td>19.69</td>\n",
       "      <td>21.25</td>\n",
       "      <td>130.00</td>\n",
       "      <td>1203.0</td>\n",
       "      <td>0.10960</td>\n",
       "      <td>0.15990</td>\n",
       "      <td>0.1974</td>\n",
       "      <td>0.12790</td>\n",
       "      <td>...</td>\n",
       "      <td>25.53</td>\n",
       "      <td>152.50</td>\n",
       "      <td>1709.0</td>\n",
       "      <td>0.1444</td>\n",
       "      <td>0.4245</td>\n",
       "      <td>0.4504</td>\n",
       "      <td>0.2430</td>\n",
       "      <td>0.3613</td>\n",
       "      <td>0.08758</td>\n",
       "      <td>NaN</td>\n",
       "    </tr>\n",
       "    <tr>\n",
       "      <th>3</th>\n",
       "      <td>84348301</td>\n",
       "      <td>M</td>\n",
       "      <td>11.42</td>\n",
       "      <td>20.38</td>\n",
       "      <td>77.58</td>\n",
       "      <td>386.1</td>\n",
       "      <td>0.14250</td>\n",
       "      <td>0.28390</td>\n",
       "      <td>0.2414</td>\n",
       "      <td>0.10520</td>\n",
       "      <td>...</td>\n",
       "      <td>26.50</td>\n",
       "      <td>98.87</td>\n",
       "      <td>567.7</td>\n",
       "      <td>0.2098</td>\n",
       "      <td>0.8663</td>\n",
       "      <td>0.6869</td>\n",
       "      <td>0.2575</td>\n",
       "      <td>0.6638</td>\n",
       "      <td>0.17300</td>\n",
       "      <td>NaN</td>\n",
       "    </tr>\n",
       "    <tr>\n",
       "      <th>4</th>\n",
       "      <td>84358402</td>\n",
       "      <td>M</td>\n",
       "      <td>20.29</td>\n",
       "      <td>14.34</td>\n",
       "      <td>135.10</td>\n",
       "      <td>1297.0</td>\n",
       "      <td>0.10030</td>\n",
       "      <td>0.13280</td>\n",
       "      <td>0.1980</td>\n",
       "      <td>0.10430</td>\n",
       "      <td>...</td>\n",
       "      <td>16.67</td>\n",
       "      <td>152.20</td>\n",
       "      <td>1575.0</td>\n",
       "      <td>0.1374</td>\n",
       "      <td>0.2050</td>\n",
       "      <td>0.4000</td>\n",
       "      <td>0.1625</td>\n",
       "      <td>0.2364</td>\n",
       "      <td>0.07678</td>\n",
       "      <td>NaN</td>\n",
       "    </tr>\n",
       "  </tbody>\n",
       "</table>\n",
       "<p>5 rows × 33 columns</p>\n",
       "</div>"
      ],
      "text/plain": [
       "         id diagnosis  radius_mean  texture_mean  perimeter_mean  area_mean  \\\n",
       "0    842302         M        17.99         10.38          122.80     1001.0   \n",
       "1    842517         M        20.57         17.77          132.90     1326.0   \n",
       "2  84300903         M        19.69         21.25          130.00     1203.0   \n",
       "3  84348301         M        11.42         20.38           77.58      386.1   \n",
       "4  84358402         M        20.29         14.34          135.10     1297.0   \n",
       "\n",
       "   smoothness_mean  compactness_mean  concavity_mean  concave points_mean  \\\n",
       "0          0.11840           0.27760          0.3001              0.14710   \n",
       "1          0.08474           0.07864          0.0869              0.07017   \n",
       "2          0.10960           0.15990          0.1974              0.12790   \n",
       "3          0.14250           0.28390          0.2414              0.10520   \n",
       "4          0.10030           0.13280          0.1980              0.10430   \n",
       "\n",
       "   ...  texture_worst  perimeter_worst  area_worst  smoothness_worst  \\\n",
       "0  ...          17.33           184.60      2019.0            0.1622   \n",
       "1  ...          23.41           158.80      1956.0            0.1238   \n",
       "2  ...          25.53           152.50      1709.0            0.1444   \n",
       "3  ...          26.50            98.87       567.7            0.2098   \n",
       "4  ...          16.67           152.20      1575.0            0.1374   \n",
       "\n",
       "   compactness_worst  concavity_worst  concave points_worst  symmetry_worst  \\\n",
       "0             0.6656           0.7119                0.2654          0.4601   \n",
       "1             0.1866           0.2416                0.1860          0.2750   \n",
       "2             0.4245           0.4504                0.2430          0.3613   \n",
       "3             0.8663           0.6869                0.2575          0.6638   \n",
       "4             0.2050           0.4000                0.1625          0.2364   \n",
       "\n",
       "   fractal_dimension_worst  Unnamed: 32  \n",
       "0                  0.11890          NaN  \n",
       "1                  0.08902          NaN  \n",
       "2                  0.08758          NaN  \n",
       "3                  0.17300          NaN  \n",
       "4                  0.07678          NaN  \n",
       "\n",
       "[5 rows x 33 columns]"
      ]
     },
     "execution_count": 2,
     "metadata": {},
     "output_type": "execute_result"
    }
   ],
   "source": [
    "dataset = pd.read_csv('../input/breast-cancer-wisconsin-data/data.csv')\n",
    "dataset.head()"
   ]
  },
  {
   "cell_type": "code",
   "execution_count": 3,
   "id": "88e0032d",
   "metadata": {
    "execution": {
     "iopub.execute_input": "2022-11-10T00:02:45.739512Z",
     "iopub.status.busy": "2022-11-10T00:02:45.739036Z",
     "iopub.status.idle": "2022-11-10T00:02:45.767419Z",
     "shell.execute_reply": "2022-11-10T00:02:45.7663Z"
    },
    "papermill": {
     "duration": 0.038502,
     "end_time": "2022-11-10T00:02:45.770654",
     "exception": false,
     "start_time": "2022-11-10T00:02:45.732152",
     "status": "completed"
    },
    "tags": []
   },
   "outputs": [
    {
     "name": "stdout",
     "output_type": "stream",
     "text": [
      "<class 'pandas.core.frame.DataFrame'>\n",
      "RangeIndex: 569 entries, 0 to 568\n",
      "Data columns (total 33 columns):\n",
      " #   Column                   Non-Null Count  Dtype  \n",
      "---  ------                   --------------  -----  \n",
      " 0   id                       569 non-null    int64  \n",
      " 1   diagnosis                569 non-null    object \n",
      " 2   radius_mean              569 non-null    float64\n",
      " 3   texture_mean             569 non-null    float64\n",
      " 4   perimeter_mean           569 non-null    float64\n",
      " 5   area_mean                569 non-null    float64\n",
      " 6   smoothness_mean          569 non-null    float64\n",
      " 7   compactness_mean         569 non-null    float64\n",
      " 8   concavity_mean           569 non-null    float64\n",
      " 9   concave points_mean      569 non-null    float64\n",
      " 10  symmetry_mean            569 non-null    float64\n",
      " 11  fractal_dimension_mean   569 non-null    float64\n",
      " 12  radius_se                569 non-null    float64\n",
      " 13  texture_se               569 non-null    float64\n",
      " 14  perimeter_se             569 non-null    float64\n",
      " 15  area_se                  569 non-null    float64\n",
      " 16  smoothness_se            569 non-null    float64\n",
      " 17  compactness_se           569 non-null    float64\n",
      " 18  concavity_se             569 non-null    float64\n",
      " 19  concave points_se        569 non-null    float64\n",
      " 20  symmetry_se              569 non-null    float64\n",
      " 21  fractal_dimension_se     569 non-null    float64\n",
      " 22  radius_worst             569 non-null    float64\n",
      " 23  texture_worst            569 non-null    float64\n",
      " 24  perimeter_worst          569 non-null    float64\n",
      " 25  area_worst               569 non-null    float64\n",
      " 26  smoothness_worst         569 non-null    float64\n",
      " 27  compactness_worst        569 non-null    float64\n",
      " 28  concavity_worst          569 non-null    float64\n",
      " 29  concave points_worst     569 non-null    float64\n",
      " 30  symmetry_worst           569 non-null    float64\n",
      " 31  fractal_dimension_worst  569 non-null    float64\n",
      " 32  Unnamed: 32              0 non-null      float64\n",
      "dtypes: float64(31), int64(1), object(1)\n",
      "memory usage: 146.8+ KB\n"
     ]
    }
   ],
   "source": [
    "dataset.info()\n"
   ]
  },
  {
   "cell_type": "markdown",
   "id": "abf531a5",
   "metadata": {
    "papermill": {
     "duration": 0.005388,
     "end_time": "2022-11-10T00:02:45.782234",
     "exception": false,
     "start_time": "2022-11-10T00:02:45.776846",
     "status": "completed"
    },
    "tags": []
   },
   "source": [
    "# **EDA Process**"
   ]
  },
  {
   "cell_type": "code",
   "execution_count": 4,
   "id": "229596ec",
   "metadata": {
    "execution": {
     "iopub.execute_input": "2022-11-10T00:02:45.79573Z",
     "iopub.status.busy": "2022-11-10T00:02:45.795317Z",
     "iopub.status.idle": "2022-11-10T00:02:45.801947Z",
     "shell.execute_reply": "2022-11-10T00:02:45.800649Z"
    },
    "papermill": {
     "duration": 0.016568,
     "end_time": "2022-11-10T00:02:45.804558",
     "exception": false,
     "start_time": "2022-11-10T00:02:45.78799",
     "status": "completed"
    },
    "tags": []
   },
   "outputs": [],
   "source": [
    "dataset_output = dataset.diagnosis\n",
    "dataset.drop([\"diagnosis\",\"Unnamed: 32\"],axis = 1 , inplace=True)"
   ]
  },
  {
   "cell_type": "code",
   "execution_count": 5,
   "id": "a6b3c177",
   "metadata": {
    "execution": {
     "iopub.execute_input": "2022-11-10T00:02:45.817452Z",
     "iopub.status.busy": "2022-11-10T00:02:45.817004Z",
     "iopub.status.idle": "2022-11-10T00:02:45.827563Z",
     "shell.execute_reply": "2022-11-10T00:02:45.826104Z"
    },
    "papermill": {
     "duration": 0.019731,
     "end_time": "2022-11-10T00:02:45.82973",
     "exception": false,
     "start_time": "2022-11-10T00:02:45.809999",
     "status": "completed"
    },
    "tags": []
   },
   "outputs": [
    {
     "data": {
      "text/plain": [
       "id                         0\n",
       "radius_mean                0\n",
       "texture_mean               0\n",
       "perimeter_mean             0\n",
       "area_mean                  0\n",
       "smoothness_mean            0\n",
       "compactness_mean           0\n",
       "concavity_mean             0\n",
       "concave points_mean        0\n",
       "symmetry_mean              0\n",
       "fractal_dimension_mean     0\n",
       "radius_se                  0\n",
       "texture_se                 0\n",
       "perimeter_se               0\n",
       "area_se                    0\n",
       "smoothness_se              0\n",
       "compactness_se             0\n",
       "concavity_se               0\n",
       "concave points_se          0\n",
       "symmetry_se                0\n",
       "fractal_dimension_se       0\n",
       "radius_worst               0\n",
       "texture_worst              0\n",
       "perimeter_worst            0\n",
       "area_worst                 0\n",
       "smoothness_worst           0\n",
       "compactness_worst          0\n",
       "concavity_worst            0\n",
       "concave points_worst       0\n",
       "symmetry_worst             0\n",
       "fractal_dimension_worst    0\n",
       "dtype: int64"
      ]
     },
     "execution_count": 5,
     "metadata": {},
     "output_type": "execute_result"
    }
   ],
   "source": [
    "dataset.isna().sum()\n"
   ]
  },
  {
   "cell_type": "markdown",
   "id": "5308d509",
   "metadata": {
    "papermill": {
     "duration": 0.005208,
     "end_time": "2022-11-10T00:02:45.842256",
     "exception": false,
     "start_time": "2022-11-10T00:02:45.837048",
     "status": "completed"
    },
    "tags": []
   },
   "source": [
    "# **Transform Some data**"
   ]
  },
  {
   "cell_type": "code",
   "execution_count": 6,
   "id": "0efa4465",
   "metadata": {
    "execution": {
     "iopub.execute_input": "2022-11-10T00:02:45.855032Z",
     "iopub.status.busy": "2022-11-10T00:02:45.854623Z",
     "iopub.status.idle": "2022-11-10T00:02:45.864735Z",
     "shell.execute_reply": "2022-11-10T00:02:45.863404Z"
    },
    "papermill": {
     "duration": 0.019428,
     "end_time": "2022-11-10T00:02:45.867202",
     "exception": false,
     "start_time": "2022-11-10T00:02:45.847774",
     "status": "completed"
    },
    "tags": []
   },
   "outputs": [
    {
     "data": {
      "text/plain": [
       "[]"
      ]
     },
     "execution_count": 6,
     "metadata": {},
     "output_type": "execute_result"
    }
   ],
   "source": [
    "# Getting Categorcial Columns\n",
    "categorical_cols = dataset.select_dtypes(include=['object']).columns.tolist()\n",
    "categorical_cols"
   ]
  },
  {
   "cell_type": "code",
   "execution_count": 7,
   "id": "007050f2",
   "metadata": {
    "execution": {
     "iopub.execute_input": "2022-11-10T00:02:45.88088Z",
     "iopub.status.busy": "2022-11-10T00:02:45.879932Z",
     "iopub.status.idle": "2022-11-10T00:02:45.88602Z",
     "shell.execute_reply": "2022-11-10T00:02:45.884497Z"
    },
    "papermill": {
     "duration": 0.015446,
     "end_time": "2022-11-10T00:02:45.888375",
     "exception": false,
     "start_time": "2022-11-10T00:02:45.872929",
     "status": "completed"
    },
    "tags": []
   },
   "outputs": [],
   "source": [
    "# Encoding target output data\n",
    "dataset_output= LabelEncoder().fit_transform(dataset_output,)\n"
   ]
  },
  {
   "cell_type": "code",
   "execution_count": 8,
   "id": "2ddeadca",
   "metadata": {
    "execution": {
     "iopub.execute_input": "2022-11-10T00:02:45.901735Z",
     "iopub.status.busy": "2022-11-10T00:02:45.901321Z",
     "iopub.status.idle": "2022-11-10T00:02:45.913187Z",
     "shell.execute_reply": "2022-11-10T00:02:45.9116Z"
    },
    "papermill": {
     "duration": 0.021421,
     "end_time": "2022-11-10T00:02:45.915679",
     "exception": false,
     "start_time": "2022-11-10T00:02:45.894258",
     "status": "completed"
    },
    "tags": []
   },
   "outputs": [
    {
     "name": "stdout",
     "output_type": "stream",
     "text": [
      "Normlized Features its max : \n",
      "1.0000000000000002 \n",
      "\n",
      "its min : \n",
      "0.0\n"
     ]
    }
   ],
   "source": [
    "# Normalize\n",
    "normalizing_scaller =MinMaxScaler()  \n",
    "normalizing_scaller.fit(dataset)\n",
    "dataset = normalizing_scaller.transform(dataset) \n",
    " \n",
    "print(f\"Normlized Features its max : \\n{dataset.max()} \\n\\nits min : \\n{dataset.min()}\" )"
   ]
  },
  {
   "cell_type": "markdown",
   "id": "c459cc2f",
   "metadata": {
    "papermill": {
     "duration": 0.005398,
     "end_time": "2022-11-10T00:02:45.927167",
     "exception": false,
     "start_time": "2022-11-10T00:02:45.921769",
     "status": "completed"
    },
    "tags": []
   },
   "source": [
    "# **Splitting Train & Test Data**"
   ]
  },
  {
   "cell_type": "code",
   "execution_count": 9,
   "id": "46a1eda4",
   "metadata": {
    "execution": {
     "iopub.execute_input": "2022-11-10T00:02:45.941366Z",
     "iopub.status.busy": "2022-11-10T00:02:45.940134Z",
     "iopub.status.idle": "2022-11-10T00:02:45.94678Z",
     "shell.execute_reply": "2022-11-10T00:02:45.94545Z"
    },
    "papermill": {
     "duration": 0.016608,
     "end_time": "2022-11-10T00:02:45.949522",
     "exception": false,
     "start_time": "2022-11-10T00:02:45.932914",
     "status": "completed"
    },
    "tags": []
   },
   "outputs": [],
   "source": [
    "# Splitting  \n",
    "features_train, features_test, output_train, output_test = train_test_split (dataset, dataset_output,   test_size = 0.30,    random_state = 5,)\n",
    "\n",
    "\n"
   ]
  },
  {
   "cell_type": "markdown",
   "id": "c092bc37",
   "metadata": {
    "papermill": {
     "duration": 0.00545,
     "end_time": "2022-11-10T00:02:45.96123",
     "exception": false,
     "start_time": "2022-11-10T00:02:45.95578",
     "status": "completed"
    },
    "tags": []
   },
   "source": [
    "# ANN Model Architecture"
   ]
  },
  {
   "cell_type": "code",
   "execution_count": 10,
   "id": "11cf6e4c",
   "metadata": {
    "execution": {
     "iopub.execute_input": "2022-11-10T00:02:45.974692Z",
     "iopub.status.busy": "2022-11-10T00:02:45.974212Z",
     "iopub.status.idle": "2022-11-10T00:02:46.186024Z",
     "shell.execute_reply": "2022-11-10T00:02:46.184301Z"
    },
    "papermill": {
     "duration": 0.221901,
     "end_time": "2022-11-10T00:02:46.189019",
     "exception": false,
     "start_time": "2022-11-10T00:02:45.967118",
     "status": "completed"
    },
    "tags": []
   },
   "outputs": [
    {
     "name": "stderr",
     "output_type": "stream",
     "text": [
      "2022-11-10 00:02:46.027850: I tensorflow/core/common_runtime/process_util.cc:146] Creating new thread pool with default inter op setting: 2. Tune using inter_op_parallelism_threads for best performance.\n"
     ]
    }
   ],
   "source": [
    "\n",
    "# ANN Model Layers\n",
    "\n",
    "model = Sequential()\n",
    "model.add(Dense(120, input_shape=(dataset.shape[1],)))\n",
    "model.add(Dropout(0.2))\n",
    "model.add(Dense(100, activation=\"relu\"))\n",
    "model.add(Dense(80, activation=\"relu\", kernel_regularizer=regularizers.l2(0.0001) ))\n",
    "model.add(Dense(80, activation=\"relu\"))\n",
    "model.add(Dropout(0.2))\n",
    "model.add(Dense(80, activation=\"relu\", kernel_regularizer=regularizers.l2(0.0001) ))\n",
    "model.add(Dense(80, activation=\"relu\"))\n",
    "model.add(Dropout(0.1))\n",
    "model.add(Dense(20, activation=\"sigmoid\"))\n",
    "model.add(Dense(1, activation=\"sigmoid\",name= 'Classification_Layer'))\n",
    " "
   ]
  },
  {
   "cell_type": "code",
   "execution_count": 11,
   "id": "0c1c1d2f",
   "metadata": {
    "execution": {
     "iopub.execute_input": "2022-11-10T00:02:46.202797Z",
     "iopub.status.busy": "2022-11-10T00:02:46.202331Z",
     "iopub.status.idle": "2022-11-10T00:02:57.65247Z",
     "shell.execute_reply": "2022-11-10T00:02:57.651157Z"
    },
    "papermill": {
     "duration": 11.46003,
     "end_time": "2022-11-10T00:02:57.655007",
     "exception": false,
     "start_time": "2022-11-10T00:02:46.194977",
     "status": "completed"
    },
    "tags": []
   },
   "outputs": [
    {
     "name": "stderr",
     "output_type": "stream",
     "text": [
      "2022-11-10 00:02:46.305983: I tensorflow/compiler/mlir/mlir_graph_optimization_pass.cc:185] None of the MLIR Optimization Passes are enabled (registered 2)\n"
     ]
    },
    {
     "name": "stdout",
     "output_type": "stream",
     "text": [
      "Epoch 1/30\n",
      "80/80 [==============================] - 1s 4ms/step - loss: 0.5641 - accuracy: 0.8015\n",
      "Epoch 2/30\n",
      "80/80 [==============================] - 0s 3ms/step - loss: 0.2942 - accuracy: 0.9121\n",
      "Epoch 3/30\n",
      "80/80 [==============================] - 0s 4ms/step - loss: 0.2407 - accuracy: 0.9196\n",
      "Epoch 4/30\n",
      "80/80 [==============================] - 0s 4ms/step - loss: 0.1940 - accuracy: 0.9271\n",
      "Epoch 5/30\n",
      "80/80 [==============================] - 0s 4ms/step - loss: 0.1931 - accuracy: 0.9296\n",
      "Epoch 6/30\n",
      "80/80 [==============================] - 0s 3ms/step - loss: 0.1352 - accuracy: 0.9698\n",
      "Epoch 7/30\n",
      "80/80 [==============================] - 0s 3ms/step - loss: 0.1503 - accuracy: 0.9623\n",
      "Epoch 8/30\n",
      "80/80 [==============================] - 0s 3ms/step - loss: 0.1317 - accuracy: 0.9648\n",
      "Epoch 9/30\n",
      "80/80 [==============================] - 0s 3ms/step - loss: 0.1156 - accuracy: 0.9673\n",
      "Epoch 10/30\n",
      "80/80 [==============================] - 0s 3ms/step - loss: 0.1310 - accuracy: 0.9598\n",
      "Epoch 11/30\n",
      "80/80 [==============================] - 0s 3ms/step - loss: 0.1127 - accuracy: 0.9548\n",
      "Epoch 12/30\n",
      "80/80 [==============================] - 0s 3ms/step - loss: 0.1440 - accuracy: 0.9497\n",
      "Epoch 13/30\n",
      "80/80 [==============================] - 0s 3ms/step - loss: 0.0839 - accuracy: 0.9724\n",
      "Epoch 14/30\n",
      "80/80 [==============================] - 0s 3ms/step - loss: 0.1042 - accuracy: 0.9698\n",
      "Epoch 15/30\n",
      "80/80 [==============================] - 0s 3ms/step - loss: 0.0797 - accuracy: 0.9749\n",
      "Epoch 16/30\n",
      "80/80 [==============================] - 0s 3ms/step - loss: 0.1001 - accuracy: 0.9724\n",
      "Epoch 17/30\n",
      "80/80 [==============================] - 0s 3ms/step - loss: 0.0821 - accuracy: 0.9799\n",
      "Epoch 18/30\n",
      "80/80 [==============================] - 0s 3ms/step - loss: 0.1127 - accuracy: 0.9673\n",
      "Epoch 19/30\n",
      "80/80 [==============================] - 0s 3ms/step - loss: 0.0778 - accuracy: 0.9749\n",
      "Epoch 20/30\n",
      "80/80 [==============================] - 0s 3ms/step - loss: 0.0616 - accuracy: 0.9874\n",
      "Epoch 21/30\n",
      "80/80 [==============================] - 0s 3ms/step - loss: 0.0882 - accuracy: 0.9749\n",
      "Epoch 22/30\n",
      "80/80 [==============================] - 0s 3ms/step - loss: 0.1079 - accuracy: 0.9548\n",
      "Epoch 23/30\n",
      "80/80 [==============================] - 0s 3ms/step - loss: 0.0713 - accuracy: 0.9774\n",
      "Epoch 24/30\n",
      "80/80 [==============================] - 0s 3ms/step - loss: 0.0876 - accuracy: 0.9623\n",
      "Epoch 25/30\n",
      "80/80 [==============================] - 0s 3ms/step - loss: 0.0847 - accuracy: 0.9673\n",
      "Epoch 26/30\n",
      "80/80 [==============================] - 0s 3ms/step - loss: 0.1232 - accuracy: 0.9623\n",
      "Epoch 27/30\n",
      "80/80 [==============================] - 0s 3ms/step - loss: 0.0654 - accuracy: 0.9849\n",
      "Epoch 28/30\n",
      "80/80 [==============================] - 0s 3ms/step - loss: 0.0644 - accuracy: 0.9749\n",
      "Epoch 29/30\n",
      "80/80 [==============================] - 0s 3ms/step - loss: 0.0575 - accuracy: 0.9774\n",
      "Epoch 30/30\n",
      "80/80 [==============================] - 0s 3ms/step - loss: 0.0562 - accuracy: 0.9874\n"
     ]
    },
    {
     "data": {
      "text/plain": [
       "<keras.callbacks.History at 0x7f6fda54b990>"
      ]
     },
     "execution_count": 11,
     "metadata": {},
     "output_type": "execute_result"
    }
   ],
   "source": [
    "# Model Metric & Optimizer\n",
    "model.compile(loss='binary_crossentropy', optimizer='adam', metrics=['accuracy'])\n",
    "\n",
    "# Trainning \n",
    "model.fit(features_train, output_train, batch_size=5, epochs=30, verbose=1)"
   ]
  },
  {
   "cell_type": "markdown",
   "id": "53be1a52",
   "metadata": {
    "papermill": {
     "duration": 0.018,
     "end_time": "2022-11-10T00:02:57.692682",
     "exception": false,
     "start_time": "2022-11-10T00:02:57.674682",
     "status": "completed"
    },
    "tags": []
   },
   "source": [
    "# **Model's Accuracy**"
   ]
  },
  {
   "cell_type": "code",
   "execution_count": 12,
   "id": "ad0e544e",
   "metadata": {
    "execution": {
     "iopub.execute_input": "2022-11-10T00:02:57.731037Z",
     "iopub.status.busy": "2022-11-10T00:02:57.730627Z",
     "iopub.status.idle": "2022-11-10T00:02:58.06805Z",
     "shell.execute_reply": "2022-11-10T00:02:58.066814Z"
    },
    "papermill": {
     "duration": 0.359671,
     "end_time": "2022-11-10T00:02:58.07072",
     "exception": false,
     "start_time": "2022-11-10T00:02:57.711049",
     "status": "completed"
    },
    "tags": []
   },
   "outputs": [
    {
     "name": "stdout",
     "output_type": "stream",
     "text": [
      "6/6 [==============================] - 0s 4ms/step - loss: 0.0607 - accuracy: 0.9883\n"
     ]
    },
    {
     "data": {
      "text/plain": [
       "0.988304078578949"
      ]
     },
     "execution_count": 12,
     "metadata": {},
     "output_type": "execute_result"
    }
   ],
   "source": [
    "# Accuracy\n",
    "test_loss, test_acc = model.evaluate(features_test, output_test)\n",
    "test_acc"
   ]
  }
 ],
 "metadata": {
  "kernelspec": {
   "display_name": "Python 3 (ipykernel)",
   "language": "python",
   "name": "python3"
  },
  "language_info": {
   "codemirror_mode": {
    "name": "ipython",
    "version": 3
   },
   "file_extension": ".py",
   "mimetype": "text/x-python",
   "name": "python",
   "nbconvert_exporter": "python",
   "pygments_lexer": "ipython3",
   "version": "3.9.2"
  },
  "papermill": {
   "default_parameters": {},
   "duration": 34.173046,
   "end_time": "2022-11-10T00:03:01.001291",
   "environment_variables": {},
   "exception": null,
   "input_path": "__notebook__.ipynb",
   "output_path": "__notebook__.ipynb",
   "parameters": {},
   "start_time": "2022-11-10T00:02:26.828245",
   "version": "2.3.4"
  }
 },
 "nbformat": 4,
 "nbformat_minor": 5
}
