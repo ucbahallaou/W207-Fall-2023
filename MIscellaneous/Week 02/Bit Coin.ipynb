{
 "cells": [
  {
   "cell_type": "markdown",
   "metadata": {},
   "source": [
    "### Project 1\n",
    "\n",
    "Project description: \n",
    "- Read data into Jupyter notebook, use pandas to import data into a data frame\n",
    "- preprocess data: explore data, address missing data, categorical data, if there is any, and data scaling. Justify the type of scaling used in this project. \n",
    "- train your dataset using all the linear regression models you've learned so far. If your model has a scaling parameter(s) use Grid Search to find the best scaling parameter. Use plots and graphs to help you get a better glimpse of the results. \n",
    "- Then use cross validation to find average training and testing score. \n",
    "- Your submission should have at least the following regression models: KNN repressor, linear regression, Ridge, Lasso, polynomial regression, SVM both simple and with kernels. \n",
    "- Finally find the best repressor for this dataset and train your model on the entire dataset using the best parameters and predict the market price for the test_set.\n",
    "- submit IPython notebook. Use markdown to provide an inline report for this project."
   ]
  },
  {
   "cell_type": "markdown",
   "metadata": {},
   "source": [
    "##### <font color = 'red'> Important note: All the group members should participate in completing this project.  This includes coding, preparing report and testing the models. "
   ]
  },
  {
   "cell_type": "markdown",
   "metadata": {},
   "source": [
    "### Import data"
   ]
  },
  {
   "cell_type": "code",
   "execution_count": 1,
   "metadata": {},
   "outputs": [],
   "source": [
    "import pandas as pd\n",
    "import numpy as np\n",
    "data = pd.read_csv('bitcoin_dataset.csv')\n",
    "test = pd.read_csv('test_set.csv')\n",
    "%matplotlib inline"
   ]
  },
  {
   "cell_type": "markdown",
   "metadata": {},
   "source": [
    "### Preprocess data"
   ]
  },
  {
   "cell_type": "markdown",
   "metadata": {},
   "source": [
    "#### explore data"
   ]
  },
  {
   "cell_type": "code",
   "execution_count": 2,
   "metadata": {},
   "outputs": [
    {
     "data": {
      "text/html": [
       "<div>\n",
       "<style scoped>\n",
       "    .dataframe tbody tr th:only-of-type {\n",
       "        vertical-align: middle;\n",
       "    }\n",
       "\n",
       "    .dataframe tbody tr th {\n",
       "        vertical-align: top;\n",
       "    }\n",
       "\n",
       "    .dataframe thead th {\n",
       "        text-align: right;\n",
       "    }\n",
       "</style>\n",
       "<table border=\"1\" class=\"dataframe\">\n",
       "  <thead>\n",
       "    <tr style=\"text-align: right;\">\n",
       "      <th></th>\n",
       "      <th>Date</th>\n",
       "      <th>btc_market_price</th>\n",
       "      <th>btc_total_bitcoins</th>\n",
       "      <th>btc_market_cap</th>\n",
       "      <th>btc_trade_volume</th>\n",
       "      <th>btc_blocks_size</th>\n",
       "      <th>btc_avg_block_size</th>\n",
       "      <th>btc_n_orphaned_blocks</th>\n",
       "      <th>btc_n_transactions_per_block</th>\n",
       "      <th>btc_median_confirmation_time</th>\n",
       "      <th>...</th>\n",
       "      <th>btc_cost_per_transaction_percent</th>\n",
       "      <th>btc_cost_per_transaction</th>\n",
       "      <th>btc_n_unique_addresses</th>\n",
       "      <th>btc_n_transactions</th>\n",
       "      <th>btc_n_transactions_total</th>\n",
       "      <th>btc_n_transactions_excluding_popular</th>\n",
       "      <th>btc_n_transactions_excluding_chains_longer_than_100</th>\n",
       "      <th>btc_output_volume</th>\n",
       "      <th>btc_estimated_transaction_volume</th>\n",
       "      <th>btc_estimated_transaction_volume_usd</th>\n",
       "    </tr>\n",
       "  </thead>\n",
       "  <tbody>\n",
       "    <tr>\n",
       "      <th>0</th>\n",
       "      <td>2/17/2010 0:00</td>\n",
       "      <td>0.0</td>\n",
       "      <td>2043200.0</td>\n",
       "      <td>0.0</td>\n",
       "      <td>0.0</td>\n",
       "      <td>0.0</td>\n",
       "      <td>0.000235</td>\n",
       "      <td>0</td>\n",
       "      <td>1.0</td>\n",
       "      <td>0.0</td>\n",
       "      <td>...</td>\n",
       "      <td>31.781022</td>\n",
       "      <td>0.0</td>\n",
       "      <td>241</td>\n",
       "      <td>244</td>\n",
       "      <td>41240</td>\n",
       "      <td>244</td>\n",
       "      <td>244</td>\n",
       "      <td>65173.13</td>\n",
       "      <td>36500.0</td>\n",
       "      <td>0.0</td>\n",
       "    </tr>\n",
       "    <tr>\n",
       "      <th>1</th>\n",
       "      <td>2/18/2010 0:00</td>\n",
       "      <td>0.0</td>\n",
       "      <td>2054650.0</td>\n",
       "      <td>0.0</td>\n",
       "      <td>0.0</td>\n",
       "      <td>0.0</td>\n",
       "      <td>0.000241</td>\n",
       "      <td>0</td>\n",
       "      <td>1.0</td>\n",
       "      <td>0.0</td>\n",
       "      <td>...</td>\n",
       "      <td>154.463801</td>\n",
       "      <td>0.0</td>\n",
       "      <td>234</td>\n",
       "      <td>235</td>\n",
       "      <td>41475</td>\n",
       "      <td>235</td>\n",
       "      <td>235</td>\n",
       "      <td>18911.74</td>\n",
       "      <td>7413.0</td>\n",
       "      <td>0.0</td>\n",
       "    </tr>\n",
       "    <tr>\n",
       "      <th>2</th>\n",
       "      <td>2/19/2010 0:00</td>\n",
       "      <td>0.0</td>\n",
       "      <td>2063600.0</td>\n",
       "      <td>0.0</td>\n",
       "      <td>0.0</td>\n",
       "      <td>0.0</td>\n",
       "      <td>0.000228</td>\n",
       "      <td>0</td>\n",
       "      <td>1.0</td>\n",
       "      <td>0.0</td>\n",
       "      <td>...</td>\n",
       "      <td>1278.516635</td>\n",
       "      <td>0.0</td>\n",
       "      <td>185</td>\n",
       "      <td>183</td>\n",
       "      <td>41658</td>\n",
       "      <td>183</td>\n",
       "      <td>183</td>\n",
       "      <td>9749.98</td>\n",
       "      <td>700.0</td>\n",
       "      <td>0.0</td>\n",
       "    </tr>\n",
       "    <tr>\n",
       "      <th>3</th>\n",
       "      <td>2/20/2010 0:00</td>\n",
       "      <td>0.0</td>\n",
       "      <td>2074700.0</td>\n",
       "      <td>0.0</td>\n",
       "      <td>0.0</td>\n",
       "      <td>0.0</td>\n",
       "      <td>0.000218</td>\n",
       "      <td>0</td>\n",
       "      <td>1.0</td>\n",
       "      <td>0.0</td>\n",
       "      <td>...</td>\n",
       "      <td>22186.687990</td>\n",
       "      <td>0.0</td>\n",
       "      <td>224</td>\n",
       "      <td>224</td>\n",
       "      <td>41882</td>\n",
       "      <td>224</td>\n",
       "      <td>224</td>\n",
       "      <td>11150.03</td>\n",
       "      <td>50.0</td>\n",
       "      <td>0.0</td>\n",
       "    </tr>\n",
       "    <tr>\n",
       "      <th>4</th>\n",
       "      <td>2/21/2010 0:00</td>\n",
       "      <td>0.0</td>\n",
       "      <td>2085400.0</td>\n",
       "      <td>0.0</td>\n",
       "      <td>0.0</td>\n",
       "      <td>0.0</td>\n",
       "      <td>0.000234</td>\n",
       "      <td>0</td>\n",
       "      <td>1.0</td>\n",
       "      <td>0.0</td>\n",
       "      <td>...</td>\n",
       "      <td>689.179876</td>\n",
       "      <td>0.0</td>\n",
       "      <td>218</td>\n",
       "      <td>218</td>\n",
       "      <td>42100</td>\n",
       "      <td>218</td>\n",
       "      <td>218</td>\n",
       "      <td>12266.83</td>\n",
       "      <td>1553.0</td>\n",
       "      <td>0.0</td>\n",
       "    </tr>\n",
       "  </tbody>\n",
       "</table>\n",
       "<p>5 rows × 24 columns</p>\n",
       "</div>"
      ],
      "text/plain": [
       "             Date  btc_market_price  btc_total_bitcoins  btc_market_cap  \\\n",
       "0  2/17/2010 0:00               0.0           2043200.0             0.0   \n",
       "1  2/18/2010 0:00               0.0           2054650.0             0.0   \n",
       "2  2/19/2010 0:00               0.0           2063600.0             0.0   \n",
       "3  2/20/2010 0:00               0.0           2074700.0             0.0   \n",
       "4  2/21/2010 0:00               0.0           2085400.0             0.0   \n",
       "\n",
       "   btc_trade_volume  btc_blocks_size  btc_avg_block_size  \\\n",
       "0               0.0              0.0            0.000235   \n",
       "1               0.0              0.0            0.000241   \n",
       "2               0.0              0.0            0.000228   \n",
       "3               0.0              0.0            0.000218   \n",
       "4               0.0              0.0            0.000234   \n",
       "\n",
       "   btc_n_orphaned_blocks  btc_n_transactions_per_block  \\\n",
       "0                      0                           1.0   \n",
       "1                      0                           1.0   \n",
       "2                      0                           1.0   \n",
       "3                      0                           1.0   \n",
       "4                      0                           1.0   \n",
       "\n",
       "   btc_median_confirmation_time                  ...                   \\\n",
       "0                           0.0                  ...                    \n",
       "1                           0.0                  ...                    \n",
       "2                           0.0                  ...                    \n",
       "3                           0.0                  ...                    \n",
       "4                           0.0                  ...                    \n",
       "\n",
       "   btc_cost_per_transaction_percent  btc_cost_per_transaction  \\\n",
       "0                         31.781022                       0.0   \n",
       "1                        154.463801                       0.0   \n",
       "2                       1278.516635                       0.0   \n",
       "3                      22186.687990                       0.0   \n",
       "4                        689.179876                       0.0   \n",
       "\n",
       "   btc_n_unique_addresses  btc_n_transactions  btc_n_transactions_total  \\\n",
       "0                     241                 244                     41240   \n",
       "1                     234                 235                     41475   \n",
       "2                     185                 183                     41658   \n",
       "3                     224                 224                     41882   \n",
       "4                     218                 218                     42100   \n",
       "\n",
       "   btc_n_transactions_excluding_popular  \\\n",
       "0                                   244   \n",
       "1                                   235   \n",
       "2                                   183   \n",
       "3                                   224   \n",
       "4                                   218   \n",
       "\n",
       "   btc_n_transactions_excluding_chains_longer_than_100  btc_output_volume  \\\n",
       "0                                                244             65173.13   \n",
       "1                                                235             18911.74   \n",
       "2                                                183              9749.98   \n",
       "3                                                224             11150.03   \n",
       "4                                                218             12266.83   \n",
       "\n",
       "   btc_estimated_transaction_volume  btc_estimated_transaction_volume_usd  \n",
       "0                           36500.0                                   0.0  \n",
       "1                            7413.0                                   0.0  \n",
       "2                             700.0                                   0.0  \n",
       "3                              50.0                                   0.0  \n",
       "4                            1553.0                                   0.0  \n",
       "\n",
       "[5 rows x 24 columns]"
      ]
     },
     "execution_count": 2,
     "metadata": {},
     "output_type": "execute_result"
    }
   ],
   "source": [
    "data.head()"
   ]
  },
  {
   "cell_type": "code",
   "execution_count": 3,
   "metadata": {},
   "outputs": [
    {
     "data": {
      "text/plain": [
       "(2906, 24)"
      ]
     },
     "execution_count": 3,
     "metadata": {},
     "output_type": "execute_result"
    }
   ],
   "source": [
    "data.shape"
   ]
  },
  {
   "cell_type": "code",
   "execution_count": 4,
   "metadata": {},
   "outputs": [
    {
     "data": {
      "text/plain": [
       "Index(['Date', 'btc_market_price', 'btc_total_bitcoins', 'btc_market_cap',\n",
       "       'btc_trade_volume', 'btc_blocks_size', 'btc_avg_block_size',\n",
       "       'btc_n_orphaned_blocks', 'btc_n_transactions_per_block',\n",
       "       'btc_median_confirmation_time', 'btc_hash_rate', 'btc_difficulty',\n",
       "       'btc_miners_revenue', 'btc_transaction_fees',\n",
       "       'btc_cost_per_transaction_percent', 'btc_cost_per_transaction',\n",
       "       'btc_n_unique_addresses', 'btc_n_transactions',\n",
       "       'btc_n_transactions_total', 'btc_n_transactions_excluding_popular',\n",
       "       'btc_n_transactions_excluding_chains_longer_than_100',\n",
       "       'btc_output_volume', 'btc_estimated_transaction_volume',\n",
       "       'btc_estimated_transaction_volume_usd'],\n",
       "      dtype='object')"
      ]
     },
     "execution_count": 4,
     "metadata": {},
     "output_type": "execute_result"
    }
   ],
   "source": [
    "data.columns"
   ]
  },
  {
   "cell_type": "code",
   "execution_count": 5,
   "metadata": {
    "scrolled": false
   },
   "outputs": [
    {
     "name": "stdout",
     "output_type": "stream",
     "text": [
      "<class 'pandas.core.frame.DataFrame'>\n",
      "RangeIndex: 2906 entries, 0 to 2905\n",
      "Data columns (total 24 columns):\n",
      "Date                                                   2906 non-null object\n",
      "btc_market_price                                       2906 non-null float64\n",
      "btc_total_bitcoins                                     2879 non-null float64\n",
      "btc_market_cap                                         2906 non-null float64\n",
      "btc_trade_volume                                       2885 non-null float64\n",
      "btc_blocks_size                                        2877 non-null float64\n",
      "btc_avg_block_size                                     2906 non-null float64\n",
      "btc_n_orphaned_blocks                                  2906 non-null int64\n",
      "btc_n_transactions_per_block                           2906 non-null float64\n",
      "btc_median_confirmation_time                           2894 non-null float64\n",
      "btc_hash_rate                                          2906 non-null float64\n",
      "btc_difficulty                                         2890 non-null float64\n",
      "btc_miners_revenue                                     2906 non-null float64\n",
      "btc_transaction_fees                                   2896 non-null float64\n",
      "btc_cost_per_transaction_percent                       2906 non-null float64\n",
      "btc_cost_per_transaction                               2906 non-null float64\n",
      "btc_n_unique_addresses                                 2906 non-null int64\n",
      "btc_n_transactions                                     2906 non-null int64\n",
      "btc_n_transactions_total                               2906 non-null int64\n",
      "btc_n_transactions_excluding_popular                   2906 non-null int64\n",
      "btc_n_transactions_excluding_chains_longer_than_100    2906 non-null int64\n",
      "btc_output_volume                                      2906 non-null float64\n",
      "btc_estimated_transaction_volume                       2906 non-null float64\n",
      "btc_estimated_transaction_volume_usd                   2906 non-null float64\n",
      "dtypes: float64(17), int64(6), object(1)\n",
      "memory usage: 545.0+ KB\n"
     ]
    }
   ],
   "source": [
    "data.info()"
   ]
  },
  {
   "cell_type": "code",
   "execution_count": 6,
   "metadata": {
    "scrolled": false
   },
   "outputs": [
    {
     "data": {
      "text/html": [
       "<div>\n",
       "<style scoped>\n",
       "    .dataframe tbody tr th:only-of-type {\n",
       "        vertical-align: middle;\n",
       "    }\n",
       "\n",
       "    .dataframe tbody tr th {\n",
       "        vertical-align: top;\n",
       "    }\n",
       "\n",
       "    .dataframe thead th {\n",
       "        text-align: right;\n",
       "    }\n",
       "</style>\n",
       "<table border=\"1\" class=\"dataframe\">\n",
       "  <thead>\n",
       "    <tr style=\"text-align: right;\">\n",
       "      <th></th>\n",
       "      <th>btc_market_price</th>\n",
       "      <th>btc_total_bitcoins</th>\n",
       "      <th>btc_market_cap</th>\n",
       "      <th>btc_trade_volume</th>\n",
       "      <th>btc_blocks_size</th>\n",
       "      <th>btc_avg_block_size</th>\n",
       "      <th>btc_n_orphaned_blocks</th>\n",
       "      <th>btc_n_transactions_per_block</th>\n",
       "      <th>btc_median_confirmation_time</th>\n",
       "      <th>btc_hash_rate</th>\n",
       "      <th>...</th>\n",
       "      <th>btc_cost_per_transaction_percent</th>\n",
       "      <th>btc_cost_per_transaction</th>\n",
       "      <th>btc_n_unique_addresses</th>\n",
       "      <th>btc_n_transactions</th>\n",
       "      <th>btc_n_transactions_total</th>\n",
       "      <th>btc_n_transactions_excluding_popular</th>\n",
       "      <th>btc_n_transactions_excluding_chains_longer_than_100</th>\n",
       "      <th>btc_output_volume</th>\n",
       "      <th>btc_estimated_transaction_volume</th>\n",
       "      <th>btc_estimated_transaction_volume_usd</th>\n",
       "    </tr>\n",
       "  </thead>\n",
       "  <tbody>\n",
       "    <tr>\n",
       "      <th>count</th>\n",
       "      <td>2906.000000</td>\n",
       "      <td>2.879000e+03</td>\n",
       "      <td>2.906000e+03</td>\n",
       "      <td>2.885000e+03</td>\n",
       "      <td>2877.000000</td>\n",
       "      <td>2906.000000</td>\n",
       "      <td>2906.000000</td>\n",
       "      <td>2906.000000</td>\n",
       "      <td>2894.000000</td>\n",
       "      <td>2.906000e+03</td>\n",
       "      <td>...</td>\n",
       "      <td>2906.000000</td>\n",
       "      <td>2906.000000</td>\n",
       "      <td>2.906000e+03</td>\n",
       "      <td>2906.000000</td>\n",
       "      <td>2.906000e+03</td>\n",
       "      <td>2906.000000</td>\n",
       "      <td>2906.000000</td>\n",
       "      <td>2.906000e+03</td>\n",
       "      <td>2.906000e+03</td>\n",
       "      <td>2.906000e+03</td>\n",
       "    </tr>\n",
       "    <tr>\n",
       "      <th>mean</th>\n",
       "      <td>839.104218</td>\n",
       "      <td>1.151138e+07</td>\n",
       "      <td>1.344255e+10</td>\n",
       "      <td>7.398381e+07</td>\n",
       "      <td>35505.502848</td>\n",
       "      <td>0.350366</td>\n",
       "      <td>0.364074</td>\n",
       "      <td>671.673651</td>\n",
       "      <td>7.501113</td>\n",
       "      <td>1.244070e+06</td>\n",
       "      <td>...</td>\n",
       "      <td>66.747821</td>\n",
       "      <td>14.639125</td>\n",
       "      <td>1.937861e+05</td>\n",
       "      <td>102081.138334</td>\n",
       "      <td>6.844558e+07</td>\n",
       "      <td>94348.852374</td>\n",
       "      <td>63140.320028</td>\n",
       "      <td>1.566216e+06</td>\n",
       "      <td>2.036475e+05</td>\n",
       "      <td>2.024338e+08</td>\n",
       "    </tr>\n",
       "    <tr>\n",
       "      <th>std</th>\n",
       "      <td>2304.972497</td>\n",
       "      <td>4.200024e+06</td>\n",
       "      <td>3.866150e+10</td>\n",
       "      <td>2.924228e+08</td>\n",
       "      <td>43618.633821</td>\n",
       "      <td>0.353168</td>\n",
       "      <td>0.842259</td>\n",
       "      <td>689.561322</td>\n",
       "      <td>4.974549</td>\n",
       "      <td>2.924141e+06</td>\n",
       "      <td>...</td>\n",
       "      <td>1761.894646</td>\n",
       "      <td>20.536083</td>\n",
       "      <td>2.089146e+05</td>\n",
       "      <td>103896.929350</td>\n",
       "      <td>8.285341e+07</td>\n",
       "      <td>103966.111763</td>\n",
       "      <td>69687.052174</td>\n",
       "      <td>2.278910e+06</td>\n",
       "      <td>2.682781e+05</td>\n",
       "      <td>5.800513e+08</td>\n",
       "    </tr>\n",
       "    <tr>\n",
       "      <th>min</th>\n",
       "      <td>0.000000</td>\n",
       "      <td>2.043200e+06</td>\n",
       "      <td>0.000000e+00</td>\n",
       "      <td>0.000000e+00</td>\n",
       "      <td>0.000000</td>\n",
       "      <td>0.000216</td>\n",
       "      <td>0.000000</td>\n",
       "      <td>1.000000</td>\n",
       "      <td>0.000000</td>\n",
       "      <td>2.250000e-05</td>\n",
       "      <td>...</td>\n",
       "      <td>0.136531</td>\n",
       "      <td>0.000000</td>\n",
       "      <td>1.100000e+02</td>\n",
       "      <td>118.000000</td>\n",
       "      <td>4.124000e+04</td>\n",
       "      <td>118.000000</td>\n",
       "      <td>118.000000</td>\n",
       "      <td>6.150000e+03</td>\n",
       "      <td>7.000000e+00</td>\n",
       "      <td>0.000000e+00</td>\n",
       "    </tr>\n",
       "    <tr>\n",
       "      <th>25%</th>\n",
       "      <td>6.653465</td>\n",
       "      <td>8.485300e+06</td>\n",
       "      <td>5.363081e+07</td>\n",
       "      <td>2.916456e+05</td>\n",
       "      <td>781.000000</td>\n",
       "      <td>0.024177</td>\n",
       "      <td>0.000000</td>\n",
       "      <td>54.000000</td>\n",
       "      <td>6.066667</td>\n",
       "      <td>1.160880e+01</td>\n",
       "      <td>...</td>\n",
       "      <td>1.181945</td>\n",
       "      <td>4.156470</td>\n",
       "      <td>1.675475e+04</td>\n",
       "      <td>8025.250000</td>\n",
       "      <td>2.413376e+06</td>\n",
       "      <td>6813.500000</td>\n",
       "      <td>6765.500000</td>\n",
       "      <td>4.901712e+05</td>\n",
       "      <td>9.600325e+04</td>\n",
       "      <td>9.581680e+05</td>\n",
       "    </tr>\n",
       "    <tr>\n",
       "      <th>50%</th>\n",
       "      <td>235.130000</td>\n",
       "      <td>1.243115e+07</td>\n",
       "      <td>3.346869e+09</td>\n",
       "      <td>1.001414e+07</td>\n",
       "      <td>15183.000000</td>\n",
       "      <td>0.196022</td>\n",
       "      <td>0.000000</td>\n",
       "      <td>375.000000</td>\n",
       "      <td>7.916667</td>\n",
       "      <td>2.176189e+04</td>\n",
       "      <td>...</td>\n",
       "      <td>2.493564</td>\n",
       "      <td>7.822430</td>\n",
       "      <td>1.304450e+05</td>\n",
       "      <td>62337.000000</td>\n",
       "      <td>3.255271e+07</td>\n",
       "      <td>53483.000000</td>\n",
       "      <td>35283.500000</td>\n",
       "      <td>1.105205e+06</td>\n",
       "      <td>1.784685e+05</td>\n",
       "      <td>3.742576e+07</td>\n",
       "    </tr>\n",
       "    <tr>\n",
       "      <th>75%</th>\n",
       "      <td>594.191164</td>\n",
       "      <td>1.520051e+07</td>\n",
       "      <td>8.075525e+09</td>\n",
       "      <td>2.834038e+07</td>\n",
       "      <td>58293.000000</td>\n",
       "      <td>0.676065</td>\n",
       "      <td>0.000000</td>\n",
       "      <td>1232.995223</td>\n",
       "      <td>10.208333</td>\n",
       "      <td>1.035363e+06</td>\n",
       "      <td>...</td>\n",
       "      <td>5.915591</td>\n",
       "      <td>14.800589</td>\n",
       "      <td>3.603765e+05</td>\n",
       "      <td>190471.250000</td>\n",
       "      <td>1.080663e+08</td>\n",
       "      <td>185901.750000</td>\n",
       "      <td>113793.250000</td>\n",
       "      <td>2.031654e+06</td>\n",
       "      <td>2.588046e+05</td>\n",
       "      <td>1.312499e+08</td>\n",
       "    </tr>\n",
       "    <tr>\n",
       "      <th>max</th>\n",
       "      <td>19498.683330</td>\n",
       "      <td>1.683769e+07</td>\n",
       "      <td>3.265250e+11</td>\n",
       "      <td>5.352016e+09</td>\n",
       "      <td>154444.590300</td>\n",
       "      <td>1.110327</td>\n",
       "      <td>7.000000</td>\n",
       "      <td>2722.625000</td>\n",
       "      <td>47.733333</td>\n",
       "      <td>2.160975e+07</td>\n",
       "      <td>...</td>\n",
       "      <td>88571.428570</td>\n",
       "      <td>161.686071</td>\n",
       "      <td>1.072861e+06</td>\n",
       "      <td>490644.000000</td>\n",
       "      <td>2.966888e+08</td>\n",
       "      <td>470650.000000</td>\n",
       "      <td>318896.000000</td>\n",
       "      <td>4.599222e+07</td>\n",
       "      <td>5.825066e+06</td>\n",
       "      <td>5.760245e+09</td>\n",
       "    </tr>\n",
       "  </tbody>\n",
       "</table>\n",
       "<p>8 rows × 23 columns</p>\n",
       "</div>"
      ],
      "text/plain": [
       "       btc_market_price  btc_total_bitcoins  btc_market_cap  btc_trade_volume  \\\n",
       "count       2906.000000        2.879000e+03    2.906000e+03      2.885000e+03   \n",
       "mean         839.104218        1.151138e+07    1.344255e+10      7.398381e+07   \n",
       "std         2304.972497        4.200024e+06    3.866150e+10      2.924228e+08   \n",
       "min            0.000000        2.043200e+06    0.000000e+00      0.000000e+00   \n",
       "25%            6.653465        8.485300e+06    5.363081e+07      2.916456e+05   \n",
       "50%          235.130000        1.243115e+07    3.346869e+09      1.001414e+07   \n",
       "75%          594.191164        1.520051e+07    8.075525e+09      2.834038e+07   \n",
       "max        19498.683330        1.683769e+07    3.265250e+11      5.352016e+09   \n",
       "\n",
       "       btc_blocks_size  btc_avg_block_size  btc_n_orphaned_blocks  \\\n",
       "count      2877.000000         2906.000000            2906.000000   \n",
       "mean      35505.502848            0.350366               0.364074   \n",
       "std       43618.633821            0.353168               0.842259   \n",
       "min           0.000000            0.000216               0.000000   \n",
       "25%         781.000000            0.024177               0.000000   \n",
       "50%       15183.000000            0.196022               0.000000   \n",
       "75%       58293.000000            0.676065               0.000000   \n",
       "max      154444.590300            1.110327               7.000000   \n",
       "\n",
       "       btc_n_transactions_per_block  btc_median_confirmation_time  \\\n",
       "count                   2906.000000                   2894.000000   \n",
       "mean                     671.673651                      7.501113   \n",
       "std                      689.561322                      4.974549   \n",
       "min                        1.000000                      0.000000   \n",
       "25%                       54.000000                      6.066667   \n",
       "50%                      375.000000                      7.916667   \n",
       "75%                     1232.995223                     10.208333   \n",
       "max                     2722.625000                     47.733333   \n",
       "\n",
       "       btc_hash_rate                  ...                   \\\n",
       "count   2.906000e+03                  ...                    \n",
       "mean    1.244070e+06                  ...                    \n",
       "std     2.924141e+06                  ...                    \n",
       "min     2.250000e-05                  ...                    \n",
       "25%     1.160880e+01                  ...                    \n",
       "50%     2.176189e+04                  ...                    \n",
       "75%     1.035363e+06                  ...                    \n",
       "max     2.160975e+07                  ...                    \n",
       "\n",
       "       btc_cost_per_transaction_percent  btc_cost_per_transaction  \\\n",
       "count                       2906.000000               2906.000000   \n",
       "mean                          66.747821                 14.639125   \n",
       "std                         1761.894646                 20.536083   \n",
       "min                            0.136531                  0.000000   \n",
       "25%                            1.181945                  4.156470   \n",
       "50%                            2.493564                  7.822430   \n",
       "75%                            5.915591                 14.800589   \n",
       "max                        88571.428570                161.686071   \n",
       "\n",
       "       btc_n_unique_addresses  btc_n_transactions  btc_n_transactions_total  \\\n",
       "count            2.906000e+03         2906.000000              2.906000e+03   \n",
       "mean             1.937861e+05       102081.138334              6.844558e+07   \n",
       "std              2.089146e+05       103896.929350              8.285341e+07   \n",
       "min              1.100000e+02          118.000000              4.124000e+04   \n",
       "25%              1.675475e+04         8025.250000              2.413376e+06   \n",
       "50%              1.304450e+05        62337.000000              3.255271e+07   \n",
       "75%              3.603765e+05       190471.250000              1.080663e+08   \n",
       "max              1.072861e+06       490644.000000              2.966888e+08   \n",
       "\n",
       "       btc_n_transactions_excluding_popular  \\\n",
       "count                           2906.000000   \n",
       "mean                           94348.852374   \n",
       "std                           103966.111763   \n",
       "min                              118.000000   \n",
       "25%                             6813.500000   \n",
       "50%                            53483.000000   \n",
       "75%                           185901.750000   \n",
       "max                           470650.000000   \n",
       "\n",
       "       btc_n_transactions_excluding_chains_longer_than_100  btc_output_volume  \\\n",
       "count                                        2906.000000         2.906000e+03   \n",
       "mean                                        63140.320028         1.566216e+06   \n",
       "std                                         69687.052174         2.278910e+06   \n",
       "min                                           118.000000         6.150000e+03   \n",
       "25%                                          6765.500000         4.901712e+05   \n",
       "50%                                         35283.500000         1.105205e+06   \n",
       "75%                                        113793.250000         2.031654e+06   \n",
       "max                                        318896.000000         4.599222e+07   \n",
       "\n",
       "       btc_estimated_transaction_volume  btc_estimated_transaction_volume_usd  \n",
       "count                      2.906000e+03                          2.906000e+03  \n",
       "mean                       2.036475e+05                          2.024338e+08  \n",
       "std                        2.682781e+05                          5.800513e+08  \n",
       "min                        7.000000e+00                          0.000000e+00  \n",
       "25%                        9.600325e+04                          9.581680e+05  \n",
       "50%                        1.784685e+05                          3.742576e+07  \n",
       "75%                        2.588046e+05                          1.312499e+08  \n",
       "max                        5.825066e+06                          5.760245e+09  \n",
       "\n",
       "[8 rows x 23 columns]"
      ]
     },
     "execution_count": 6,
     "metadata": {},
     "output_type": "execute_result"
    }
   ],
   "source": [
    "data.describe()"
   ]
  },
  {
   "cell_type": "markdown",
   "metadata": {},
   "source": [
    "#### address missing data"
   ]
  },
  {
   "cell_type": "code",
   "execution_count": 7,
   "metadata": {},
   "outputs": [
    {
     "data": {
      "text/plain": [
       "btc_total_bitcoins              27\n",
       "btc_trade_volume                21\n",
       "btc_blocks_size                 29\n",
       "btc_median_confirmation_time    12\n",
       "btc_difficulty                  16\n",
       "btc_transaction_fees            10\n",
       "dtype: int64"
      ]
     },
     "execution_count": 7,
     "metadata": {},
     "output_type": "execute_result"
    }
   ],
   "source": [
    "num_missing = data.isnull().sum()\n",
    "num_missing[num_missing >0]"
   ]
  },
  {
   "cell_type": "code",
   "execution_count": 8,
   "metadata": {},
   "outputs": [
    {
     "data": {
      "text/plain": [
       "<matplotlib.axes._subplots.AxesSubplot at 0x156144c6ef0>"
      ]
     },
     "execution_count": 8,
     "metadata": {},
     "output_type": "execute_result"
    },
    {
     "data": {
      "image/png": "[encoded data removed]",
      "text/plain": [
       "<matplotlib.figure.Figure at 0x15612a0ec18>"
      ]
     },
     "metadata": {},
     "output_type": "display_data"
    }
   ],
   "source": [
    "# Find out where the missing data is.\n",
    "import seaborn as sns\n",
    "import matplotlib.pyplot as plt\n",
    "fig, ax = plt.subplots(figsize=(12,4))\n",
    "sns.heatmap(data.isnull(),yticklabels=False,cbar=False,cmap='viridis')"
   ]
  },
  {
   "cell_type": "code",
   "execution_count": 9,
   "metadata": {},
   "outputs": [
    {
     "data": {
      "text/plain": [
       "Text(0.5,1,'btc_blocks_size')"
      ]
     },
     "execution_count": 9,
     "metadata": {},
     "output_type": "execute_result"
    },
    {
     "data": {
      "image/png": "[encoded data removed]",
      "text/plain": [
       "<matplotlib.figure.Figure at 0x156166dd4a8>"
      ]
     },
     "metadata": {},
     "output_type": "display_data"
    }
   ],
   "source": [
    "# Go through those columns with missing data\n",
    "fig, axes = plt.subplots(1, 3, figsize=(12, 4))\n",
    "\n",
    "axes[0].plot(data['btc_total_bitcoins'])\n",
    "axes[0].set_title(\"btc_total_bitcoins\")\n",
    "\n",
    "axes[1].plot(data['btc_trade_volume'])\n",
    "axes[1].set_title(\"btc_trade_volume\")\n",
    "\n",
    "axes[2].plot(data['btc_blocks_size'])\n",
    "axes[2].set_title(\"btc_blocks_size\")"
   ]
  },
  {
   "cell_type": "code",
   "execution_count": 10,
   "metadata": {},
   "outputs": [
    {
     "data": {
      "text/plain": [
       "Text(0.5,1,'btc_transaction_fees')"
      ]
     },
     "execution_count": 10,
     "metadata": {},
     "output_type": "execute_result"
    },
    {
     "data": {
      "image/png": "[encoded data removed]",
      "text/plain": [
       "<matplotlib.figure.Figure at 0x15616bbe278>"
      ]
     },
     "metadata": {},
     "output_type": "display_data"
    }
   ],
   "source": [
    "fig, axes = plt.subplots(1, 3, figsize=(12, 4))\n",
    "\n",
    "axes[0].plot(data['btc_median_confirmation_time'])\n",
    "axes[0].set_title(\"btc_median_confirmation_time\")\n",
    "\n",
    "axes[1].plot(data['btc_difficulty'])\n",
    "axes[1].set_title(\"btc_difficulty\")\n",
    "\n",
    "axes[2].plot(data['btc_transaction_fees'])\n",
    "axes[2].set_title(\"btc_transaction_fees\")"
   ]
  },
  {
   "cell_type": "code",
   "execution_count": 11,
   "metadata": {},
   "outputs": [],
   "source": [
    "# According to the figures above, it seems that us the function 'fillna' with the method of 'ffill' would be fine.\n",
    "data_new = data.fillna(method='ffill')"
   ]
  },
  {
   "cell_type": "markdown",
   "metadata": {},
   "source": [
    "#### categorical data"
   ]
  },
  {
   "cell_type": "code",
   "execution_count": 12,
   "metadata": {},
   "outputs": [],
   "source": [
    "pass"
   ]
  },
  {
   "cell_type": "markdown",
   "metadata": {},
   "source": [
    "#### data scaling"
   ]
  },
  {
   "cell_type": "code",
   "execution_count": 13,
   "metadata": {},
   "outputs": [],
   "source": [
    "# use MinMaxScaler to scale data\n",
    "from sklearn.preprocessing import MinMaxScaler\n",
    "scaler = MinMaxScaler()\n",
    "\n",
    "X = data_new.drop(['Date','btc_market_price'], axis =1)\n",
    "y = data_new['btc_market_price']\n",
    "\n",
    "#split data\n",
    "from sklearn.model_selection import train_test_split\n",
    "X_train_org, X_test_org, y_train, y_test = train_test_split(X,y, test_size = 0.2,random_state = 20)\n",
    "\n",
    "X_train = scaler.fit_transform(X_train_org)\n",
    "X_test = scaler.transform(X_test_org)"
   ]
  },
  {
   "cell_type": "markdown",
   "metadata": {},
   "source": [
    "### Train data with cross validation"
   ]
  },
  {
   "cell_type": "code",
   "execution_count": 14,
   "metadata": {},
   "outputs": [],
   "source": [
    "from sklearn.model_selection import cross_val_score\n",
    "scores = {}\n",
    "cv_s= {}"
   ]
  },
  {
   "cell_type": "markdown",
   "metadata": {},
   "source": [
    "#### K-neighbors regression"
   ]
  },
  {
   "cell_type": "code",
   "execution_count": 15,
   "metadata": {},
   "outputs": [
    {
     "data": {
      "text/plain": [
       "<matplotlib.legend.Legend at 0x15616faad30>"
      ]
     },
     "execution_count": 15,
     "metadata": {},
     "output_type": "execute_result"
    },
    {
     "data": {
      "image/png": "[encoded data removed]",
      "text/plain": [
       "<matplotlib.figure.Figure at 0x15616f61f60>"
      ]
     },
     "metadata": {},
     "output_type": "display_data"
    }
   ],
   "source": [
    "from sklearn.neighbors import KNeighborsRegressor\n",
    "training_accuracy = []\n",
    "test_accuracy = []\n",
    "neighbor_seetings = range(1,7)\n",
    "\n",
    "for x in neighbor_seetings:\n",
    "    knr = KNeighborsRegressor(n_neighbors = x)\n",
    "    knr.fit(X_train, y_train)\n",
    "    training_accuracy.append(knr.score(X_train, y_train))\n",
    "    test_accuracy.append(knr.score(X_test,y_test))\n",
    "\n",
    "# Show the relationship of accuarcy and n_neighbors\n",
    "plt.plot(neighbor_seetings, training_accuracy, label = 'training accuracy')\n",
    "plt.plot(neighbor_seetings, test_accuracy, label = 'test accuracy')\n",
    "plt.ylabel(\"Accuracy\")\n",
    "plt.xlabel('n_neighbors')\n",
    "plt.legend()"
   ]
  },
  {
   "cell_type": "code",
   "execution_count": 16,
   "metadata": {},
   "outputs": [],
   "source": [
    "# The best n_neighbors is 3\n",
    "scores['K-neighbors regression'] = [training_accuracy[2],test_accuracy[2]]"
   ]
  },
  {
   "cell_type": "code",
   "execution_count": 17,
   "metadata": {},
   "outputs": [
    {
     "name": "stdout",
     "output_type": "stream",
     "text": [
      "Cross-validation training scores (5-fold): [0.98687909 0.98628578 0.99364222 0.99533167 0.99451667]\n",
      "Mean cross-validation training score (5-fold): 0.991\n"
     ]
    }
   ],
   "source": [
    "# Cross Validation\n",
    "knr = KNeighborsRegressor(n_neighbors = 3)\n",
    "cv_scores = cross_val_score(knr, X_train, y_train,cv = 5)\n",
    "print('Cross-validation training scores (5-fold):', cv_scores)\n",
    "print('Mean cross-validation training score (5-fold): {:.3f}'.format(np.mean(cv_scores)))\n",
    "cv_test_scores = cross_val_score(knr, X_test, y_test,cv = 5)\n",
    "cv_s['K-neighbors regression']=[np.mean(cv_scores),np.mean(cv_test_scores)]"
   ]
  },
  {
   "cell_type": "markdown",
   "metadata": {},
   "source": [
    "#### Linear Regression"
   ]
  },
  {
   "cell_type": "code",
   "execution_count": 18,
   "metadata": {},
   "outputs": [
    {
     "name": "stdout",
     "output_type": "stream",
     "text": [
      "Train score: 0.9999556586937504\n",
      "Test score: 0.9999648991545591\n"
     ]
    }
   ],
   "source": [
    "from sklearn.linear_model import LinearRegression\n",
    "lr = LinearRegression()\n",
    "\n",
    "lr.fit(X_train, y_train)\n",
    "print('Train score: {}'.format(lr.score(X_train, y_train)))\n",
    "print('Test score: {}'.format(lr.score(X_test,y_test)))\n",
    "scores['LinearRegression']=[lr.score(X_train, y_train),lr.score(X_test,y_test)]"
   ]
  },
  {
   "cell_type": "code",
   "execution_count": 19,
   "metadata": {},
   "outputs": [
    {
     "name": "stdout",
     "output_type": "stream",
     "text": [
      "Cross-validation training scores (5-fold): [0.99994144 0.99995913 0.99995868 0.99994664 0.99995757]\n",
      "Mean cross-validation training score (5-fold): 1.000\n"
     ]
    }
   ],
   "source": [
    "# Cross Validation\n",
    "cv_scores = cross_val_score(lr, X_train, y_train,cv = 5)\n",
    "print('Cross-validation training scores (5-fold):', cv_scores)\n",
    "print('Mean cross-validation training score (5-fold): {:.3f}'.format(np.mean(cv_scores)))\n",
    "cv_test_scores = cross_val_score(lr, X_test, y_test,cv = 5)\n",
    "cv_s['LinearRegression']=[np.mean(cv_scores),np.mean(cv_test_scores)]"
   ]
  },
  {
   "cell_type": "markdown",
   "metadata": {},
   "source": [
    "#### Ridge"
   ]
  },
  {
   "cell_type": "code",
   "execution_count": 20,
   "metadata": {},
   "outputs": [
    {
     "name": "stdout",
     "output_type": "stream",
     "text": [
      "Train score: 0.9965559318373163\n",
      "Test score: 0.994364287590398\n"
     ]
    }
   ],
   "source": [
    "# Alpha by default is 1.0\n",
    "from sklearn.linear_model import Ridge\n",
    "ridge = Ridge()\n",
    "ridge.fit(X_train, y_train)\n",
    "print('Train score: {}'.format(ridge.score(X_train, y_train)))\n",
    "print('Test score: {}'.format(ridge.score(X_test,y_test)))"
   ]
  },
  {
   "cell_type": "code",
   "execution_count": 21,
   "metadata": {},
   "outputs": [
    {
     "data": {
      "text/plain": [
       "<matplotlib.legend.Legend at 0x15617190a90>"
      ]
     },
     "execution_count": 21,
     "metadata": {},
     "output_type": "execute_result"
    },
    {
     "data": {
      "image/png": "[encoded data removed]",
      "text/plain": [
       "<matplotlib.figure.Figure at 0x15616fb5fd0>"
      ]
     },
     "metadata": {},
     "output_type": "display_data"
    }
   ],
   "source": [
    "a =np.linspace(0.001,25,1000)\n",
    "training_accuracy = []\n",
    "test_accuracy = []\n",
    "for x in a:\n",
    "    ridge = Ridge(alpha = x)\n",
    "    ridge.fit(X_train, y_train)\n",
    "    training_accuracy.append(ridge.score(X_train, y_train))\n",
    "    test_accuracy.append(ridge.score(X_test,y_test))\n",
    "    \n",
    "plt.plot(a, training_accuracy, label = 'training accuracy')\n",
    "plt.plot(a, test_accuracy, label = 'test accuracy')\n",
    "plt.ylabel(\"Scores\")\n",
    "plt.xlabel('alpha')\n",
    "plt.legend()"
   ]
  },
  {
   "cell_type": "code",
   "execution_count": 22,
   "metadata": {},
   "outputs": [
    {
     "name": "stdout",
     "output_type": "stream",
     "text": [
      "Best parameters{'alpha': 0.001}\n",
      "Best score 1.00\n"
     ]
    }
   ],
   "source": [
    "# Use GridSearchCV to find the best alpha\n",
    "from sklearn.model_selection import GridSearchCV\n",
    "\n",
    "ridge = Ridge()\n",
    "param_grid = {'alpha':[0.001,0.01, 0.1,1]}\n",
    "\n",
    "grid_search = GridSearchCV(ridge, param_grid, cv = 5)\n",
    "grid_search.fit(X_train, y_train)\n",
    "\n",
    "#use gridsearch to get the best parameters, alpha=0.001\n",
    "print('Best parameters{}'.format(grid_search.best_params_))\n",
    "print('Best score {:.2f}'.format(grid_search.best_score_))"
   ]
  },
  {
   "cell_type": "markdown",
   "metadata": {},
   "source": [
    "Best alpha is 0.001"
   ]
  },
  {
   "cell_type": "code",
   "execution_count": 23,
   "metadata": {},
   "outputs": [],
   "source": [
    "ridge = Ridge(alpha = 0.001)\n",
    "ridge.fit(X_train, y_train)\n",
    "scores['Ridge']=[ridge.score(X_train, y_train),ridge.score(X_test,y_test)]"
   ]
  },
  {
   "cell_type": "code",
   "execution_count": 24,
   "metadata": {},
   "outputs": [
    {
     "name": "stdout",
     "output_type": "stream",
     "text": [
      "Cross-validation training scores (5-fold): [0.99994032 0.99995757 0.99995691 0.99994587 0.99995854]\n",
      "Mean cross-validation training score (5-fold): 1.000\n"
     ]
    }
   ],
   "source": [
    "# Cross Validation\n",
    "cv_scores = cross_val_score(ridge, X_train, y_train,cv = 5)\n",
    "print('Cross-validation training scores (5-fold):', cv_scores)\n",
    "print('Mean cross-validation training score (5-fold): {:.3f}'.format(np.mean(cv_scores)))\n",
    "cv_test_scores = cross_val_score(ridge, X_test, y_test,cv = 5)\n",
    "cv_s['Ridge']=[np.mean(cv_scores),np.mean(cv_test_scores)]"
   ]
  },
  {
   "cell_type": "markdown",
   "metadata": {},
   "source": [
    "#### Lasso"
   ]
  },
  {
   "cell_type": "code",
   "execution_count": 25,
   "metadata": {},
   "outputs": [
    {
     "name": "stdout",
     "output_type": "stream",
     "text": [
      "Train score: 0.9998857497412653\n",
      "Test score: 0.999891461357756\n",
      "Number of features used: 7\n"
     ]
    }
   ],
   "source": [
    "from sklearn.linear_model import Lasso\n",
    "\n",
    "lasso = Lasso(max_iter = 100000)\n",
    "lasso.fit(X_train, y_train)\n",
    "print('Train score: {}'.format(lasso.score(X_train, y_train)))\n",
    "print('Test score: {}'.format(lasso.score(X_test,y_test)))\n",
    "print('Number of features used: {}'.format(np.sum(lasso.coef_ != 0)))"
   ]
  },
  {
   "cell_type": "code",
   "execution_count": 26,
   "metadata": {},
   "outputs": [
    {
     "data": {
      "text/plain": [
       "<matplotlib.legend.Legend at 0x15617203cc0>"
      ]
     },
     "execution_count": 26,
     "metadata": {},
     "output_type": "execute_result"
    },
    {
     "data": {
      "image/png": "[encoded data removed]",
      "text/plain": [
       "<matplotlib.figure.Figure at 0x156171ce160>"
      ]
     },
     "metadata": {},
     "output_type": "display_data"
    }
   ],
   "source": [
    "a =np.linspace(0.001,0.5,100)\n",
    "training_accuracy = []\n",
    "test_accuracy = []\n",
    "f = []\n",
    "for x in a:\n",
    "    lasso = Lasso(alpha = x, max_iter = 100000)\n",
    "    lasso.fit(X_train, y_train)\n",
    "    training_accuracy.append(lasso.score(X_train, y_train))\n",
    "    test_accuracy.append(lasso.score(X_test,y_test))\n",
    "    f.append(np.sum(lasso.coef_!=0))\n",
    "plt.plot(a, training_accuracy, label = 'training accuracy')\n",
    "plt.plot(a, test_accuracy, label = 'test accuracy')\n",
    "plt.ylabel(\"Scores\")\n",
    "plt.xlabel('alpha')\n",
    "plt.legend()"
   ]
  },
  {
   "cell_type": "code",
   "execution_count": 27,
   "metadata": {},
   "outputs": [
    {
     "name": "stdout",
     "output_type": "stream",
     "text": [
      "Best parameters{'alpha': 0.023}\n",
      "Best score 0.99992955142125\n"
     ]
    }
   ],
   "source": [
    "lasso = Lasso(max_iter = 100000)\n",
    "param_grid = {'alpha':[0.017, 0.02, 0.023, 0.026]}\n",
    "\n",
    "grid_search = GridSearchCV(lasso, param_grid, cv = 5)\n",
    "grid_search.fit(X_train, y_train)\n",
    "\n",
    "print('Best parameters{}'.format(grid_search.best_params_))\n",
    "print('Best score {}'.format(grid_search.best_score_))"
   ]
  },
  {
   "cell_type": "code",
   "execution_count": 28,
   "metadata": {},
   "outputs": [],
   "source": [
    "lasso = Lasso(alpha = 0.023,max_iter = 100000)\n",
    "lasso.fit(X_train, y_train)\n",
    "scores['Lasso']=[lasso.score(X_train, y_train),lasso.score(X_test,y_test)]"
   ]
  },
  {
   "cell_type": "code",
   "execution_count": 29,
   "metadata": {},
   "outputs": [
    {
     "name": "stdout",
     "output_type": "stream",
     "text": [
      "Cross-validation training scores (5-fold): [0.9999232  0.99992983 0.99993671 0.99991814 0.9999399 ]\n",
      "Mean cross-validation training score (5-fold): 1.000\n"
     ]
    }
   ],
   "source": [
    "# Cross Validation\n",
    "cv_scores = cross_val_score(lasso, X_train, y_train,cv = 5)\n",
    "print('Cross-validation training scores (5-fold):', cv_scores)\n",
    "print('Mean cross-validation training score (5-fold): {:.3f}'.format(np.mean(cv_scores)))\n",
    "cv_test_scores = cross_val_score(lasso, X_test, y_test,cv = 5)\n",
    "cv_s['Lasso']=[np.mean(cv_scores),np.mean(cv_test_scores)]"
   ]
  },
  {
   "cell_type": "markdown",
   "metadata": {},
   "source": [
    "#### Polynomial Regression"
   ]
  },
  {
   "cell_type": "code",
   "execution_count": 30,
   "metadata": {},
   "outputs": [],
   "source": [
    "from sklearn.preprocessing import PolynomialFeatures"
   ]
  },
  {
   "cell_type": "code",
   "execution_count": 31,
   "metadata": {},
   "outputs": [
    {
     "name": "stdout",
     "output_type": "stream",
     "text": [
      "Polynomial LinearRegression\n",
      "Train score: 0.9999911816944306\n",
      "Test score: 0.9999511258717362\n",
      "\n",
      "Polynomial Ridge Regression\n",
      "Train score: 0.9999559686982776\n",
      "Test score: 0.9998815979679958\n",
      "\n",
      "Polynomial Lasso Regression\n",
      "Train score: 0.9999867023539635\n",
      "Test score: 0.999974112132333\n"
     ]
    }
   ],
   "source": [
    "poly = PolynomialFeatures(degree=2)\n",
    "X_poly = poly.fit_transform(X)\n",
    "X_train_py, X_test_py, y_train, y_test = train_test_split(X_poly, y, test_size = 0.2, random_state = 20)\n",
    "\n",
    "linreg = LinearRegression()\n",
    "linreg.fit(X_train_py, y_train)\n",
    "print('Polynomial LinearRegression')\n",
    "print('Train score: {}'.format(linreg.score(X_train_py, y_train)))\n",
    "print('Test score: {}\\n'.format(linreg.score(X_test_py,y_test)))\n",
    "scores['Polynomial deg 2 LinearRegression']=[linreg.score(X_train_py, y_train),linreg.score(X_test_py,y_test)]\n",
    "\n",
    "linridge = Ridge()\n",
    "linridge.fit(X_train_py, y_train)\n",
    "print('Polynomial Ridge Regression')\n",
    "print('Train score: {}'.format(linridge.score(X_train_py, y_train)))\n",
    "print('Test score: {}\\n'.format(linridge.score(X_test_py,y_test)))\n",
    "scores['Polynomial deg 2 Ridge Regression']=[linridge.score(X_train_py, y_train),linridge.score(X_test_py,y_test)]\n",
    "\n",
    "linlasso = Lasso()\n",
    "linlasso.fit(X_train_py, y_train)\n",
    "print('Polynomial Lasso Regression')\n",
    "print('Train score: {}'.format(linlasso.score(X_train_py, y_train)))\n",
    "print('Test score: {}'.format(linlasso.score(X_test_py,y_test)))\n",
    "scores['Polynomial deg 2 Lasso Regression']=[linlasso.score(X_train_py, y_train),linlasso.score(X_test_py,y_test)]"
   ]
  },
  {
   "cell_type": "code",
   "execution_count": 32,
   "metadata": {},
   "outputs": [
    {
     "name": "stdout",
     "output_type": "stream",
     "text": [
      "Cross-validation training scores (5-fold): [0.9999751  0.99997264 0.99996714 0.99993249 0.99995379]\n",
      "Mean cross-validation training score (5-fold): 1.000\n"
     ]
    },
    {
     "name": "stderr",
     "output_type": "stream",
     "text": [
      "d:\\program files (x86)\\python36\\lib\\site-packages\\scipy\\linalg\\basic.py:40: RuntimeWarning: scipy.linalg.solve\n",
      "Ill-conditioned matrix detected. Result is not guaranteed to be accurate.\n",
      "Reciprocal condition number/precision: 1.188550010167904e-51 / 1.1102230246251565e-16\n",
      "  RuntimeWarning)\n",
      "d:\\program files (x86)\\python36\\lib\\site-packages\\scipy\\linalg\\basic.py:40: RuntimeWarning: scipy.linalg.solve\n",
      "Ill-conditioned matrix detected. Result is not guaranteed to be accurate.\n",
      "Reciprocal condition number/precision: 1.2262859483156771e-51 / 1.1102230246251565e-16\n",
      "  RuntimeWarning)\n",
      "d:\\program files (x86)\\python36\\lib\\site-packages\\scipy\\linalg\\basic.py:40: RuntimeWarning: scipy.linalg.solve\n",
      "Ill-conditioned matrix detected. Result is not guaranteed to be accurate.\n",
      "Reciprocal condition number/precision: 4.223801351952673e-51 / 1.1102230246251565e-16\n",
      "  RuntimeWarning)\n"
     ]
    },
    {
     "name": "stdout",
     "output_type": "stream",
     "text": [
      "Cross-validation training scores (5-fold): [0.99998532 0.99995173 0.99999111 0.99992769 0.99998371]\n",
      "Mean cross-validation training score (5-fold): 1.000\n"
     ]
    },
    {
     "name": "stderr",
     "output_type": "stream",
     "text": [
      "d:\\program files (x86)\\python36\\lib\\site-packages\\scipy\\linalg\\basic.py:40: RuntimeWarning: scipy.linalg.solve\n",
      "Ill-conditioned matrix detected. Result is not guaranteed to be accurate.\n",
      "Reciprocal condition number/precision: 3.474963843088564e-51 / 1.1102230246251565e-16\n",
      "  RuntimeWarning)\n",
      "d:\\program files (x86)\\python36\\lib\\site-packages\\scipy\\linalg\\basic.py:40: RuntimeWarning: scipy.linalg.solve\n",
      "Ill-conditioned matrix detected. Result is not guaranteed to be accurate.\n",
      "Reciprocal condition number/precision: 4.2268230808716654e-51 / 1.1102230246251565e-16\n",
      "  RuntimeWarning)\n"
     ]
    },
    {
     "name": "stdout",
     "output_type": "stream",
     "text": [
      "Cross-validation training scores (5-fold): [0.99997679 0.99998595 0.99998173 0.99791375 0.99998317]\n",
      "Mean cross-validation training score (5-fold): 1.000\n"
     ]
    }
   ],
   "source": [
    "# Cross Validation\n",
    "cv_scores = cross_val_score(linreg, X_train_py, y_train,cv = 5)\n",
    "print('Cross-validation training scores (5-fold):', cv_scores)\n",
    "print('Mean cross-validation training score (5-fold): {:.3f}'.format(np.mean(cv_scores)))\n",
    "cv_test_scores = cross_val_score(linreg, X_test_py, y_test,cv = 5)\n",
    "cv_s['Polynomial deg 2 LinearRegression']=[np.mean(cv_scores),np.mean(cv_test_scores)]\n",
    "\n",
    "cv_scores = cross_val_score(linridge, X_train_py, y_train,cv = 5)\n",
    "print('Cross-validation training scores (5-fold):', cv_scores)\n",
    "print('Mean cross-validation training score (5-fold): {:.3f}'.format(np.mean(cv_scores)))\n",
    "cv_test_scores = cross_val_score(linridge, X_test_py, y_test,cv = 5)\n",
    "cv_s['Polynomial deg 2 Ridge Regression']=[np.mean(cv_scores),np.mean(cv_test_scores)]\n",
    "\n",
    "cv_scores = cross_val_score(linlasso, X_train_py, y_train,cv = 5)\n",
    "print('Cross-validation training scores (5-fold):', cv_scores)\n",
    "print('Mean cross-validation training score (5-fold): {:.3f}'.format(np.mean(cv_scores)))\n",
    "cv_test_scores = cross_val_score(linlasso, X_test_py, y_test,cv = 5)\n",
    "cv_s['Polynomial deg 2 Lasso Regression']=[np.mean(cv_scores),np.mean(cv_test_scores)]"
   ]
  },
  {
   "cell_type": "markdown",
   "metadata": {},
   "source": [
    "#### SVM"
   ]
  },
  {
   "cell_type": "code",
   "execution_count": 33,
   "metadata": {},
   "outputs": [
    {
     "name": "stdout",
     "output_type": "stream",
     "text": [
      "Train score: 0.1366138285955656\n",
      "Test score: 0.13142701474512852\n",
      "\n"
     ]
    }
   ],
   "source": [
    "from sklearn.svm import SVR\n",
    "# SVM, with kernel: (linear)\n",
    "svr = SVR(kernel = 'linear')\n",
    "svr.fit(X_train, y_train)\n",
    "print('Train score: {}'.format(svr.score(X_train, y_train)))\n",
    "print('Test score: {}\\n'.format(svr.score(X_test,y_test)))\n",
    "scores['SVM']=[svr.score(X_train, y_train),svr.score(X_test,y_test)]"
   ]
  },
  {
   "cell_type": "code",
   "execution_count": 34,
   "metadata": {},
   "outputs": [
    {
     "name": "stdout",
     "output_type": "stream",
     "text": [
      "Cross-validation training scores (5-fold): [0.12816375 0.11722022 0.121453   0.13193386 0.10290764]\n",
      "Mean cross-validation training score (5-fold): 0.120\n"
     ]
    }
   ],
   "source": [
    "cv_scores = cross_val_score(svr, X_train, y_train,cv = 5)\n",
    "print('Cross-validation training scores (5-fold):', cv_scores)\n",
    "print('Mean cross-validation training score (5-fold): {:.3f}'.format(np.mean(cv_scores)))\n",
    "cv_test_scores = cross_val_score(svr, X_test, y_test,cv = 5)\n",
    "cv_s['SVM']=[np.mean(cv_scores),np.mean(cv_test_scores)]"
   ]
  },
  {
   "cell_type": "code",
   "execution_count": 35,
   "metadata": {},
   "outputs": [
    {
     "name": "stdout",
     "output_type": "stream",
     "text": [
      "Train score: 0.13662074235417165\n",
      "Test score: 0.13143892391145917\n",
      "\n"
     ]
    }
   ],
   "source": [
    "# SVR without kernel\n",
    "from sklearn.svm import LinearSVR\n",
    "lsvr = LinearSVR()\n",
    "lsvr.fit(X_train, y_train)\n",
    "print('Train score: {}'.format(lsvr.score(X_train, y_train)))\n",
    "print('Test score: {}\\n'.format(lsvr.score(X_test,y_test)))\n",
    "scores['SVM without kernel']=[lsvr.score(X_train, y_train),lsvr.score(X_test,y_test)]"
   ]
  },
  {
   "cell_type": "code",
   "execution_count": 36,
   "metadata": {},
   "outputs": [
    {
     "name": "stdout",
     "output_type": "stream",
     "text": [
      "Cross-validation training scores (5-fold): [0.12841355 0.11706243 0.12177145 0.13199334 0.10273333]\n",
      "Mean cross-validation training score (5-fold): 0.120\n"
     ]
    }
   ],
   "source": [
    "# Cross Validation\n",
    "cv_scores = cross_val_score(lsvr, X_train, y_train,cv = 5)\n",
    "print('Cross-validation training scores (5-fold):', cv_scores)\n",
    "print('Mean cross-validation training score (5-fold): {:.3f}'.format(np.mean(cv_scores)))\n",
    "cv_test_scores = cross_val_score(lsvr, X_test, y_test,cv = 5)\n",
    "cv_s['SVM without kernel']=[np.mean(cv_scores),np.mean(cv_test_scores)]"
   ]
  },
  {
   "cell_type": "markdown",
   "metadata": {},
   "source": [
    "#### Evaluation"
   ]
  },
  {
   "cell_type": "code",
   "execution_count": 37,
   "metadata": {
    "scrolled": true
   },
   "outputs": [
    {
     "data": {
      "text/html": [
       "<div>\n",
       "<style scoped>\n",
       "    .dataframe tbody tr th:only-of-type {\n",
       "        vertical-align: middle;\n",
       "    }\n",
       "\n",
       "    .dataframe tbody tr th {\n",
       "        vertical-align: top;\n",
       "    }\n",
       "\n",
       "    .dataframe thead th {\n",
       "        text-align: right;\n",
       "    }\n",
       "</style>\n",
       "<table border=\"1\" class=\"dataframe\">\n",
       "  <thead>\n",
       "    <tr style=\"text-align: right;\">\n",
       "      <th></th>\n",
       "      <th>Train Score</th>\n",
       "      <th>Test Score</th>\n",
       "      <th>(Cross_Validation_Train_Score,)</th>\n",
       "      <th>(Cross_Validation_Test_Score,)</th>\n",
       "    </tr>\n",
       "  </thead>\n",
       "  <tbody>\n",
       "    <tr>\n",
       "      <th>K-neighbors regression</th>\n",
       "      <td>0.996492</td>\n",
       "      <td>0.996019</td>\n",
       "      <td>0.991331</td>\n",
       "      <td>0.978376</td>\n",
       "    </tr>\n",
       "    <tr>\n",
       "      <th>Lasso</th>\n",
       "      <td>0.999933</td>\n",
       "      <td>0.999940</td>\n",
       "      <td>0.999930</td>\n",
       "      <td>0.999923</td>\n",
       "    </tr>\n",
       "    <tr>\n",
       "      <th>LinearRegression</th>\n",
       "      <td>0.999956</td>\n",
       "      <td>0.999965</td>\n",
       "      <td>0.999953</td>\n",
       "      <td>0.999957</td>\n",
       "    </tr>\n",
       "    <tr>\n",
       "      <th>Polynomial deg 2 Lasso Regression</th>\n",
       "      <td>0.999987</td>\n",
       "      <td>0.999974</td>\n",
       "      <td>0.999568</td>\n",
       "      <td>0.999909</td>\n",
       "    </tr>\n",
       "    <tr>\n",
       "      <th>Polynomial deg 2 LinearRegression</th>\n",
       "      <td>0.999991</td>\n",
       "      <td>0.999951</td>\n",
       "      <td>0.999960</td>\n",
       "      <td>0.990521</td>\n",
       "    </tr>\n",
       "    <tr>\n",
       "      <th>Polynomial deg 2 Ridge Regression</th>\n",
       "      <td>0.999956</td>\n",
       "      <td>0.999882</td>\n",
       "      <td>0.999968</td>\n",
       "      <td>0.997541</td>\n",
       "    </tr>\n",
       "    <tr>\n",
       "      <th>Ridge</th>\n",
       "      <td>0.999955</td>\n",
       "      <td>0.999963</td>\n",
       "      <td>0.999952</td>\n",
       "      <td>0.999940</td>\n",
       "    </tr>\n",
       "    <tr>\n",
       "      <th>SVM</th>\n",
       "      <td>0.136614</td>\n",
       "      <td>0.131427</td>\n",
       "      <td>0.120336</td>\n",
       "      <td>0.025699</td>\n",
       "    </tr>\n",
       "    <tr>\n",
       "      <th>SVM without kernel</th>\n",
       "      <td>0.136621</td>\n",
       "      <td>0.131439</td>\n",
       "      <td>0.120395</td>\n",
       "      <td>0.025645</td>\n",
       "    </tr>\n",
       "  </tbody>\n",
       "</table>\n",
       "</div>"
      ],
      "text/plain": [
       "                                   Train Score  Test Score  \\\n",
       "K-neighbors regression                0.996492    0.996019   \n",
       "Lasso                                 0.999933    0.999940   \n",
       "LinearRegression                      0.999956    0.999965   \n",
       "Polynomial deg 2 Lasso Regression     0.999987    0.999974   \n",
       "Polynomial deg 2 LinearRegression     0.999991    0.999951   \n",
       "Polynomial deg 2 Ridge Regression     0.999956    0.999882   \n",
       "Ridge                                 0.999955    0.999963   \n",
       "SVM                                   0.136614    0.131427   \n",
       "SVM without kernel                    0.136621    0.131439   \n",
       "\n",
       "                                   (Cross_Validation_Train_Score,)  \\\n",
       "K-neighbors regression                                    0.991331   \n",
       "Lasso                                                     0.999930   \n",
       "LinearRegression                                          0.999953   \n",
       "Polynomial deg 2 Lasso Regression                         0.999568   \n",
       "Polynomial deg 2 LinearRegression                         0.999960   \n",
       "Polynomial deg 2 Ridge Regression                         0.999968   \n",
       "Ridge                                                     0.999952   \n",
       "SVM                                                       0.120336   \n",
       "SVM without kernel                                        0.120395   \n",
       "\n",
       "                                   (Cross_Validation_Test_Score,)  \n",
       "K-neighbors regression                                   0.978376  \n",
       "Lasso                                                    0.999923  \n",
       "LinearRegression                                         0.999957  \n",
       "Polynomial deg 2 Lasso Regression                        0.999909  \n",
       "Polynomial deg 2 LinearRegression                        0.990521  \n",
       "Polynomial deg 2 Ridge Regression                        0.997541  \n",
       "Ridge                                                    0.999940  \n",
       "SVM                                                      0.025699  \n",
       "SVM without kernel                                       0.025645  "
      ]
     },
     "execution_count": 37,
     "metadata": {},
     "output_type": "execute_result"
    }
   ],
   "source": [
    "df = pd.DataFrame(scores).T\n",
    "df.columns = ['Train Score','Test Score']\n",
    "df = pd.concat([df,pd.DataFrame(cv_s,index = [['Cross_Validation_Train_Score','Cross_Validation_Test_Score']]).T],axis=1, join='inner')\n",
    "df"
   ]
  },
  {
   "cell_type": "markdown",
   "metadata": {},
   "source": [
    "I think the Polynomial deg 2 Lasso Regression is the best model."
   ]
  },
  {
   "cell_type": "markdown",
   "metadata": {},
   "source": [
    "### Prediction"
   ]
  },
  {
   "cell_type": "code",
   "execution_count": 38,
   "metadata": {},
   "outputs": [],
   "source": [
    "#Compared the cross_val_score,we set my model to PolynomialRegression\n",
    "poly = PolynomialFeatures(degree=2)\n",
    "#poly.fit(X)\n",
    "test_data = test.drop('Date',axis = 1)\n",
    "test_poly = poly.fit_transform(test_data)\n",
    "y_pred = linlasso.predict(test_poly)\n",
    "r=pd.DataFrame()\n",
    "r['btc_market_price before scale']=y_pred"
   ]
  },
  {
   "cell_type": "code",
   "execution_count": 39,
   "metadata": {},
   "outputs": [
    {
     "name": "stdout",
     "output_type": "stream",
     "text": [
      "Polynomial Lasso Regression\n",
      "Train score: 0.9998945619610313\n",
      "Test score: 0.9998988540655782\n"
     ]
    }
   ],
   "source": [
    "poly = PolynomialFeatures(degree=2)\n",
    "X_poly = poly.fit_transform(X)\n",
    "X_train_py, X_test_py, y_train, y_test = train_test_split(X_poly, y, test_size = 0.2, random_state = 20)\n",
    "X_train_py = scaler.fit_transform(X_train_py)\n",
    "X_test_py = scaler.transform(X_test_py)\n",
    "\n",
    "linlasso = Lasso()\n",
    "linlasso.fit(X_train_py, y_train)\n",
    "print('Polynomial Lasso Regression')\n",
    "print('Train score: {}'.format(linlasso.score(X_train_py, y_train)))\n",
    "print('Test score: {}'.format(linlasso.score(X_test_py,y_test)))"
   ]
  },
  {
   "cell_type": "code",
   "execution_count": 40,
   "metadata": {},
   "outputs": [],
   "source": [
    "test = pd.read_csv('test_set.csv')\n",
    "test_data = test.drop('Date',axis = 1)\n",
    "X_poly = poly.transform(test_data)\n",
    "test_poly = scaler.transform(X_poly)\n",
    "r['btc_market_price after scale'] = linlasso.predict(test_poly)"
   ]
  },
  {
   "cell_type": "code",
   "execution_count": 41,
   "metadata": {},
   "outputs": [
    {
     "data": {
      "text/html": [
       "<div>\n",
       "<style scoped>\n",
       "    .dataframe tbody tr th:only-of-type {\n",
       "        vertical-align: middle;\n",
       "    }\n",
       "\n",
       "    .dataframe tbody tr th {\n",
       "        vertical-align: top;\n",
       "    }\n",
       "\n",
       "    .dataframe thead th {\n",
       "        text-align: right;\n",
       "    }\n",
       "</style>\n",
       "<table border=\"1\" class=\"dataframe\">\n",
       "  <thead>\n",
       "    <tr style=\"text-align: right;\">\n",
       "      <th></th>\n",
       "      <th>btc_market_price before scale</th>\n",
       "      <th>btc_market_price after scale</th>\n",
       "    </tr>\n",
       "  </thead>\n",
       "  <tbody>\n",
       "    <tr>\n",
       "      <th>0</th>\n",
       "      <td>9099.921986</td>\n",
       "      <td>9136.020347</td>\n",
       "    </tr>\n",
       "    <tr>\n",
       "      <th>1</th>\n",
       "      <td>8875.222942</td>\n",
       "      <td>9003.339705</td>\n",
       "    </tr>\n",
       "    <tr>\n",
       "      <th>2</th>\n",
       "      <td>9044.489265</td>\n",
       "      <td>9174.150164</td>\n",
       "    </tr>\n",
       "    <tr>\n",
       "      <th>3</th>\n",
       "      <td>8326.734733</td>\n",
       "      <td>8582.665330</td>\n",
       "    </tr>\n",
       "    <tr>\n",
       "      <th>4</th>\n",
       "      <td>6836.485488</td>\n",
       "      <td>6974.159517</td>\n",
       "    </tr>\n",
       "    <tr>\n",
       "      <th>5</th>\n",
       "      <td>7730.150911</td>\n",
       "      <td>7770.067645</td>\n",
       "    </tr>\n",
       "    <tr>\n",
       "      <th>6</th>\n",
       "      <td>8085.951666</td>\n",
       "      <td>8153.761836</td>\n",
       "    </tr>\n",
       "    <tr>\n",
       "      <th>7</th>\n",
       "      <td>8183.653222</td>\n",
       "      <td>8320.466859</td>\n",
       "    </tr>\n",
       "    <tr>\n",
       "      <th>8</th>\n",
       "      <td>8513.888672</td>\n",
       "      <td>8616.173681</td>\n",
       "    </tr>\n",
       "    <tr>\n",
       "      <th>9</th>\n",
       "      <td>8290.446761</td>\n",
       "      <td>8405.952550</td>\n",
       "    </tr>\n",
       "    <tr>\n",
       "      <th>10</th>\n",
       "      <td>8241.562871</td>\n",
       "      <td>8509.702575</td>\n",
       "    </tr>\n",
       "    <tr>\n",
       "      <th>11</th>\n",
       "      <td>8786.607036</td>\n",
       "      <td>8942.533824</td>\n",
       "    </tr>\n",
       "    <tr>\n",
       "      <th>12</th>\n",
       "      <td>8569.110810</td>\n",
       "      <td>8726.800680</td>\n",
       "    </tr>\n",
       "    <tr>\n",
       "      <th>13</th>\n",
       "      <td>9321.826579</td>\n",
       "      <td>9474.659464</td>\n",
       "    </tr>\n",
       "  </tbody>\n",
       "</table>\n",
       "</div>"
      ],
      "text/plain": [
       "    btc_market_price before scale  btc_market_price after scale\n",
       "0                     9099.921986                   9136.020347\n",
       "1                     8875.222942                   9003.339705\n",
       "2                     9044.489265                   9174.150164\n",
       "3                     8326.734733                   8582.665330\n",
       "4                     6836.485488                   6974.159517\n",
       "5                     7730.150911                   7770.067645\n",
       "6                     8085.951666                   8153.761836\n",
       "7                     8183.653222                   8320.466859\n",
       "8                     8513.888672                   8616.173681\n",
       "9                     8290.446761                   8405.952550\n",
       "10                    8241.562871                   8509.702575\n",
       "11                    8786.607036                   8942.533824\n",
       "12                    8569.110810                   8726.800680\n",
       "13                    9321.826579                   9474.659464"
      ]
     },
     "execution_count": 41,
     "metadata": {},
     "output_type": "execute_result"
    }
   ],
   "source": [
    "r"
   ]
  }
 ],
 "metadata": {
  "kernelspec": {
   "display_name": "Python 3",
   "language": "python",
   "name": "python3"
  },
  "language_info": {
   "codemirror_mode": {
    "name": "ipython",
    "version": 3
   },
   "file_extension": ".py",
   "mimetype": "text/x-python",
   "name": "python",
   "nbconvert_exporter": "python",
   "pygments_lexer": "ipython3",
   "version": "3.6.4"
  }
 },
 "nbformat": 4,
 "nbformat_minor": 2
}
